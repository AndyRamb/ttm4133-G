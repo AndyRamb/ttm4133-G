{
 "cells": [
  {
   "cell_type": "markdown",
   "id": "1fb5946a-16b1-433e-b915-1edee34344f1",
   "metadata": {},
   "source": [
    "# Lab 1 - Concept of a Cell and its Coverage\n",
    "<p style='text-align: justify;'> This lab consists of the very basic concepts in the cellular mobile networks covering the design, deployment and coverage patterns of cells. The cells form the basis of a cellular radio network with efficiently planned coverage regions with an aim to cover the pre-determined area and provisioning of optimal performance objectives to cellular users. In simpler words, the relative location of a cellular user with respect to the base station should impact as little as possible on the level of service it expects and receives from the network provider. To this end, we intend to cover the following concepts in this lab:</p>\n",
    "\n",
    "- Cellular Regions (Center, Edge, Out of Coverage)\n",
    "- Cellular Coverage Patterns (Sectors)\n",
    "- Associated channel, propagation and losses (SINR)\n",
    "\n",
    "The scope of this lab is roughly related to <strong>Section 1.7.2</strong> (Page. 26) in the textbook <a href=\"#References\">[1]</a>. However, knowledge about GPRS is required for different tasks in this lab."
   ]
  },
  {
   "cell_type": "markdown",
   "id": "07656b7e-9992-472d-a1b2-8b1fa14cfa95",
   "metadata": {
    "tags": []
   },
   "source": [
    "------------------------------------------------------------------------------------------------------------------------------------------------------------------------------------------------------------------------------\n",
    "# <a id='part1'>Part 1: Getting Used to a Cellular Environment </a>\n",
    "------------------------------------------------------------------------------------------------------------------------------------------------------------------------------------------------------------------------------\n",
    "## <a id='1-intro'>1. Introduction </a>\n",
    "\n",
    "<p style='text-align: justify;'> The concept of a cell can simply be described as the bounded region around the signal transmitter (base station) where the communication is possible for the connected users with the cellular network infrastructure via radio links. There can be different coverage patterns for a cell however, a directed coverage consisting of multiple sectors is the most common model for maximizing the reach and availability of access signal for users across the coverage area. The sectored coverage model with directional access and non-sectored omni directional model with an equal coverage in all directions is presented in <b><a id='fig1'>Figure. 1</a>(a)</b> and <b>(b)</b> respectively.<br>\n",
    "Moreover, users are placed in different locations and relative distances to the transmitting base station. This will have an impact on the received signal power at the user devices depending on the relative distance. Intuitively, the further the user is from the base station, the weaker the signal will get upon its reception. The signal as depicted in <a id='fig1'>Figure. 1</a> shows a stronger strength for warmer colors (yellowish red) and weaker strength for colder colors (blueish purple). In this lab, we intend to explore this behavior by changing the placement of users with respect to the base station.  </p>\n",
    "\n",
    "| |\n",
    "|---|\n",
    "| ![cmap.png](Figures/cmap.png) |\n",
    "\n",
    "<a id = 'fig1'><p style=\"text-align: center;\"><b>Figure. 1: Radio coverage behavior (a) 3-Sector Cell, (b) 1-Sector Cell.</b></p></a>\n",
    "<br>"
   ]
  },
  {
   "cell_type": "markdown",
   "id": "a26c2b43-b7fa-482b-a6d1-5eeecaa9163e",
   "metadata": {},
   "source": [
    "### <a id='1.1-cellularregions'>1.1 Cellular Regions</a>\n",
    "#### 1.1.1 Cell Center\n",
    "<p style='text-align: justify;'>This region of the cell, immediately next to the transmitter, is the center region with the strongest coverage as shown in <a id='fig1'>Figure. 1</a>. The users in this region are expected to receive best possible service in terms of received signal strength, call quality and maximum achievable data rate.</p>\n",
    "\n",
    "#### 1.1.2 Cell Edge\n",
    "<p style='text-align: justify;'>This region of the cell is immediately next to the coverage boundary but still gets sufficient coverage from the transmitter at base station. It receives less signal strength in comparison to the center region of the cell as shown in <a id='fig1'>Figure. 1</a>. The users in this region are expected to receive average (or below average) service in terms of received signal strength, call quality and maximum achievable data rate.</p>\n",
    "\n",
    "#### 1.1.3 No Coverage\n",
    "<p style='text-align: justify;'>This region in the cell is where no service is expected to be delivered and the connection of a user with the base station becomes infeasible due to extremely low signal strength. The coldest regions (blueish purple) are the no-coverage regions as shown in <a id='fig1'>Figure. 1</a>.</p>"
   ]
  },
  {
   "cell_type": "markdown",
   "id": "5a4a2055-0f42-4b57-8ad5-4767d6b5f5ef",
   "metadata": {},
   "source": [
    "### <a id='1.2-cellularparams'>1.2 Cellular Parameter</a>\n",
    "In this lab, we will consider a set of parameters for evaluating the performance of a cellular environment. The designed tasks intend to explore these parameters and their impact on the performance parameters.\n",
    "\n",
    "- <b>Transmit Power of Base Station</b>\n",
    "- <b> Coverage Model</b>"
   ]
  },
  {
   "cell_type": "markdown",
   "id": "234fc7bd-3c4f-4219-a250-f44ffb381bba",
   "metadata": {},
   "source": [
    "### <a id='1.3-performparams'>1.3 Performance Measurement Parameters</a>\n",
    "<p style='text-align: justify;'> We will observe 3 parameters to measure the performance of the received signal at the users during the simulation. Signal power and SINR are the main parameters to be considered while concluding anything about signal strength and signal quality is normally only used when signal power and SINR fail to provide the required information about signal strength. These are stated below in <a id='tab1'>Table. 1</a> along with their respective ranges for reference.</p> \n",
    "\n",
    "<a id = 'tab1'>\n",
    "\n",
    "| Connectivity | Signal Power (dBm) | Signal Quality (dB) | SINR (dB) |\n",
    "|--------------|--------------------|---------------------|-----------|\n",
    "| <code style=\"background:lime;color:black\">Excellent</code>    | <code style=\"background:lime;color:black\">>= -80 </code>            | <code style=\"background:lime;color:black\">>= -10 </code>              | <code style=\"background:lime;color:black\">>= 20 </code>     |\n",
    "| <code style=\"background:lightsalmon;color:black\">Good</code>          | <code style=\"background:lightsalmon;color:black\">-80 to -90</code>         | <code style=\"background:lightsalmon;color:black\">-10 to -15</code>          | <code style=\"background:lightsalmon;color:black\">13 to 20</code>  |\n",
    "| <code style=\"background:coral;color:black\">Medium</code>       | <code style=\"background:coral;color:black\">-90 to -100</code>        | <code style=\"background:coral;color:black\">-15 to -20</code>          | <code style=\"background:coral;color:black\">0 to 13</code>   |\n",
    "| <code style=\"background:black;color:white\">Weak</code>         | <code style=\"background:black;color:white\"><= -100</code>            | <code style=\"background:black;color:white\">< -20</code>               | <code style=\"background:black;color:white\"><= 0</code>      |\n",
    "<p style=\"text-align: center;\"><b>Table. 1: Reference connectivity state for different ranges. <a href=\"#References\">[2]</b></p> </a>\n",
    "\n",
    "> <b>Note:</b> The values for these parameters are negative and mathematically -70dBm is considered better than -80dBm. Another important consideration regarding the dB scale is how the values scale and what they signify. The values in dB and dBm scale as per values in linear scale. For example, a value of 0dB corresponds to a linear value of 1 and for the same linear set of values, every increase of 3dB corresponds to a doubling of values in linear scale.<br>"
   ]
  },
  {
   "attachments": {
    "bc6ffe7c-5667-48af-9526-285173fd61ad.png": {
     "image/png": "[encoded data removed]"
    }
   },
   "cell_type": "markdown",
   "id": "a1d7300f-bfb1-4b8d-a475-2b4dab70909d",
   "metadata": {},
   "source": [
    "## <a id='2-exampcellular'>2. Example Cellular Topology</a>\n",
    "<p style='text-align: justify;'>In this example scenario, we utilize the topology shown in <a id='fig2'>Figure. 2</a> to simulate the cellular network for 3 users within the coverage of a single cell with uniform distribution of signal in all directions. We utilize a distance-dependent signal propagation model in the wireless radio channel to model signal propagation and reception losses for different users. The signal strength received at the user terminals is dependent on the initial transmit power selected at the transmitter installed at the base station.</p> \n",
    "\n",
    "| |\n",
    "|---|\n",
    "| ![cmap-single.png](attachment:bc6ffe7c-5667-48af-9526-285173fd61ad.png) |\n",
    "<a id = 'fig2'><p style=\"text-align: center;\"><b>Figure. 2: A single transmitter at the cell center (eNB Transmit Power = 40dB). </b></p></a>\n",
    "<br>"
   ]
  },
  {
   "cell_type": "markdown",
   "id": "671e9155-ad41-45ce-8cb2-6c303595cdb3",
   "metadata": {
    "tags": []
   },
   "source": [
    "### <a id='s1'>2.1: Running a simulation with omnidirectional cell</a>\n",
    "Firstly, we will look at an omnidirectional cell and run some simulations with it. This python script is designed to execute the underlying ns-3 simulation in order to instantiate, simulate and collect results in this jupyter notebook interface. The script requires the following inputs from the user in order to configure the parameters specified in <b> <a id='1.2-cellularparams'>Section 1.2</a></b>. \n",
    "\n",
    "- **Sectors** (<u>yes</u> for having sectors & <u>no</u> for having omni directional eNB transmitters)\n",
    "- **eNB transmit power** (choose a value of 40dBm for this task)\n",
    "\n",
    "> <b>Note:</b> During first execution of the python script, ns-3 builds its libraries which can take a long time (should not be more than 10mins) based on resource availability. In contrast, for each subsequent run, the process should be fairly quick. "
   ]
  },
  {
   "cell_type": "code",
   "execution_count": 67,
   "id": "63645e8a-b211-4945-a92d-d025532cf63d",
   "metadata": {},
   "outputs": [
    {
     "name": "stdout",
     "output_type": "stream",
     "text": [
      "Simulation will now begin shortly...\n",
      "Please enter the following required parameters:\n",
      "Do you want to have sectors in the cell?(yes OR no OR y OR n)\n"
     ]
    },
    {
     "name": "stdin",
     "output_type": "stream",
     "text": [
      " n\n"
     ]
    },
    {
     "name": "stdout",
     "output_type": "stream",
     "text": [
      "Enter the value of eNB transmit power: (between 15 and 45dBm)\n"
     ]
    },
    {
     "name": "stdin",
     "output_type": "stream",
     "text": [
      " 40\n"
     ]
    },
    {
     "name": "stdout",
     "output_type": "stream",
     "text": [
      "The simulation parameters are : \n",
      "Sectors =  False , eNB TxPower =  40.0\n",
      "Simulations started... (1/2)\n"
     ]
    },
    {
     "name": "stderr",
     "output_type": "stream",
     "text": [
      "Building ns-3: 100%|██████████| 2797/2797 [00:16<00:00,  3.38file/s]\n",
      "Running simulations: 100%|██████████| 1/1 [00:00<00:00,  1.39simulation/s]\n"
     ]
    },
    {
     "name": "stdout",
     "output_type": "stream",
     "text": [
      "Simulations completed. (1/2)\n",
      "Simulations started... (2/2)\n"
     ]
    },
    {
     "name": "stderr",
     "output_type": "stream",
     "text": [
      "Running simulations: 100%|██████████| 1/1 [00:00<00:00,  1.41simulation/s]"
     ]
    },
    {
     "name": "stdout",
     "output_type": "stream",
     "text": [
      "Simulations completed. (2/2)\n"
     ]
    },
    {
     "name": "stderr",
     "output_type": "stream",
     "text": [
      "\n"
     ]
    }
   ],
   "source": [
    "# In this part we'll want an omnidirectional cell\n",
    "%run -i 'Modules/lab1-init.py'"
   ]
  },
  {
   "cell_type": "markdown",
   "id": "15ceeedd-1ee0-42d6-b081-5b9d942dd466",
   "metadata": {},
   "source": [
    "After the successful completion of ns-3 simulation, a series of variables are made available to the notebook to be utilized for evaluation of the obtained results. The results are extracted using <b><a id='s2'>step 2</a></b>. "
   ]
  },
  {
   "cell_type": "markdown",
   "id": "7baad724-1d44-471d-9102-3e42303c961d",
   "metadata": {
    "tags": []
   },
   "source": [
    "### <a id='s2'>2.2: Querying relevant simulation results</a>\n",
    "This step involves the search and retrieval of the relevant results as dictated by the parameter variable. The queried results can be displayed using the <b>display(variable_name)</b> command in python."
   ]
  },
  {
   "cell_type": "code",
   "execution_count": 68,
   "id": "089a4258-ae5b-4a70-9b9d-6990955845f5",
   "metadata": {},
   "outputs": [
    {
     "name": "stdout",
     "output_type": "stream",
     "text": [
      "There are 1 results in the database\n",
      "\n",
      "There are 1 results in the database\n",
      "\n"
     ]
    }
   ],
   "source": [
    "params_signalpower = {\n",
    "    'enablesignalpower': True,\n",
    "    'enableSectors': sectors,\n",
    "    'bsTxPower': txpower,\n",
    "    'runId': runid,\n",
    "}\n",
    "\n",
    "params_sinr = {\n",
    "    'enablesinr': True,\n",
    "    'enableSectors': sectors,\n",
    "    'bsTxPower': txpower,\n",
    "    'runId': runid,\n",
    "}\n",
    "\n",
    "result_signalpower = campaign.db.get_complete_results(params=params_signalpower)\n",
    "result_sinr = campaign1.db.get_complete_results(params=params_sinr)\n",
    "\n",
    "print(\"There are %s results in the database\\n\" % len(list(result_signalpower)))\n",
    "print(\"There are %s results in the database\\n\" % len(list(result_sinr)))"
   ]
  },
  {
   "cell_type": "markdown",
   "id": "33bd3bc8-96fa-4159-88dd-b0d40176cdac",
   "metadata": {},
   "source": [
    "The results will be available in the following variables for further processing after completion of a ns-3 simulation, \n",
    "- **result_signalpower** provides information regarding received signal power and signal quality for cellular users. \n",
    "- **result_sinr** provides information regarding received signal power and interference experienced by the cellular users. \n",
    "- **result_throughput** provides information regarding averaged user throughput in downlink and uplink for cellular users.\n",
    "\n",
    "In addition, we also have the variables named <b>campaign</b> and <b>campaign1</b>which are from the `lab1-init.py` containing the simulation objects for the ns-3 simulations. We use them here to obtain the results using the simulation objects. \n",
    "\n",
    "> Note: Users are identified in the simulations by their unique <b>RNTI</b> (since the back-end architecture is LTE) values in the current serving cell. For example, a user ID of <u>user14</u> means that the user has an RNTI of <u>4</u> and is connected to the cell with id <u>1</u>. Moreover, these values are subject to change in different simulation runs."
   ]
  },
  {
   "cell_type": "code",
   "execution_count": 69,
   "id": "19f70f4b-6c14-4531-ab36-d9a1940af8fa",
   "metadata": {},
   "outputs": [
    {
     "data": {
      "text/plain": [
       "[{'params': {'enablesignalpower': True,\n",
       "   'enableSectors': False,\n",
       "   'bsTxPower': 40.0,\n",
       "   'runId': 95,\n",
       "   'SharedMemoryKey': '1234',\n",
       "   'SharedMemoryPoolSize': '4096',\n",
       "   'enableTput': False,\n",
       "   'enableRem': False,\n",
       "   'enbBw': 6.0,\n",
       "   'enableInstTput': False,\n",
       "   'enablesinr': False,\n",
       "   'RngRun': 0},\n",
       "  'meta': {'id': '71703b22-438d-4d8d-9188-be3f9794b50c',\n",
       "   'elapsed_time': 0.6301844120025635,\n",
       "   'exitcode': 0,\n",
       "   'log_components': None},\n",
       "  'output': {'stdout': '#     time  cellID    rnti        rsrp        rsrq\\n  0.200000      1      0    -126.056886           -nan\\n  0.200000      1      0    -133.191510           -nan\\n  0.200000      1      0     -90.690357           -nan\\n  0.300000      1      3    -126.056886      -7.654131\\n  0.300000      1      0    -133.191510     -13.380997\\n  0.300000      1      1     -90.690357      -3.012714\\n  0.400000      1      3    -126.056886      -7.654131\\n  0.400000      1      0    -133.191510     -13.380997\\n  0.400000      1      1     -90.690357      -3.012714\\n  0.500000      1      3    -126.056886      -7.654131\\n  0.500000      1      0    -133.191510     -13.380997\\n  0.500000      1      1     -90.690357      -3.012714\\n  0.600000      1      3    -126.056886      -7.654131\\n  0.600000      1      5    -133.191510     -13.380997\\n  0.600000      1      1     -90.690357      -3.012714\\n  0.700000      1      3    -126.056886      -7.654131\\n  0.700000      1      5    -133.191510     -13.380997\\n  0.700000      1      1     -90.690357      -3.012714\\n  0.800000      1      3    -126.056886      -7.654131\\n  0.800000      1      5    -133.191510     -13.380997\\n  0.800000      1      1     -90.690357      -3.012714\\n  0.900000      1      3    -126.056886      -7.654131\\n  0.900000      1      5    -133.191510     -13.380997\\n  0.900000      1      1     -90.690357      -3.012714\\n  1.000000      1      3    -126.056886      -7.654131\\n  1.000000      1      5    -133.191510     -13.380997\\n  1.000000      1      1     -90.690357      -3.012714\\n  1.100000      1      3    -126.056886      -7.654131\\n  1.100000      1      5    -133.191510     -13.380997\\n  1.100000      1      1     -90.690357      -3.012714\\n  1.200000      1      3    -126.056886      -7.654131\\n  1.200000      1      5    -133.191510     -13.380997\\n  1.200000      1      1     -90.690357      -3.012714\\n  1.300000      1      3    -126.056886      -7.654131\\n  1.300000      1      5    -133.191510     -13.380997\\n  1.300000      1      1     -90.690357      -3.012714\\n  1.400000      1      3    -126.056886      -7.654131\\n  1.400000      1      5    -133.191510     -13.380997\\n  1.400000      1      1     -90.690357      -3.012714\\n  1.500000      1      3    -126.056886      -7.654131\\n  1.500000      1      5    -133.191510     -13.380997\\n  1.500000      1      1     -90.690357      -3.012714\\n  1.600000      1      3    -126.056886      -7.654131\\n  1.600000      1      5    -133.191510     -13.380997\\n  1.600000      1      1     -90.690357      -3.012714\\n  1.700000      1      3    -126.056886      -7.654131\\n  1.700000      1      5    -133.191510     -13.380997\\n  1.700000      1      1     -90.690357      -3.012714\\n  1.800000      1      3    -126.056886      -7.654131\\n  1.800000      1      5    -133.191510     -13.380997\\n  1.800000      1      1     -90.690357      -3.012714\\n  1.900000      1      3    -126.056886      -7.654131\\n  1.900000      1      5    -133.191510     -13.380997\\n  1.900000      1      1     -90.690357      -3.012714\\n',\n",
       "   'stderr': ''}}]"
      ]
     },
     "metadata": {},
     "output_type": "display_data"
    }
   ],
   "source": [
    "display(result_signalpower)"
   ]
  },
  {
   "cell_type": "markdown",
   "id": "c64bc219-2909-4038-8710-151b93787f4a",
   "metadata": {},
   "source": [
    "The available variables, as in Lab0, require pre-processing in order to make them presentable in a jupyter notebook. Hence, a python script is designed to perform this task in <b><a id='s3'>Step 3</a></b>. "
   ]
  },
  {
   "cell_type": "markdown",
   "id": "ffe8fead-745c-46fa-95d1-ab2d7f1ba9c3",
   "metadata": {},
   "source": [
    "### <a id='s3'>2.3: Pre-processing simulation results</a>\n",
    "The results obtained from ns-3 require some pre-processing and cleaning in order to perform visualization on the data. This is implemented in the `lab1-dataPre.py` script. The results for the received signal parameters are available in variables after execution of this script (i.e., **res_signalpower** and **res_sinr** for signal power and sinr respectively).</p>"
   ]
  },
  {
   "cell_type": "code",
   "execution_count": 70,
   "id": "5d75c245-2310-4f7e-843e-46f860b81e1a",
   "metadata": {},
   "outputs": [],
   "source": [
    "%run -i 'Modules/lab1-dataPre.py'\n",
    "# dataframes for visualizing respective results\n",
    "# res_signalpower for RSRP and RSRQ\n",
    "# res_sinr for SINR\n",
    "\n",
    "# A new set of variables introduced to utilize the results of omni directional simulation for comparison (if required) \n",
    "omni_res_signalpower = res_signalpower\n",
    "omni_res_sinr = res_sinr"
   ]
  },
  {
   "cell_type": "markdown",
   "id": "8a0d5397-e5ef-4bd2-a9ab-8af8223fbb77",
   "metadata": {},
   "source": [
    "It is expected that the data will be cleaner now. This can be verified by displaying samples from the signal power and SINR variables. As shown in Lab0, dataframes provide flexible querying of different data fields. This has been utilized to analyze the some data samples after data cleaning for *user 11*. This approach can be extended for other users as well by extracting their user id from the simulation results. "
   ]
  },
  {
   "cell_type": "code",
   "execution_count": 74,
   "id": "c0159203-0d21-4c56-9212-7d847622e494",
   "metadata": {},
   "outputs": [
    {
     "data": {
      "text/html": [
       "<div>\n",
       "<style scoped>\n",
       "    .dataframe tbody tr th:only-of-type {\n",
       "        vertical-align: middle;\n",
       "    }\n",
       "\n",
       "    .dataframe tbody tr th {\n",
       "        vertical-align: top;\n",
       "    }\n",
       "\n",
       "    .dataframe thead th {\n",
       "        text-align: right;\n",
       "    }\n",
       "</style>\n",
       "<table border=\"1\" class=\"dataframe\">\n",
       "  <thead>\n",
       "    <tr style=\"text-align: right;\">\n",
       "      <th></th>\n",
       "      <th></th>\n",
       "      <th>time</th>\n",
       "      <th>sig_power</th>\n",
       "      <th>uid</th>\n",
       "    </tr>\n",
       "  </thead>\n",
       "  <tbody>\n",
       "    <tr>\n",
       "      <th rowspan=\"17\" valign=\"top\">user11</th>\n",
       "      <th>0</th>\n",
       "      <td>0.3</td>\n",
       "      <td>-90.690357</td>\n",
       "      <td>user11</td>\n",
       "    </tr>\n",
       "    <tr>\n",
       "      <th>1</th>\n",
       "      <td>0.4</td>\n",
       "      <td>-90.690357</td>\n",
       "      <td>user11</td>\n",
       "    </tr>\n",
       "    <tr>\n",
       "      <th>2</th>\n",
       "      <td>0.5</td>\n",
       "      <td>-90.690357</td>\n",
       "      <td>user11</td>\n",
       "    </tr>\n",
       "    <tr>\n",
       "      <th>3</th>\n",
       "      <td>0.6</td>\n",
       "      <td>-90.690357</td>\n",
       "      <td>user11</td>\n",
       "    </tr>\n",
       "    <tr>\n",
       "      <th>4</th>\n",
       "      <td>0.7</td>\n",
       "      <td>-90.690357</td>\n",
       "      <td>user11</td>\n",
       "    </tr>\n",
       "    <tr>\n",
       "      <th>5</th>\n",
       "      <td>0.8</td>\n",
       "      <td>-90.690357</td>\n",
       "      <td>user11</td>\n",
       "    </tr>\n",
       "    <tr>\n",
       "      <th>6</th>\n",
       "      <td>0.9</td>\n",
       "      <td>-90.690357</td>\n",
       "      <td>user11</td>\n",
       "    </tr>\n",
       "    <tr>\n",
       "      <th>7</th>\n",
       "      <td>1.0</td>\n",
       "      <td>-90.690357</td>\n",
       "      <td>user11</td>\n",
       "    </tr>\n",
       "    <tr>\n",
       "      <th>8</th>\n",
       "      <td>1.1</td>\n",
       "      <td>-90.690357</td>\n",
       "      <td>user11</td>\n",
       "    </tr>\n",
       "    <tr>\n",
       "      <th>9</th>\n",
       "      <td>1.2</td>\n",
       "      <td>-90.690357</td>\n",
       "      <td>user11</td>\n",
       "    </tr>\n",
       "    <tr>\n",
       "      <th>10</th>\n",
       "      <td>1.3</td>\n",
       "      <td>-90.690357</td>\n",
       "      <td>user11</td>\n",
       "    </tr>\n",
       "    <tr>\n",
       "      <th>11</th>\n",
       "      <td>1.4</td>\n",
       "      <td>-90.690357</td>\n",
       "      <td>user11</td>\n",
       "    </tr>\n",
       "    <tr>\n",
       "      <th>12</th>\n",
       "      <td>1.5</td>\n",
       "      <td>-90.690357</td>\n",
       "      <td>user11</td>\n",
       "    </tr>\n",
       "    <tr>\n",
       "      <th>13</th>\n",
       "      <td>1.6</td>\n",
       "      <td>-90.690357</td>\n",
       "      <td>user11</td>\n",
       "    </tr>\n",
       "    <tr>\n",
       "      <th>14</th>\n",
       "      <td>1.7</td>\n",
       "      <td>-90.690357</td>\n",
       "      <td>user11</td>\n",
       "    </tr>\n",
       "    <tr>\n",
       "      <th>15</th>\n",
       "      <td>1.8</td>\n",
       "      <td>-90.690357</td>\n",
       "      <td>user11</td>\n",
       "    </tr>\n",
       "    <tr>\n",
       "      <th>16</th>\n",
       "      <td>1.9</td>\n",
       "      <td>-90.690357</td>\n",
       "      <td>user11</td>\n",
       "    </tr>\n",
       "    <tr>\n",
       "      <th rowspan=\"17\" valign=\"top\">user13</th>\n",
       "      <th>0</th>\n",
       "      <td>0.3</td>\n",
       "      <td>-126.056886</td>\n",
       "      <td>user13</td>\n",
       "    </tr>\n",
       "    <tr>\n",
       "      <th>1</th>\n",
       "      <td>0.4</td>\n",
       "      <td>-126.056886</td>\n",
       "      <td>user13</td>\n",
       "    </tr>\n",
       "    <tr>\n",
       "      <th>2</th>\n",
       "      <td>0.5</td>\n",
       "      <td>-126.056886</td>\n",
       "      <td>user13</td>\n",
       "    </tr>\n",
       "    <tr>\n",
       "      <th>3</th>\n",
       "      <td>0.6</td>\n",
       "      <td>-126.056886</td>\n",
       "      <td>user13</td>\n",
       "    </tr>\n",
       "    <tr>\n",
       "      <th>4</th>\n",
       "      <td>0.7</td>\n",
       "      <td>-126.056886</td>\n",
       "      <td>user13</td>\n",
       "    </tr>\n",
       "    <tr>\n",
       "      <th>5</th>\n",
       "      <td>0.8</td>\n",
       "      <td>-126.056886</td>\n",
       "      <td>user13</td>\n",
       "    </tr>\n",
       "    <tr>\n",
       "      <th>6</th>\n",
       "      <td>0.9</td>\n",
       "      <td>-126.056886</td>\n",
       "      <td>user13</td>\n",
       "    </tr>\n",
       "    <tr>\n",
       "      <th>7</th>\n",
       "      <td>1.0</td>\n",
       "      <td>-126.056886</td>\n",
       "      <td>user13</td>\n",
       "    </tr>\n",
       "    <tr>\n",
       "      <th>8</th>\n",
       "      <td>1.1</td>\n",
       "      <td>-126.056886</td>\n",
       "      <td>user13</td>\n",
       "    </tr>\n",
       "    <tr>\n",
       "      <th>9</th>\n",
       "      <td>1.2</td>\n",
       "      <td>-126.056886</td>\n",
       "      <td>user13</td>\n",
       "    </tr>\n",
       "    <tr>\n",
       "      <th>10</th>\n",
       "      <td>1.3</td>\n",
       "      <td>-126.056886</td>\n",
       "      <td>user13</td>\n",
       "    </tr>\n",
       "    <tr>\n",
       "      <th>11</th>\n",
       "      <td>1.4</td>\n",
       "      <td>-126.056886</td>\n",
       "      <td>user13</td>\n",
       "    </tr>\n",
       "    <tr>\n",
       "      <th>12</th>\n",
       "      <td>1.5</td>\n",
       "      <td>-126.056886</td>\n",
       "      <td>user13</td>\n",
       "    </tr>\n",
       "    <tr>\n",
       "      <th>13</th>\n",
       "      <td>1.6</td>\n",
       "      <td>-126.056886</td>\n",
       "      <td>user13</td>\n",
       "    </tr>\n",
       "    <tr>\n",
       "      <th>14</th>\n",
       "      <td>1.7</td>\n",
       "      <td>-126.056886</td>\n",
       "      <td>user13</td>\n",
       "    </tr>\n",
       "    <tr>\n",
       "      <th>15</th>\n",
       "      <td>1.8</td>\n",
       "      <td>-126.056886</td>\n",
       "      <td>user13</td>\n",
       "    </tr>\n",
       "    <tr>\n",
       "      <th>16</th>\n",
       "      <td>1.9</td>\n",
       "      <td>-126.056886</td>\n",
       "      <td>user13</td>\n",
       "    </tr>\n",
       "    <tr>\n",
       "      <th rowspan=\"14\" valign=\"top\">user15</th>\n",
       "      <th>0</th>\n",
       "      <td>0.6</td>\n",
       "      <td>-133.191510</td>\n",
       "      <td>user15</td>\n",
       "    </tr>\n",
       "    <tr>\n",
       "      <th>1</th>\n",
       "      <td>0.7</td>\n",
       "      <td>-133.191510</td>\n",
       "      <td>user15</td>\n",
       "    </tr>\n",
       "    <tr>\n",
       "      <th>2</th>\n",
       "      <td>0.8</td>\n",
       "      <td>-133.191510</td>\n",
       "      <td>user15</td>\n",
       "    </tr>\n",
       "    <tr>\n",
       "      <th>3</th>\n",
       "      <td>0.9</td>\n",
       "      <td>-133.191510</td>\n",
       "      <td>user15</td>\n",
       "    </tr>\n",
       "    <tr>\n",
       "      <th>4</th>\n",
       "      <td>1.0</td>\n",
       "      <td>-133.191510</td>\n",
       "      <td>user15</td>\n",
       "    </tr>\n",
       "    <tr>\n",
       "      <th>5</th>\n",
       "      <td>1.1</td>\n",
       "      <td>-133.191510</td>\n",
       "      <td>user15</td>\n",
       "    </tr>\n",
       "    <tr>\n",
       "      <th>6</th>\n",
       "      <td>1.2</td>\n",
       "      <td>-133.191510</td>\n",
       "      <td>user15</td>\n",
       "    </tr>\n",
       "    <tr>\n",
       "      <th>7</th>\n",
       "      <td>1.3</td>\n",
       "      <td>-133.191510</td>\n",
       "      <td>user15</td>\n",
       "    </tr>\n",
       "    <tr>\n",
       "      <th>8</th>\n",
       "      <td>1.4</td>\n",
       "      <td>-133.191510</td>\n",
       "      <td>user15</td>\n",
       "    </tr>\n",
       "    <tr>\n",
       "      <th>9</th>\n",
       "      <td>1.5</td>\n",
       "      <td>-133.191510</td>\n",
       "      <td>user15</td>\n",
       "    </tr>\n",
       "    <tr>\n",
       "      <th>10</th>\n",
       "      <td>1.6</td>\n",
       "      <td>-133.191510</td>\n",
       "      <td>user15</td>\n",
       "    </tr>\n",
       "    <tr>\n",
       "      <th>11</th>\n",
       "      <td>1.7</td>\n",
       "      <td>-133.191510</td>\n",
       "      <td>user15</td>\n",
       "    </tr>\n",
       "    <tr>\n",
       "      <th>12</th>\n",
       "      <td>1.8</td>\n",
       "      <td>-133.191510</td>\n",
       "      <td>user15</td>\n",
       "    </tr>\n",
       "    <tr>\n",
       "      <th>13</th>\n",
       "      <td>1.9</td>\n",
       "      <td>-133.191510</td>\n",
       "      <td>user15</td>\n",
       "    </tr>\n",
       "  </tbody>\n",
       "</table>\n",
       "</div>"
      ],
      "text/plain": [
       "           time   sig_power     uid\n",
       "user11 0    0.3  -90.690357  user11\n",
       "       1    0.4  -90.690357  user11\n",
       "       2    0.5  -90.690357  user11\n",
       "       3    0.6  -90.690357  user11\n",
       "       4    0.7  -90.690357  user11\n",
       "       5    0.8  -90.690357  user11\n",
       "       6    0.9  -90.690357  user11\n",
       "       7    1.0  -90.690357  user11\n",
       "       8    1.1  -90.690357  user11\n",
       "       9    1.2  -90.690357  user11\n",
       "       10   1.3  -90.690357  user11\n",
       "       11   1.4  -90.690357  user11\n",
       "       12   1.5  -90.690357  user11\n",
       "       13   1.6  -90.690357  user11\n",
       "       14   1.7  -90.690357  user11\n",
       "       15   1.8  -90.690357  user11\n",
       "       16   1.9  -90.690357  user11\n",
       "user13 0    0.3 -126.056886  user13\n",
       "       1    0.4 -126.056886  user13\n",
       "       2    0.5 -126.056886  user13\n",
       "       3    0.6 -126.056886  user13\n",
       "       4    0.7 -126.056886  user13\n",
       "       5    0.8 -126.056886  user13\n",
       "       6    0.9 -126.056886  user13\n",
       "       7    1.0 -126.056886  user13\n",
       "       8    1.1 -126.056886  user13\n",
       "       9    1.2 -126.056886  user13\n",
       "       10   1.3 -126.056886  user13\n",
       "       11   1.4 -126.056886  user13\n",
       "       12   1.5 -126.056886  user13\n",
       "       13   1.6 -126.056886  user13\n",
       "       14   1.7 -126.056886  user13\n",
       "       15   1.8 -126.056886  user13\n",
       "       16   1.9 -126.056886  user13\n",
       "user15 0    0.6 -133.191510  user15\n",
       "       1    0.7 -133.191510  user15\n",
       "       2    0.8 -133.191510  user15\n",
       "       3    0.9 -133.191510  user15\n",
       "       4    1.0 -133.191510  user15\n",
       "       5    1.1 -133.191510  user15\n",
       "       6    1.2 -133.191510  user15\n",
       "       7    1.3 -133.191510  user15\n",
       "       8    1.4 -133.191510  user15\n",
       "       9    1.5 -133.191510  user15\n",
       "       10   1.6 -133.191510  user15\n",
       "       11   1.7 -133.191510  user15\n",
       "       12   1.8 -133.191510  user15\n",
       "       13   1.9 -133.191510  user15"
      ]
     },
     "metadata": {},
     "output_type": "display_data"
    },
    {
     "name": "stdout",
     "output_type": "stream",
     "text": [
      "               time       sinr     uid\n",
      "user11 0   0.299214  32.548731  user11\n",
      "       1   0.399214  32.548731  user11\n",
      "       2   0.499214  32.548731  user11\n",
      "       3   0.599214  32.548731  user11\n",
      "       4   0.699214  32.548731  user11\n",
      "       5   0.799214  32.548731  user11\n",
      "       6   0.899214  32.548731  user11\n",
      "       7   0.999214  32.548731  user11\n",
      "       8   1.099214  32.548731  user11\n",
      "       9   1.199214  32.548731  user11\n",
      "       10  1.299214  32.548731  user11\n",
      "       11  1.399214  32.548731  user11\n",
      "       12  1.499214  32.548731  user11\n",
      "       13  1.599214  32.548731  user11\n",
      "       14  1.699214  32.548731  user11\n",
      "       15  1.799214  32.548731  user11\n",
      "       16  1.899214  32.548731  user11\n",
      "       17  1.999214  32.548731  user11\n",
      "user13 0   0.299214  -2.817798  user13\n",
      "       1   0.399214  -2.817798  user13\n",
      "       2   0.499214  -2.817798  user13\n",
      "       3   0.599214  -2.817798  user13\n",
      "       4   0.699214  -2.817798  user13\n",
      "       5   0.799214  -2.817798  user13\n",
      "       6   0.899214  -2.817798  user13\n",
      "       7   0.999214  -2.817798  user13\n",
      "       8   1.099214  -2.817798  user13\n",
      "       9   1.199214  -2.817798  user13\n",
      "       10  1.299214  -2.817798  user13\n",
      "       11  1.399214  -2.817798  user13\n",
      "       12  1.499214  -2.817798  user13\n",
      "       13  1.599214  -2.817798  user13\n",
      "       14  1.699214  -2.817798  user13\n",
      "       15  1.799214  -2.817798  user13\n",
      "       16  1.899214  -2.817798  user13\n",
      "       17  1.999214  -2.817798  user13\n",
      "user15 0   0.599214  -9.952423  user15\n",
      "       1   0.699214  -9.952423  user15\n",
      "       2   0.799214  -9.952423  user15\n",
      "       3   0.899214  -9.952423  user15\n",
      "       4   0.999214  -9.952423  user15\n",
      "       5   1.099214  -9.952423  user15\n",
      "       6   1.199214  -9.952423  user15\n",
      "       7   1.299214  -9.952423  user15\n",
      "       8   1.399214  -9.952423  user15\n",
      "       9   1.499214  -9.952423  user15\n",
      "       10  1.599214  -9.952423  user15\n",
      "       11  1.699214  -9.952423  user15\n",
      "       12  1.799214  -9.952423  user15\n",
      "       13  1.899214  -9.952423  user15\n",
      "       14  1.999214  -9.952423  user15\n"
     ]
    }
   ],
   "source": [
    "display(res_signalpower)\n",
    "print(res_sinr.to_string())"
   ]
  },
  {
   "cell_type": "markdown",
   "id": "f75d28e1-0ef3-4b52-8117-d7f3a032f081",
   "metadata": {},
   "source": [
    "### <a id='s4'>2.4: Visualizing the simulation results</a>\n",
    "At this point, the results are available to be viewed using any python plotting library. We utilize seaborn to do this with the results variables we extracted in <a id='s3'>Step 3</a>.\n",
    "\n",
    "> Note: Users are identified in the simulations by their unique <b>RNTI</b> (since the back-end architecture is LTE) values in the current serving cell. For example, a user ID of <u>user14</u> means that the user has an RNTI of <u>4</u> and is connected to the cell with id <u>1</u>. Moreover, these values are subject to change in different simulation runs.\n"
   ]
  },
  {
   "cell_type": "code",
   "execution_count": 72,
   "id": "86ba3997-6d42-48c7-96d1-bf3c2acbd47f",
   "metadata": {},
   "outputs": [
    {
     "data": {
      "image/png": "[encoded data removed]",
      "text/plain": [
       "<Figure size 4000x1000 with 2 Axes>"
      ]
     },
     "metadata": {},
     "output_type": "display_data"
    }
   ],
   "source": [
    "sns.set(font_scale=1.5)\n",
    "fig, axes = plt.subplots(1, 2, figsize=(40,10))\n",
    "snsp1 = sns.lineplot(ax=axes[0], data=omni_res_signalpower, x='time', y='sig_power', hue='uid', errorbar=None)\n",
    "snsp1.xaxis.set_major_locator(ticker.LinearLocator(10))\n",
    "snsp1.set( xlabel='Simulation Time (s)', ylabel='Received Signal Power (dBm)')\n",
    "\n",
    "snsp2 =  sns.lineplot(ax=axes[1],data=omni_res_sinr, x='time', y='sinr', hue='uid', errorbar=None)\n",
    "snsp2.xaxis.set_major_locator(ticker.LinearLocator(10))\n",
    "snsp2.set( xlabel='Simulation Time (s)', ylabel='Signal-to-Interference-Noise Ratio (SINR) (dB)')\n",
    "\n",
    "plt.show()"
   ]
  },
  {
   "cell_type": "markdown",
   "id": "0f29bdb6-d9eb-4ff1-9dc1-c3a80f53147f",
   "metadata": {
    "tags": []
   },
   "source": [
    "## <span style=\"color:red\"> <a id='task1'>*Task#1: Reviewing the Sample Topology*</a> </span>"
   ]
  },
  {
   "cell_type": "markdown",
   "id": "bba9476a-6877-4115-9226-d5d6e6fb1b72",
   "metadata": {},
   "source": [
    "### Exercises"
   ]
  },
  {
   "cell_type": "markdown",
   "id": "c9749cda-5a0e-4f23-8324-7e0f3c64412f",
   "metadata": {
    "tags": []
   },
   "source": [
    "#### Q2.5.1a: Identify the signal strength of the users based on performance metric values (signal power and sinr)?\n",
    "> <b>Hint</b>: Use <a id='tab1'>Table 1</a> as a reference, (values are subject to change for each simulation)\n"
   ]
  },
  {
   "cell_type": "markdown",
   "id": "d977a3d7-aed4-4ce1-8b95-3a209107a382",
   "metadata": {},
   "source": [
    "<b>Answer:</b>\n"
   ]
  },
  {
   "cell_type": "markdown",
   "id": "3ff8543f-8e8f-4a74-a011-8b5476649956",
   "metadata": {
    "tags": []
   },
   "source": [
    "#### Q2.5.1b: Identify the user id and location of the users (User 1x, where x is the RNTI of the user as assigned by the base station) based on proximity to the base station as being closest (centre region) and farthest (edge region) for the given topology in Figure 2? Also identify which user in Figure 2 refers to the user id observed in the simulation results?\n",
    "> <b>Hint</b>: Compare values of observed signal power and SINR to assign users to mentioned areas."
   ]
  },
  {
   "cell_type": "markdown",
   "id": "7d4606c6-0826-4a9d-b894-a632acc39201",
   "metadata": {},
   "source": [
    "<b>Answer:</b>\n"
   ]
  },
  {
   "cell_type": "markdown",
   "id": "295a4b66-f63e-4247-b808-0e443e6e5c5d",
   "metadata": {},
   "source": [
    "#### Q2.5.2: What performance can be expected for different users based on the observed measurements? Explain with reference to the performance measurements and simulation results?"
   ]
  },
  {
   "cell_type": "markdown",
   "id": "7ea8e3df-ed1b-4132-ae43-eef9cafbe429",
   "metadata": {},
   "source": [
    "<b>Answer:</b>\n"
   ]
  },
  {
   "cell_type": "markdown",
   "id": "a8a6e9a2-e7d3-4864-a5bd-4909819b6275",
   "metadata": {},
   "source": [
    "#### Q2.5.3: During network access, authentication is performed for users. Why is there a need to get users authenticated in a cellular network?"
   ]
  },
  {
   "cell_type": "markdown",
   "id": "e5b66837-fe88-4176-88a6-500a43cacede",
   "metadata": {},
   "source": [
    "<b>Answer:</b>\n"
   ]
  },
  {
   "cell_type": "markdown",
   "id": "c8f40265-ae90-484d-babc-2826735d98ce",
   "metadata": {},
   "source": [
    "#### Q2.5.4: Which of the users (User 1x, where x is the RNTI of the user as assigned by the base station) would not obtain authentication from the cellular network?"
   ]
  },
  {
   "cell_type": "markdown",
   "id": "48e70c6f-a51b-49fb-8101-35aae02132d7",
   "metadata": {},
   "source": [
    "<b>Answer:</b>\n"
   ]
  },
  {
   "cell_type": "markdown",
   "id": "b90639bc-63cf-4bd8-9ca1-f257e97019f8",
   "metadata": {},
   "source": [
    "---\n",
    "---\n",
    "### <span style=\"color:blue\"> Milestone 1 </span>\n",
    "\n",
    "Before proceeding, **call a TA** to make sure everything went as expected.\n",
    "\n",
    "---\n",
    "---"
   ]
  },
  {
   "cell_type": "markdown",
   "id": "edff6ab6-399c-43ac-968f-99ceaca2ad0a",
   "metadata": {
    "tags": []
   },
   "source": [
    "------------------------------------------------------------------------------------------------------------------------------------------------------------------------------------------------------------------------------\n",
    "# <a id='part2'>Part 2: Exploring the concept of Sectors in a Cell</a>\n",
    "------------------------------------------------------------------------------------------------------------------------------------------------------------------------------------------------------------------------------"
   ]
  },
  {
   "attachments": {
    "63c06d10-970d-43cf-893e-343213ac3bdd.png": {
     "image/png": "[encoded data removed]"
    },
    "ff8d190e-ffba-4ee9-9ad3-918624b98af9.png": {
     "image/png": "[encoded data removed]"
    }
   },
   "cell_type": "markdown",
   "id": "a3ab852e-55e5-4233-9023-799189048ae5",
   "metadata": {
    "tags": []
   },
   "source": [
    "## <span style=\"color:red\"> <a id='task2'>3: *Task#2: Coverage in a Sectored Cell*</a></span>\n",
    "<p style='text-align: justify;'>In deployed cellular networks, omni directional (or single sector cell) with uniform coverage across all directions are rarely utilized. The reason for this is the inefficient radiation of power in all directions. Moreover, the cellular user capacity requires sectored planning of the topologies in order to enhance the total number of serviced users. This sector design is achieved through various mechanisms along with the utilization of directional antennas with techniques such as electrical and mechanical tilting to focus radiated signal in a particular direction. A typical coverage comparison of a directional and omni-directional antenna is shown in <a id='fig3'><b>Figure 3</b>.</a></p>\n",
    "\n",
    "| |\n",
    "|---|\n",
    "| ![coverage_sector_omni.png](attachment:ff8d190e-ffba-4ee9-9ad3-918624b98af9.png) |\n",
    "\n",
    "<a id = 'fig3'><p style=\"text-align: center;\"><b>Figure. 3: Antenna coverage of a sectored and omni cell.</b></p></a>\n",
    "\n",
    "In this task, the simulation scenario will focus on a topology as shown in <a id='fig4'><b>Figure 4</b>.</a> with 3-sectors and serving 3-users in one sector. The location for the users has been kept constant in order to provide a baseline comparison between single and multiple sector cells. \n",
    "\n",
    "| |\n",
    "|---|\n",
    "| ![cmap-sector.png](attachment:63c06d10-970d-43cf-893e-343213ac3bdd.png) |\n",
    "\n",
    "<a id = 'fig4'><p style=\"text-align: center;\"><b>Figure. 4: A 3-sector cell (eNB Transmit Power = 40dB).</b></p></a>\n",
    "\n",
    "The steps for running the simulation are shown as follows:"
   ]
  },
  {
   "cell_type": "markdown",
   "id": "2b7dd704-6763-497f-bc38-6e286b6fe119",
   "metadata": {
    "tags": []
   },
   "source": [
    "### <a id='task2-step1'>3.1: Running a simulation with sectored cells</a>\n",
    "This step will help run the simulation for sectored cell with directional antennas. As before, the script requires the following inputs from the user in order to configure the parameters specified in  <b> <a id='1.2-cellularparams'>Section 1.2</a></b>:\n",
    "\n",
    "- **Sectors** (<u>yes</u> for having sectors & <u>no</u> for having omni directional eNB transmitters)\n",
    "- **eNB transmit power** (choose a value of 40dBm for this task)\n",
    "\n",
    "> <b>Note:</b> For comparison purposes consider using the same transmisson power as you used before. "
   ]
  },
  {
   "cell_type": "code",
   "execution_count": null,
   "id": "23839966-678e-4461-9225-df65fce761ed",
   "metadata": {},
   "outputs": [],
   "source": [
    "%run -i 'Modules/lab1-init.py'"
   ]
  },
  {
   "cell_type": "markdown",
   "id": "ba7d2966-7029-4787-ab49-70dc9c21ae3b",
   "metadata": {},
   "source": [
    "After the successful completion of ns-3 simulation, a series of variables are made available to the notebook to be utilized for evaluation of the obtained results. The results are extracted using the step 2. "
   ]
  },
  {
   "cell_type": "markdown",
   "id": "a65dd807-d7d4-4687-b9c5-575e39af2a37",
   "metadata": {
    "tags": []
   },
   "source": [
    "### <a id='task2-step2'>3.2: Querying and pre-processing simulation results</a>\n",
    "This step combines <a id='step1'>*Step 1*</a> and <a id='step2'>*Step 2*</a> from <a id='part1'>Part 1</a>."
   ]
  },
  {
   "cell_type": "code",
   "execution_count": null,
   "id": "7fc55349-88d9-4d07-aa05-d6e2f8e59c6f",
   "metadata": {},
   "outputs": [],
   "source": [
    "params_signalpower = {\n",
    "    'enablesignalpower': True,\n",
    "    'enableSectors': sectors,\n",
    "    'bsTxPower': txpower,\n",
    "    'runId': runid,\n",
    "}\n",
    "\n",
    "params_sinr = {\n",
    "    'enablesinr': True,\n",
    "    'enableSectors': sectors,\n",
    "    'bsTxPower': txpower,\n",
    "    'runId': runid,\n",
    "}\n",
    "\n",
    "result_signalpower = campaign.db.get_complete_results(params=params_signalpower)\n",
    "result_sinr = campaign1.db.get_complete_results(params=params_sinr)\n",
    "\n",
    "print(\"There are %s results in the database\\n\" % len(list(result_signalpower)))\n",
    "print(\"There are %s results in the database\\n\" % len(list(result_sinr)))\n",
    "\n",
    "%run -i 'Modules/lab1-dataPre.py'\n",
    "# dataframes for visualizing respective results\n",
    "# res for RSRP and RSRQ\n",
    "# res1 for SINR"
   ]
  },
  {
   "cell_type": "code",
   "execution_count": null,
   "id": "a700184f-d02d-43de-a857-fd8f76bba596",
   "metadata": {},
   "outputs": [],
   "source": [
    "display(res_signalpower.head())\n",
    "display(res_sinr.head())\n",
    "\n",
    "val=res_signalpower[res_signalpower['uid']== 'user14']\n",
    "\n",
    "display(val)"
   ]
  },
  {
   "cell_type": "code",
   "execution_count": null,
   "id": "855e797b-487a-46b2-835d-c68429385f8e",
   "metadata": {},
   "outputs": [],
   "source": [
    "## To get an overview of your results, per user\n",
    "display(res_signalpower[res_signalpower['uid']== 'user11'].describe())\n",
    "display(res_signalpower[res_signalpower['uid']== 'user14'].describe())\n",
    "display(res_signalpower[res_signalpower['uid']== 'user16'].describe())"
   ]
  },
  {
   "cell_type": "markdown",
   "id": "9213bee6-fc6b-4091-abc1-be74698a3534",
   "metadata": {},
   "source": [
    "### <a id='task2-step3'>3.3: Visualizing the simulation results</a>\n",
    "At this point, the results are available to be viewed using any python plotting library. We utilize seaborn to do this with the results variables we extracted in <a id='task2-step2'>*Step 2*</a>.\n",
    "\n",
    "> Note: Users are identified in the simulations by their unique <b>RNTI</b> (since the back-end architecture is LTE) values in the current serving cell. For example, a user ID of <u>user14</u> means that the user has an RNTI of <u>4</u> and is connected to the cell with id <u>1</u>. Moreover, these values are subject to change in different simulation runs.\n"
   ]
  },
  {
   "cell_type": "markdown",
   "id": "b1f06f59-bd4f-48cf-83c5-7ed90f84924c",
   "metadata": {
    "tags": []
   },
   "source": [
    "#### Sector 1\n",
    "The variable names have been adapted in order to differentiate the sector-based measurement results: \n",
    "- <b>res_sigpower_sec1</b> provides sig_power results\n",
    "- <b>res_sinr</b> provides the SINR results (this will only be available from one sector as the users will only be connected to one sector at a time)\n",
    "\n",
    "**Important Visualization Tip:** \n",
    "In a cellular network, each user will probably receive some signal from all the sectors. Hence, the dataframe containing the signal power parameter (**res_signalpower**) will have these reported values by the users in each sector. For example, this scenario consists of 3 users and 3 sectors, so a combination of 9 reported signal power parameters are made available in the **res_signalpower** dataframe. \n",
    "\n",
    "The user data is labeled in the following format available as a key and column in data frame for access: \n",
    "\n",
    "- **Format:** <u>**user<span style=\"color:red\"> *x*</span><span style=\"color:blue\"> *y*</span>**</u> ; here **<span style=\"color:red\"> *x*</span>** depicts the **<span style=\"color:red\"> *cell ID*</span>** and **<span style=\"color:blue\"> *y*</span>** is the **<span style=\"color:blue\"> *node ID*</span>** in a particular sector.\n",
    "\n",
    "- The range of values of **<span style=\"color:red\"> *x*</span>** are in the set [1,2,3...] whereas values of **<span style=\"color:blue\"> *y*</span>** can differ but will still be numeric (this variation in values is due to the connectivity and other aspects in the ns-3 simulator).\n",
    "\n",
    "To find the actual values, use the following snippet of code:"
   ]
  },
  {
   "cell_type": "code",
   "execution_count": null,
   "id": "4036fb3d-34d1-4f13-8891-c38d1ac447be",
   "metadata": {},
   "outputs": [],
   "source": [
    "\n",
    "df = res_signalpower['uid']\n",
    "df.drop_duplicates()\n",
    "print(df.to_string())\n"
   ]
  },
  {
   "cell_type": "markdown",
   "id": "af44dfd8-f18f-4077-b060-00bebda5b94b",
   "metadata": {},
   "source": [
    "Afterwards create the variables for visualizing different signal powers from each sector in the topology. The format of the **uid** will be determined from the observed results. For example, if the observed **uids** are *user11*, *user14*, and *user16*, then the following sample code can be used. Otherwise, an adjustment will be required based on observed values of uids."
   ]
  },
  {
   "cell_type": "code",
   "execution_count": null,
   "id": "051ca7eb-df26-4d65-a433-7dbf42338d0c",
   "metadata": {},
   "outputs": [],
   "source": [
    "val11=res_signalpower[res_signalpower['uid']== 'user11']\n",
    "val14=res_signalpower[res_signalpower['uid']== 'user14']\n",
    "val17=res_signalpower[res_signalpower['uid']== 'user17']\n",
    "\n",
    "res_signalpower_sec1 = pd.concat([val11, val14, val17])"
   ]
  },
  {
   "cell_type": "markdown",
   "id": "a5b96a30-24dc-45cf-bf98-e3d440a58105",
   "metadata": {},
   "source": [
    "Hence, after some pandas magic, we are able to extract the output of sector 1 of the site for each of the users. The same can be extended by using different **uid** values for sectors 2 and 3.  "
   ]
  },
  {
   "cell_type": "code",
   "execution_count": null,
   "id": "0c932d6e-a13c-4b09-8628-edb823b2385d",
   "metadata": {
    "tags": []
   },
   "outputs": [],
   "source": [
    "sns.set(font_scale=1.5)\n",
    "fig, axes = plt.subplots(1, 2, figsize=(40,10))\n",
    "snsp1 = sns.lineplot(ax=axes[0], data=res_signalpower_sec1, x='time', y='sig_power', hue='uid', errorbar=None)\n",
    "snsp1.xaxis.set_major_locator(ticker.LinearLocator(10))\n",
    "snsp1.set( xlabel='Simulation Time (s)', ylabel='Received Signal Power (dBm)')\n",
    "\n",
    "\n",
    "snsp2 = sns.lineplot(ax=axes[1],data=res_sinr, x='time', y='sinr', hue='uid', errorbar=None)\n",
    "snsp2.xaxis.set_major_locator(ticker.LinearLocator(10))\n",
    "snsp2.set( xlabel='Simulation Time (s)', ylabel='Signal-to-Interference-Noise Ratio (SINR) (dB)')\n",
    "\n",
    "plt.show()\n",
    "\n",
    "sns.reset_orig()"
   ]
  },
  {
   "cell_type": "markdown",
   "id": "7eae0ea7-64c5-4ce2-b5fe-5f67c68bf5df",
   "metadata": {
    "tags": []
   },
   "source": [
    "#### Sector 2\n",
    "The variable names have been adapted in order to differentiate the sector-based measurement results: \n",
    "- <b>res_sigpower_sec2</b> provide sig_power results\n",
    "- <b>res_sinr</b> provide the sinr results (this will only be available from one sector as the users will only be connected to one sector at a time)"
   ]
  },
  {
   "cell_type": "code",
   "execution_count": null,
   "id": "574b3924-b1a6-4517-8ce3-eaef8b1b5fa3",
   "metadata": {
    "tags": []
   },
   "outputs": [],
   "source": [
    "val21=res_signalpower[res_signalpower['uid']== 'user21']\n",
    "val24=res_signalpower[res_signalpower['uid']== 'user24']\n",
    "val27=res_signalpower[res_signalpower['uid']== 'user27']\n",
    "\n",
    "res_signalpower_sec2 = pd.concat([val21, val24, val27])\n",
    "\n",
    "sns.set(font_scale=1.5)\n",
    "fig, axes = plt.subplots(1, 1, figsize=(10,10))\n",
    "snsp1 = sns.lineplot(ax=axes, data=res_signalpower_sec2, x='time', y='sig_power', hue='uid', errorbar=None)\n",
    "snsp1.xaxis.set_major_locator(ticker.LinearLocator(10))\n",
    "snsp1.set( xlabel='Simulation Time (s)', ylabel='Received Signal Power (dBm)')\n",
    "\n",
    "plt.show()\n",
    "\n",
    "sns.reset_orig()"
   ]
  },
  {
   "cell_type": "markdown",
   "id": "6dd7337b-4a10-47af-a5ff-f800b65a922b",
   "metadata": {
    "tags": []
   },
   "source": [
    "#### Sector 3\n",
    "The variable names have been adapted in order to differentiate the sector-based measurement results: \n",
    "- <b>res_sigpower_sec3</b> provide sig_power results\n",
    "- <b>res_sinr</b> provide the sinr results (this will only be available from one sector as the users will only be connected to one sector at a time)"
   ]
  },
  {
   "cell_type": "code",
   "execution_count": null,
   "id": "179a5905-61a8-44cf-ad58-0d4710dab312",
   "metadata": {
    "tags": []
   },
   "outputs": [],
   "source": [
    "val31=res_signalpower[res_signalpower['uid']== 'user31']\n",
    "val34=res_signalpower[res_signalpower['uid']== 'user34']\n",
    "val37=res_signalpower[res_signalpower['uid']== 'user37']\n",
    "\n",
    "res_signalpower_sec3 = pd.concat([val31, val34, val37])\n",
    "\n",
    "sns.set(font_scale=1.5)\n",
    "fig, axes = plt.subplots(1, 1, figsize=(10,10))\n",
    "snsp1 = sns.lineplot(ax=axes, data=res_signalpower_sec3, x='time', y='sig_power', hue='uid', errorbar=None)\n",
    "snsp1.xaxis.set_major_locator(ticker.LinearLocator(10))\n",
    "snsp1.set( xlabel='Simulation Time (s)', ylabel='Received Signal Power (dBm)')\n",
    "\n",
    "\n",
    "plt.show()\n",
    "\n",
    "sns.reset_orig()"
   ]
  },
  {
   "cell_type": "markdown",
   "id": "8fdbb512-a75a-4e3a-b66d-b7198a6a0f2e",
   "metadata": {},
   "source": [
    "### Comparing User Performance in Different Cells\n",
    "Compare the user measured values for signal power and SINR for different sectors and plot the observations (as done for sectors 1,2,3). For example, a valid comparison is for user id values 14, 24, 34, where we are observing the value of user with RNTI 4 across all sectors. Afterwards, plot the values for a user for comparison of observed performance metrics."
   ]
  },
  {
   "cell_type": "code",
   "execution_count": null,
   "id": "e23d8782-3fe6-44ab-a11d-9a7b62a752b8",
   "metadata": {},
   "outputs": [],
   "source": []
  },
  {
   "cell_type": "markdown",
   "id": "a49a0010-b346-4443-8c96-a80b67300105",
   "metadata": {},
   "source": [
    "### 3.4: Exercises"
   ]
  },
  {
   "cell_type": "markdown",
   "id": "3fd55666-18ed-4860-9c5d-5c30ed112056",
   "metadata": {},
   "source": [
    "#### Q3.4.1: What type of antenna setup (omnidirectional or sectored) will provide better performance for the users? What is the main reason for this enhanced performance \n",
    "> Hint: Answer by comparing performance results for omnidirectional and sectored antennas"
   ]
  },
  {
   "cell_type": "markdown",
   "id": "736768cd-f420-4c8b-8772-4673c41e967a",
   "metadata": {
    "tags": []
   },
   "source": [
    "<b>Answer:</b>\n"
   ]
  },
  {
   "cell_type": "markdown",
   "id": "a362cfe9-d39c-457d-bc93-c3aed27641eb",
   "metadata": {},
   "source": [
    "#### Q3.4.2a: What are the potential benefits of having a sectored design as opposed to a omni directional coverage for a cell?"
   ]
  },
  {
   "cell_type": "markdown",
   "id": "d7405998-27a2-4392-b178-dbf8ca6298ec",
   "metadata": {},
   "source": [
    "<b>Answer:</b>\n"
   ]
  },
  {
   "cell_type": "markdown",
   "id": "f2f78345-dace-4e61-8282-0184a88b9e48",
   "metadata": {},
   "source": [
    "#### Q3.4.2b: Is there an impact of transmit power, type of required user services (voice or data service) or the coverage environment (urban or rural area) in determining the choice of having omnidirectional or sectored antennas?"
   ]
  },
  {
   "cell_type": "markdown",
   "id": "a6aad3e1-80c0-46bc-a82f-31b87bf2096b",
   "metadata": {},
   "source": [
    "<b>Answer:</b>\n"
   ]
  },
  {
   "cell_type": "markdown",
   "id": "bf0a9549-ce8f-4287-b4c7-4c53d2e951b3",
   "metadata": {},
   "source": [
    "#### Q3.4.3: What is the advantage of using similar or different frequencies in different sectors of a cellular site? "
   ]
  },
  {
   "cell_type": "markdown",
   "id": "d74d7c18-eb7b-43a8-ae18-d455f6dec210",
   "metadata": {},
   "source": [
    "<b>Answer:</b>\n"
   ]
  },
  {
   "cell_type": "markdown",
   "id": "94fe59ba-38f2-46e8-a97b-4880db021847",
   "metadata": {
    "tags": []
   },
   "source": [
    "#### Q3.4.4: Is user capacity (number of served users) a factor in determining the type of antenna to be utilized in an environment? How is the relation between cell capacity and sectors explained?"
   ]
  },
  {
   "cell_type": "markdown",
   "id": "9d2d630b-7765-411e-a978-f7eb5ce8bbb5",
   "metadata": {},
   "source": [
    "<b>Answer:</b>\n"
   ]
  },
  {
   "cell_type": "markdown",
   "id": "1374cee0-ecb4-4a69-ad78-3fe2c9e7092c",
   "metadata": {},
   "source": [
    "---\n",
    "---\n",
    "### <span style=\"color:blue\"> Milestone 2 </span>\n",
    "\n",
    "Before proceeding, **call a TA** to make sure everything went as expected.\n",
    "\n",
    "---\n",
    "---"
   ]
  },
  {
   "cell_type": "markdown",
   "id": "bf229a5b-5363-46df-bfad-0362467af275",
   "metadata": {},
   "source": [
    "## <span style=\"color:red\"> <a id='task3'>4: *Task#3: Impact of Transmit Power on Cell Coverage*</a></span>\n",
    "There are several methods to control the coverage behaviour in a cellular network. These include the physical and electronic adjustment of beamwidth of the antennas (for example <a id='task2'><b>Task#2</b></a> explores the sectors in a cell with an equal beamwidth of 120 degrees). Moreover, the power levels at the time of transmission can be adjusted to increase the experiences SINR and consequently the received signal power by users. However, the power levels are standardized due to safety, compatibility, and battery optimization objectives.<br>\n",
    "\n",
    "In this task, we will explore this power level parameter in order to change the coverage behaviour of the non-sectoral and sectoral designs discussed in <a id='task1'><b>Task#1</b></a> and <a id='task2'><b>Task#2</b></a>. Up until this point we have utilized a transmit power of 40dBm for simulating the topologies. We will use different levels of power within the range <b>15-45dBm</b> (when required) to explore the coverage behaviour. \n",
    "\n",
    "We again use the command line arguments to pass the 'transmit power' as a second argument while running the `lab1-init.py`. Utilize the sample code provided in <a id='task1'><b>Task#1</b></a> and <a id='task2'><b>Task#2</b></a> to fulfil the transmit power analysis. Add any code cells below this cell to show the required code to reproduce the simulation results. \n",
    "\n",
    "> Hint: Start by reducing the transmit power to 39dBm, then 38dBm and so on...\n",
    "\n",
    "> Note: Remember that the user ids are more prone to change in this task since there will be connectivity problems for users."
   ]
  },
  {
   "cell_type": "markdown",
   "id": "9f523fb4-5796-48d6-ac93-498608c546f2",
   "metadata": {},
   "source": [
    "### 4.1 Analysis with Omnidirectional Antenna Cells (Without Sectors)"
   ]
  },
  {
   "cell_type": "code",
   "execution_count": null,
   "id": "521645ba-8239-447a-9b26-a8870e17a4d9",
   "metadata": {},
   "outputs": [],
   "source": []
  },
  {
   "cell_type": "code",
   "execution_count": null,
   "id": "ad569bdb-fe67-4f0a-9018-31f8d875c75a",
   "metadata": {},
   "outputs": [],
   "source": []
  },
  {
   "cell_type": "code",
   "execution_count": null,
   "id": "e0551f34-673d-42f8-8b7d-da7785161c6c",
   "metadata": {},
   "outputs": [],
   "source": []
  },
  {
   "cell_type": "markdown",
   "id": "d9c3284a-1d83-4a49-9457-03dfec83248d",
   "metadata": {
    "tags": []
   },
   "source": [
    "#### Q4.1.1: What is the value of transmit power that causes the loss of signal for one of the users from <a id='fig2'>Figure. 2</a>?"
   ]
  },
  {
   "cell_type": "markdown",
   "id": "be071247-bb36-43d3-934b-ab5806bc8db1",
   "metadata": {},
   "source": [
    "<b>Answer:</b>\n",
    "\n"
   ]
  },
  {
   "cell_type": "markdown",
   "id": "db4d8fa3-c0b1-456b-ba8e-9bd4c4b15e55",
   "metadata": {
    "tags": []
   },
   "source": [
    "#### Q4.1.2: What is the last known value of SINR and signal power when the lost user was able to connect normally with the base station?"
   ]
  },
  {
   "cell_type": "markdown",
   "id": "559ccac7-6b3d-41a8-aef8-ea5365e2cc13",
   "metadata": {},
   "source": [
    "<b>Answer:</b>\n"
   ]
  },
  {
   "cell_type": "markdown",
   "id": "aa0f420e-5a27-43e2-981a-7f845b61e30b",
   "metadata": {},
   "source": [
    "### 4.2 Analysis with Sectors"
   ]
  },
  {
   "cell_type": "code",
   "execution_count": null,
   "id": "03740838-1bf5-4c89-96b4-a101115cb385",
   "metadata": {},
   "outputs": [],
   "source": []
  },
  {
   "cell_type": "code",
   "execution_count": null,
   "id": "e8942cc8-bed3-449b-8fb8-80af9ea9cd69",
   "metadata": {},
   "outputs": [],
   "source": []
  },
  {
   "cell_type": "code",
   "execution_count": null,
   "id": "05adac53-57be-4daf-b0d7-2c53305bbaa1",
   "metadata": {},
   "outputs": [],
   "source": []
  },
  {
   "cell_type": "markdown",
   "id": "d4dd8158-7431-4f27-90dd-b0dd27992c56",
   "metadata": {
    "tags": []
   },
   "source": [
    "#### Q4.2.1: What is the value of transmit power that causes the loss of signal for one of the users from <a id='fig2'>Figure. 2</a>?"
   ]
  },
  {
   "cell_type": "markdown",
   "id": "a4547504-e1d0-4f68-b157-54a5d5bc320d",
   "metadata": {},
   "source": [
    "<b>Answer:</b>\n",
    "\n"
   ]
  },
  {
   "cell_type": "markdown",
   "id": "13d98584-2b02-43dc-85a7-d27928bf07d3",
   "metadata": {
    "tags": []
   },
   "source": [
    "#### Q4.2.2: What is the last known value of SINR and signal power when the lost user was able to connect normally with the base station?"
   ]
  },
  {
   "cell_type": "markdown",
   "id": "0c323d9c-b144-4199-8544-95a6518d14b7",
   "metadata": {},
   "source": [
    "<b>Answer:</b>\n"
   ]
  },
  {
   "cell_type": "markdown",
   "id": "9774db2b-c745-4192-a2e3-94d680706099",
   "metadata": {},
   "source": [
    "---\n",
    "---\n",
    "### <span style=\"color:blue\"> Milestone 3 </span>\n",
    "\n",
    "Before proceeding, **call a TA** to make sure everything went as expected.\n",
    "\n",
    "---\n",
    "---"
   ]
  },
  {
   "cell_type": "markdown",
   "id": "4dd4c363-55a2-4ee5-a08b-457e7c5f4631",
   "metadata": {},
   "source": [
    "## 5. Comparison Exercises for Tasks 1,2,3"
   ]
  },
  {
   "cell_type": "markdown",
   "id": "bd03f446-4fa6-48fc-b2c0-2f548b54ea71",
   "metadata": {
    "tags": []
   },
   "source": [
    "#### Q5.1a: (a) What is the observed impact of transmit power on the coverage of the sectored and non-sectored cell on the experienced signal level? (Reference: <a id='tab1'>Table. 1</a>)? "
   ]
  },
  {
   "cell_type": "markdown",
   "id": "cb2bf933-16b8-4149-9303-c495f1f4a21b",
   "metadata": {},
   "source": [
    "<b>Answer:</b>\n"
   ]
  },
  {
   "cell_type": "markdown",
   "id": "b768342b-8089-4552-a38e-539b89ecd63e",
   "metadata": {
    "tags": []
   },
   "source": [
    "#### Q5.1b: Which of the observed performance measurement parameters best represent the change caused due to transmit power for the users? "
   ]
  },
  {
   "cell_type": "markdown",
   "id": "bbabd43b-4872-46b4-9613-d2c0cf7d2d21",
   "metadata": {},
   "source": [
    "<b>Answer:</b>\n"
   ]
  },
  {
   "cell_type": "markdown",
   "id": "db55430b-47c7-4c42-9f1d-3a6e7f794cd5",
   "metadata": {},
   "source": [
    "#### Q5.2a: How can the transmit power be chosen in an energy efficient manner for the omnidirectional and sectored cells? \n",
    "> Note: Consider the scenarios in <a id='task1'><b>Task#1</b></a> and <a id='task2'><b>Task#2</b></a> to justify the utilized transmit power values."
   ]
  },
  {
   "cell_type": "markdown",
   "id": "da3baf23-7a54-439a-816f-af7c92c9c8fd",
   "metadata": {},
   "source": [
    "<b>Answer:</b>\n"
   ]
  },
  {
   "cell_type": "markdown",
   "id": "1146729d-4347-481d-b16c-773be29f502c",
   "metadata": {
    "tags": []
   },
   "source": [
    "#### Q5.2b: Is the comparison in <a id='task1'><b>Task#1</b></a> and <a id='task2'><b>Task#2</b></a> fair in terms of transmit power? Explain your reasoning? "
   ]
  },
  {
   "cell_type": "markdown",
   "id": "a83af828-225f-4d3c-96ea-67bf15ae4a57",
   "metadata": {},
   "source": [
    "<b>Answer:</b>\n"
   ]
  },
  {
   "cell_type": "markdown",
   "id": "b075878c-e903-4236-a14d-abd2f2284ad8",
   "metadata": {
    "tags": []
   },
   "source": [
    "#### Q5.2c: How can the transmit power allocation values be changed in order to realize the full potential of sectored cells? Is there any other parameter impacting this choice?"
   ]
  },
  {
   "cell_type": "markdown",
   "id": "0af3db5e-5857-447e-8be5-f73cafddc0eb",
   "metadata": {},
   "source": [
    "<b>Answer:</b>\n"
   ]
  },
  {
   "cell_type": "markdown",
   "id": "0ab6c477-3c7d-4754-abd7-67952bf63c3b",
   "metadata": {},
   "source": [
    "#### Q5.3a: Modulation and Coding schemes (MCS) are utilized to for different levels of service in terms of provisioned maximum user rates. What determines the selection of a MCS for a user in a cell?"
   ]
  },
  {
   "cell_type": "markdown",
   "id": "84617d67-ff1f-44a0-a919-73ba180f6a6b",
   "metadata": {},
   "source": [
    "<b>Answer:</b>\n"
   ]
  },
  {
   "cell_type": "markdown",
   "id": "99ca5677-84cb-44c0-b4dc-501f887c7e24",
   "metadata": {},
   "source": [
    "#### Q5.3b: Is there a relationship between received signal quality (power) on the selection of MCS?"
   ]
  },
  {
   "cell_type": "markdown",
   "id": "e9043320-abf4-48ce-9b89-fc8281ac40c3",
   "metadata": {
    "jp-MarkdownHeadingCollapsed": true,
    "tags": []
   },
   "source": [
    "<b>Answer:</b> "
   ]
  },
  {
   "cell_type": "markdown",
   "id": "c6186b35-c4d1-414d-bbf3-371f8d12c43f",
   "metadata": {},
   "source": [
    "---\n",
    "---\n",
    "### <span style=\"color:blue\"> Milestone 4 </span>\n",
    "\n",
    "At the end, **call a TA** to make sure everything went as expected.\n",
    "\n",
    "---\n",
    "---"
   ]
  },
  {
   "cell_type": "markdown",
   "id": "11a3473e-4a33-42a1-990e-eaffdd5c4d3f",
   "metadata": {},
   "source": [
    "# References\n",
    "\n",
    "[1] \"From GSM to LTE-Advanced Pro and 5G, An introduction to Mobile Networks and Mobile Broadband\", Martin Sauter, 4th Edition, 2021\n",
    "\n",
    "[2] \" LTE; Evolved Universal Terrestrial Radio Access (E-UTRA); Requirements for support of radio resource management \", LTE Tutorials. Online: https://portal.3gpp.org/desktopmodules/Specifications/SpecificationDetails.aspx?specificationId=2420 (Accessed: 12-01-2023)\n"
   ]
  },
  {
   "cell_type": "markdown",
   "id": "d53ac7b7-f684-4017-9d6c-b4f74d9ccdf2",
   "metadata": {},
   "source": [
    "---\n",
    "---"
   ]
  }
 ],
 "metadata": {
  "kernelspec": {
   "display_name": "Python 3 (ipykernel)",
   "language": "python",
   "name": "python3"
  },
  "language_info": {
   "codemirror_mode": {
    "name": "ipython",
    "version": 3
   },
   "file_extension": ".py",
   "mimetype": "text/x-python",
   "name": "python",
   "nbconvert_exporter": "python",
   "pygments_lexer": "ipython3",
   "version": "3.10.6"
  }
 },
 "nbformat": 4,
 "nbformat_minor": 5
}
