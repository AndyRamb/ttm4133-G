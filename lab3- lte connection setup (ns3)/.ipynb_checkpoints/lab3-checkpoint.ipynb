{
 "cells": [
  {
   "cell_type": "markdown",
   "id": "94d08be5-4188-4aa0-bad8-f90a7f9b4e04",
   "metadata": {},
   "source": [
    "# <span style=\"color:blue\"> *Version 3* </span>"
   ]
  },
  {
   "cell_type": "markdown",
   "id": "ebcc01fd-84ff-456c-8255-3bf89c748fdc",
   "metadata": {},
   "source": [
    "# Lab#3 - Exploring the LTE Architecture\n",
    "\n",
    "This lab intends to explore the LTE architecture and the attachment procedure for a user equipment (UE). The lab starts with an introduction of the LTE architecture followed by the attachment process itself encompassing different connection stages as UE initiates its connection with the LTE network. Afterwards, a simulation encompassing different connection establishment and attachment processes is implemented using ns-3 LTE simulator. The students will be encouraged to design their own LTE radio access network (RAN) topologies using React app discussed in detail in Lab0. A summary of the lab objectives is provided as below:\n",
    "\n",
    "- Understand the RAN, EPC, and, interconnections between these LTE sub-networks\n",
    "- Demonstration the UE attachment process\n",
    "- Understanding the user and control plane in LTE\n",
    "\n",
    "The scope of this lab covers topics from <b>Sections 4.1</b> (pp. 203),<b>4.2</b> (pp. 206-218), <b>4.6.1</b> (pp. 247)</b>, and <b>4.6.2</b> (pp. 250) of textbook <a href=\"#References\">[1] </a>.</p>"
   ]
  },
  {
   "cell_type": "markdown",
   "id": "c17f86e0-903f-48be-a885-6b6ad4e0db52",
   "metadata": {
    "tags": []
   },
   "source": [
    "## 1. Introduction\n",
    "\n",
    "### 1.1 LTE Architecture \n",
    "The LTE network is divided into two parts: a evolved universal mobile telecommunications system terrestrial radio access network (E-UTRAN) and an evolved packet core (EPC) network as shown in <a id='fig1'>[Figure. 1](#fig1)</a> . These subnetworks separate the user access and network core with different nodes for varying roles in LTE infrastructure.\n",
    "\n",
    "| |\n",
    "|---|\n",
    "| ![LTE_net.png](Figures/LTE_net.png) |\n",
    "\n",
    "<a id='fig1'><p style=\"text-align: center;\"><b>Figure. 1: LTE Architecture.</b></p></a>\n",
    "\n",
    "<p style='text-align: justify;'> Some visible differences in the architecture from Universal Mobile Telecommunications System (UMTS) UTRAN are the introduction of the X2 interface and the no Radio Network Controller in the E-UTRAN. The S1 interface is the connection between the RAN and EPC utilized for the LTE services such as traditional calling, voice over IP (VoIP) and dedicated data access towards the internet. It has two different interface types based on utilization by the user plane and control plane protocols. S1-U is used for user plane and S1-AP for the application or control plane. In addition any signaling between RAN and EPC is also carried via S1. EPC has its own interfaces for performing different management functions related to the LTE processes such as mobility and location management or user information management.<br>\n",
    "</p>\n",
    "    "
   ]
  },
  {
   "cell_type": "markdown",
   "id": "9a96880e-29ed-4042-b235-32de8b7a3f6b",
   "metadata": {
    "jp-MarkdownHeadingCollapsed": true,
    "tags": []
   },
   "source": [
    "### 1.2 LTE Protocol Stack \n",
    "\n",
    "The LTE protocol stack as depicted in <a id='fig2'>[Figure. 2](#fig2)</a>, which consists of the following protocols for different functionalities:\n",
    "\n",
    "\n",
    "| |\n",
    "|---|\n",
    "| ![lte-stack.png](Figures/lte-stack.png) |\n",
    "<a id='fig2'><p style=\"text-align: center;\"><b>Figure. 2: LTE Protocol Stack. (Reproduced from <a href=\"#References\">[2])</b></a>    \n",
    "    \n",
    "<p style='text-align: justify;'>\n",
    "- <b>Radio Resource Control (RRC)</b>: The broadcast of system information related to the non-access stratum (NAS) and broadcast of system information related to the access stratum (AS) are the key services and functions of the RRC sublayer. In addition it is also responsible for paging, configuration, maintenance, and release of point-to-point radio bearers, as well as the establishment, maintenance, and release of an RRC connection between the UE and E-UTRAN <a href=\"#References\">[3] </a>.</p>\n",
    "<p style='text-align: justify;'>\n",
    "- <b>Packet Data Convergence Protocol (PDCP)</b>: For radio bearers mapped on RLC acknowledged mode (AM), the PDCP layer is in charge of header compression and decompression of IP data, transfer of data (user plane or control plane), maintenance of PDCP Sequence Numbers (SNs), in-sequence delivery of upper layer packet data units(PDUs) at re-establishment of lower layers, duplicate elimination of lower layer service data units (SDUs) at re-establishment of lower layers, ciphering and deciphering of UE data <a href=\"#References\">[3] </a>.</p>\n",
    "<p style='text-align: justify;'>\n",
    "- <b>Radio Link Control (RLC)</b>: RLC runs in three different modes: acknowledged mode (AM), unacknowledged mode (UM), and transparent mode (TM). The transfer of upper layer PDUs, error correction via ARQ (only for AM data transfer), concatenation, segmentation, and reassembly of RLC SDUs are all handled by the RLC Layer (Only for UM and AM data transfer). Additionally, the RLC is in charge of re-ordering RLC data PDUs (only for UM and AM data transfer), re-segmenting RLC data PDUs (only for AM data transfer), detecting duplicates (only for UM and AM data transfer), discarding RLC SDUs (only for UM and AM data transfer), re-establishing the RLC, and detecting protocol errors (Only for AM data transfer) <a href=\"#References\">[3] </a>.</p>"
   ]
  },
  {
   "cell_type": "markdown",
   "id": "7e697af2-32b5-418f-a629-c3784387876e",
   "metadata": {
    "jp-MarkdownHeadingCollapsed": true,
    "tags": []
   },
   "source": [
    "### 1.3 LTE Connection Setup\n",
    "\n",
    "As soon as a UE is turned on, a set of procedures is adopted to ensure that the communication channel between eNB and UE is able to support the required services upon request. The connection setup is important to consider since this process initiates all the other processes in LTE including attachment and handovers. Certain information exchange must be completed during initial stages of this process. This is know as the system information (SI), which is transmitted by LTE eNB on DL channel Broadcast Control Channel (BCCH). The SI is divided into two parts: the static part and the dynamic part.\n",
    "\n",
    "- <p style='text-align: justify;'><b>Master Information Blocks (MIB)</b>, also known as static parts, are transferred once every 40 microseconds.</p>\n",
    "- <p style='text-align: justify;'><b>System Information Blocks (SIB)</b>, also known as the dynamic parts, are composed of various message kinds that are sent every 80, 160, 320, … milliseconds.</p>\n",
    "\n",
    "<p style='text-align: justify;'>In this lab, we will only be concerned with the MIB, SIB1, and SIB2 that carry the following information:</p>\n",
    "\n",
    "- <p style='text-align: justify;'><b>MIB</b>: The channel bandwidth, transmit power, number of antennas, SIB scheduling, and other relevant data required for radio access.</p>\n",
    "- <p style='text-align: justify;'><b>SIB1</b>: Information about whether or not the UE is permitted to access the LTE cell. It also determines how the other SIBs are scheduled. Cell ID, mobile country code (MCC), mobile network code (MNC), tracking area code (TAC), and SIB mapping are all included.</p>\n",
    "- <p style='text-align: justify;'><b>SIB2</b>: Both common and shared channel information. RRC, uplink power control, preamble power ramping, uplink cyclic prefix (CP) length, sub-frame hopping, and uplink E-UTRA Absolute Radio Frequency Channel Number (EARFCN).</p>\n",
    "\n",
    "<b>Note:</b> The textbook reference for these information blocks is <b>Section 4.3.8</b> (pp. 229) <a href=\"#References\">[1] </a>."
   ]
  },
  {
   "cell_type": "markdown",
   "id": "20aaa2a7-5f2b-4a28-b24e-41057be18edc",
   "metadata": {
    "jp-MarkdownHeadingCollapsed": true,
    "tags": []
   },
   "source": [
    "### 1.4 UE eNB and RRC States\n",
    "\n",
    "The state transitions for UE and eNB will signify the reception of these information blocks as well as the current state of these nodes. These are dictated by the following state diagrams in <a id='fig3'>[Figure. 3](#fig3)</a>. \n",
    "\n",
    "| |\n",
    "|---|\n",
    "| ![lab3-rrc-states.png](Figures/lab3-rrc-states.png) |\n",
    "<a id='fig3'><p style=\"text-align: center;\"><b>[Figure. 3: LTE RRC State Diagram, (a) UE, (b) eNB](#fig3). (Source <a href=\"#References\">[4] )</b></a>   \n",
    "\n",
    "#### 1.4.1 Connection setup procedure\n",
    "The connection setup starts with the initiation of the <u>cell search</u> process initiated by a UE that has just been turned on. It searches for a suitable cell to attach by analyzing the received signal strength from different prospective cells in the area. During this process, the UE waits for the reception of MIB and SIB messages in order to collect required information about the connection. Upon reception of SIB1 and SIB2, the <u>random access</u> (RA) procedure is initiated in order to exchange more information and allow the eNB and EPC to reserve resources for upper layer communications (RRC, PDCP). The success of RA leads to the initiation of RRC connection setup with the eNB and eventual connection of eNB with EPC via S1-AP protocol. At this point, the UE is connected to the LTE network and ready to utilize the infrastructure.\n",
    "\n",
    "This process is implemented as a finite state machine as depicted in <a id='fig3'>[Figure. 3](#fig3)</a>."
   ]
  },
  {
   "cell_type": "markdown",
   "id": "a015585d-b15e-4952-98a2-b7d5842e89e8",
   "metadata": {},
   "source": [
    "------------------------------------------------------------------------------------------------------------------------------------------------------------------------------------------------------------------------------\n",
    "## Design and Simulating an LTE Network in ns3\n",
    "\n",
    "------------------------------------------------------------------------------------------------------------------------------------------------------------------------------------------------------------------------------"
   ]
  },
  {
   "cell_type": "markdown",
   "id": "005b153d-e2ae-40bd-81f3-22f272cbaaed",
   "metadata": {
    "tags": []
   },
   "source": [
    "## <span style=\"color:red\"> *Task#1: Radio Access Network, Enhanced Packet Core and Interactions* </span>\n",
    "This task involves the creation of a basic one cell RAN topology using the React application followed by the simulation and analysis of connection setup traces using ns-3. Hence, the overall learning objectives are presented as the following deliverables:\n",
    "\n",
    "### 2.1 Designing a RAN topology\n",
    "The topology design follows the same basic steps from lab0 starting from accessing the react app, design and saving of the topology . Kindly utilize the blueprint provided in <a id='fig4'>[Figure. 4](#fig4)</a> to design the topology where the actual location of eNB and UEs is not important as long as the users are inside the coverage area of eNB. The <b>eNB TXPower = 45dBm</b> for this task.\n",
    "\n",
    "| |\n",
    "|---|\n",
    "| ![lab3-task1-topology.png](Figures/lab3-task1-topology.png) |\n",
    "<a id='fig4'><p style=\"text-align: center;\"><b>[Figure. 4: LTE RAN topology](#fig4).</b></a>\n",
    "\n",
    "> <b>Note:</b> Access the React application via: http://vm-public-ip:3000/."
   ]
  },
  {
   "cell_type": "markdown",
   "id": "1cf1fc00-5b16-4eb1-bfbb-4dacfdfac564",
   "metadata": {},
   "source": [
    "### 2.2 Simulate the designed topology in ns-3\n",
    "The python code in `lab3-init.py` is provided to convert the design topology in a form acceptable to the SEM and ns-3 simulation engines. Moreover, some relevant command line arguments are also passed to the ns-3 program implementing the given topology in order to observe the results and status of the simulation. \n",
    "\n",
    "> <b>Note:</b> The python code will display the saved topologies from the react app and we can choose any one of them to simulate.\n",
    "\n",
    "The ns-3 simulator expects the values provided in the form of UE and eNB location from the react app in order to design the topology. Several other variables are also provided in the `lab3-init.py` script in order to provide sufficient information for the creation and operation of simulation. This includes the configuration related to the center frequency, bandwidth, attachment preferences, additional noise modeling. The noise model utilized is a simple randomized threshold added in the UE and eNB. This contributes to the already observed interference noise experienced in the channel propagation. The ns-3 program also establishes several UDP streams in order to establish data communication and these are utilized for measurements of different performance metric. After successful completion of the simulation, the measured performance metrics are passed on back to the python script by the ns-3 program for data processing."
   ]
  },
  {
   "cell_type": "code",
   "execution_count": 20,
   "id": "ae96f54e-1975-462e-9c34-86c766d62b73",
   "metadata": {},
   "outputs": [
    {
     "name": "stdout",
     "output_type": "stream",
     "text": [
      "List of created simulations: \n",
      " \n",
      "test\n",
      "lab_3_tx40_conn_fail_6\n",
      "lab_3_tx40_conn_fail_7\n",
      "lab_3_tx40_conn_fail\n",
      "lab_3_tx40_2\n",
      "lab_3_tx40_conn_fail_9\n",
      "lab_3_tx40\n",
      "lab_3_tx40_conn_fail_4\n",
      "lab_3_tx40_conn_fail_2\n",
      "lab_3_tx40_conn_fail_10\n",
      "lab_3_tx40_conn_fail_5\n",
      "lab_3_closer\n",
      "lab_3_tx40_conn_fail_nu\n",
      "lab_3_tx40_conn_fail_8\n",
      "4_ue_jalla\n",
      "lab_3_tx40_conn_fail_3\n",
      "fig_4_lte_ran\n",
      "\n"
     ]
    },
    {
     "name": "stdin",
     "output_type": "stream",
     "text": [
      "List the simulation to run:  lab_3_closer\n",
      "Show a picture of the topology? (y/n) y\n"
     ]
    },
    {
     "name": "stdout",
     "output_type": "stream",
     "text": [
      "Generating topology pictures...\n"
     ]
    },
    {
     "data": {
      "text/markdown": [
       "<img src=\"./Figures/GeneratedImages/image lab_3_closer.png\" alt = \"test pic\" style=\"background-color: white;\"> "
      ],
      "text/plain": [
       "<IPython.core.display.Markdown object>"
      ]
     },
     "metadata": {},
     "output_type": "display_data"
    },
    {
     "name": "stdout",
     "output_type": "stream",
     "text": [
      "Connection Tracing Simualtions for RAN...\n",
      "Starting simulation 1...\n"
     ]
    },
    {
     "name": "stderr",
     "output_type": "stream",
     "text": [
      "Running simulations: 100%|██████████| 1/1 [00:11<00:00, 11.48s/simulation]\n"
     ]
    },
    {
     "name": "stdout",
     "output_type": "stream",
     "text": [
      "Simulation 1 finished!\n",
      "There are 1 results in the database\n",
      "\n",
      "Connection Tracing Simualtions for EPC...\n",
      "Starting simulation 2...\n"
     ]
    },
    {
     "name": "stderr",
     "output_type": "stream",
     "text": [
      "Running simulations: 100%|██████████| 1/1 [00:10<00:00, 10.42s/simulation]"
     ]
    },
    {
     "name": "stdout",
     "output_type": "stream",
     "text": [
      "Simulation 2 finished!\n",
      "There are 1 results in the database\n",
      "\n"
     ]
    },
    {
     "name": "stderr",
     "output_type": "stream",
     "text": [
      "\n"
     ]
    }
   ],
   "source": [
    "%run -i 'Modules/lab3-init.py'"
   ]
  },
  {
   "cell_type": "markdown",
   "id": "a4867181-cd2a-4090-8bdf-5c8c66f95a56",
   "metadata": {
    "tags": []
   },
   "source": [
    "### 2.3 Processing the simulation data\n",
    "The python code in `lab3-DataPre.py` is provided to process and clean the obtained data from ns-3 simulations.\n",
    "\n",
    "> <b>Note:</b> Two different levels of logs are collected to exhibit the state machines for UE and eNB as they experience different stages of connection establishment within RAN and with EPC as shown in <a id='fig3'>[Figure. 3](#fig3)</a>.\n",
    "  \n",
    "\n",
    "#### 2.3.1 Structure of Simulation Logs\n",
    "The format of the observed logs is important to decode according to the contained information. <a id='fig5'>[Figure. 5](#fig5)</a> and <a id='fig6'>[Figure. 6](#fig6)</a> provides the description of a single observed log and its fields for RAN and EPC respectively:\n",
    "\n",
    "| |\n",
    "|---|\n",
    "| ![lab3-logdesc.png](Figures/lab3-logdesc.png) |\n",
    "<a id='fig5'><p style=\"text-align: center;\"><b>[Figure. 5: RAN Log description](#fig5)</b></a>\n",
    "\n",
    "| |\n",
    "|---|\n",
    "| ![lab3-epc-logs.png](Figures/lab3-epc-logs.png) |\n",
    "<a id='fig6'><p style=\"text-align: center;\"><b>[Figure. 6: EPC Log description](#fig6)</b></a>\n",
    "\n",
    "> <b>Note:</b> The values for RNTI and IMSI should be greater than 0 when UE is connected to the eNB. As long as the UE is in the state of connection setup, ns-3 utilizes RNTI = 0. \n",
    "\n",
    "> <b>Note:</b> The 'Source Node' is simply a counter for the total number of active protocols (Phy, MAC, RRC, etc.) in different nodes (UE and eNB) in the simulation. The values should be >= 0 for normal operation. "
   ]
  },
  {
   "cell_type": "code",
   "execution_count": 21,
   "id": "794d42c3-4591-4131-b7bc-a09f065f216a",
   "metadata": {},
   "outputs": [
    {
     "name": "stdout",
     "output_type": "stream",
     "text": [
      "####################################################\n",
      "RAN Connection Setup Logs [MAC, RRC for eNB and UE]\n",
      "####################################################\n",
      "+0.000000000s -1 LteUeRrc:SwitchToState(): [INFO ] 0x55831176fcd0 IMSI 1 RNTI 0 UeRrc IDLE_START --> IDLE_CELL_SEARCH\n",
      "+0.000000000s -1 LteUeRrc:SwitchToState(): [INFO ] 0x5583117734c0 IMSI 2 RNTI 0 UeRrc IDLE_START --> IDLE_CELL_SEARCH\n",
      "+0.200000000s -1 LteUeRrc:SwitchToState(): [INFO ] 0x55831176fcd0 IMSI 1 RNTI 0 UeRrc IDLE_CELL_SEARCH --> IDLE_WAIT_MIB_SIB1\n",
      "+0.200000000s -1 LteUeRrc:SwitchToState(): [INFO ] 0x5583117734c0 IMSI 2 RNTI 0 UeRrc IDLE_CELL_SEARCH --> IDLE_WAIT_MIB_SIB1\n",
      "+0.200214285s 4 LteUeRrc:SwitchToState(): [INFO ] 0x55831176fcd0 IMSI 1 RNTI 0 UeRrc IDLE_WAIT_MIB_SIB1 --> IDLE_WAIT_SIB1\n",
      "+0.200214285s 5 LteUeRrc:SwitchToState(): [INFO ] 0x5583117734c0 IMSI 2 RNTI 0 UeRrc IDLE_WAIT_MIB_SIB1 --> IDLE_WAIT_SIB1\n",
      "+0.205214285s 4 LteUeRrc:SwitchToState(): [INFO ] 0x55831176fcd0 IMSI 1 RNTI 0 UeRrc IDLE_WAIT_SIB1 --> IDLE_CAMPED_NORMALLY\n",
      "+0.205214285s 4 LteUeRrc:SwitchToState(): [INFO ] 0x55831176fcd0 IMSI 1 RNTI 0 UeRrc IDLE_CAMPED_NORMALLY --> IDLE_WAIT_SIB2\n",
      "+0.205214285s 5 LteUeRrc:SwitchToState(): [INFO ] 0x5583117734c0 IMSI 2 RNTI 0 UeRrc IDLE_WAIT_SIB1 --> IDLE_CAMPED_NORMALLY\n",
      "+0.205214285s 5 LteUeRrc:SwitchToState(): [INFO ] 0x5583117734c0 IMSI 2 RNTI 0 UeRrc IDLE_CAMPED_NORMALLY --> IDLE_WAIT_SIB2\n",
      "+0.256000000s -1 LteUeRrc:SwitchToState(): [INFO ] 0x55831176fcd0 IMSI 1 RNTI 0 UeRrc IDLE_WAIT_SIB2 --> IDLE_RANDOM_ACCESS\n",
      "+0.256000000s -1 LteUeRrc:SwitchToState(): [INFO ] 0x5583117734c0 IMSI 2 RNTI 0 UeRrc IDLE_WAIT_SIB2 --> IDLE_RANDOM_ACCESS\n",
      "+0.258000000s 6 LteEnbMac:DoSubframeIndication(): [INFO ] 0x55831179fec0 preambleId 6: 1 received\n",
      "+0.258000000s 6 LteEnbRrc:GetNewSrsConfigurationIndex(): [DEBUG] 0x5583117a0880 SRS p 40 set 0\n",
      "+0.258000000s 6 LteEnbRrc:AddUe(): [DEBUG] 0x5583117a0880 New UE RNTI 1 cellId 1 srs CI 37\n",
      "+0.258000000s 6 LteEnbMac:DoSubframeIndication(): [INFO ] preambleId 6: allocated T-C-RNTI 1, sending RAR\n",
      "+0.258000000s 6 LteEnbMac:DoSubframeIndication(): [INFO ] 0x55831179fec0 preambleId 40: 1 received\n",
      "+0.258000000s 6 LteEnbRrc:GetNewSrsConfigurationIndex(): [DEBUG] 0x5583117a0880 SRS p 40 set 1\n",
      "+0.258000000s 6 LteEnbRrc:GetNewSrsConfigurationIndex(): [DEBUG] 0x5583117a0880 lower bound 37 of 76\n",
      "+0.258000000s 6 LteEnbRrc:AddUe(): [DEBUG] 0x5583117a0880 New UE RNTI 2 cellId 1 srs CI 38\n",
      "+0.258000000s 6 LteEnbMac:DoSubframeIndication(): [INFO ] preambleId 40: allocated T-C-RNTI 2, sending RAR\n",
      "+0.258000000s 6 LteEnbMac:DoSchedDlConfigInd(): [INFO ] 0x55831179fec0 Send RAR message to RNTI 1 rapId 6\n",
      "+0.258000000s 6 LteEnbMac:DoSchedDlConfigInd(): [INFO ] 0x55831179fec0 Send RAR message to RNTI 2 rapId 40\n",
      "+0.260214285s 4 LteUeRrc:SwitchToState(): [INFO ] 0x55831176fcd0 IMSI 1 RNTI 2 UeRrc IDLE_RANDOM_ACCESS --> IDLE_CONNECTING\n",
      "+0.260214285s 4 LteRrcProtocolIdeal:SetEnbRrcSapProvider(): [DEBUG] RNTI 2 connected to cell 1\n",
      "+0.260214285s 5 LteUeRrc:SwitchToState(): [INFO ] 0x5583117734c0 IMSI 2 RNTI 1 UeRrc IDLE_RANDOM_ACCESS --> IDLE_CONNECTING\n",
      "+0.260214285s 5 LteRrcProtocolIdeal:SetEnbRrcSapProvider(): [DEBUG] RNTI 1 connected to cell 1\n",
      "+0.260214285s 4 LteUeRrc:SwitchToState(): [INFO ] 0x55831176fcd0 IMSI 1 RNTI 2 UeRrc IDLE_CONNECTING --> CONNECTED_NORMALLY\n",
      "+0.260214285s 5 LteUeRrc:SwitchToState(): [INFO ] 0x5583117734c0 IMSI 2 RNTI 1 UeRrc IDLE_CONNECTING --> CONNECTED_NORMALLY\n",
      "+0.260214785s 2 LteEnbRrc:SetupDataRadioBearer(): [DEBUG] 0x5583116e99c0 RNTI 2Lcid 3 lcGroup 2 ComponentCarrierId 0\n",
      "+0.260214785s 2 LteUeRrc:DoRecvRrcConnectionReconfiguration(): [INFO ] DoRecvRrcConnectionReconfiguration haveNonCriticalExtension:0\n",
      "+0.260214785s 2 LteUeRrc:DoRecvRrcConnectionReconfiguration(): [INFO ] haveMobilityControlInfo == false\n",
      "+0.260214785s 2 LteUeRrc:ApplyRadioResourceConfigDedicated(): [INFO ] request to modify SRB1 (skipping as currently not implemented)\n",
      "+0.260214785s 2 LteUeRrc:ApplyRadioResourceConfigDedicated(): [INFO ] 0x55831176fcd0 IMSI 1 adding/modifying DRBID 1 LC 3\n",
      "+0.260214785s 2 LteUeRrc:ApplyRadioResourceConfigDedicated(): [INFO ] New Data Radio Bearer\n",
      "+0.260214785s 2 LteRrcProtocolIdeal:SetEnbRrcSapProvider(): [DEBUG] RNTI 2 connected to cell 1\n",
      "+0.260214917s 2 LteEnbRrc:SetupDataRadioBearer(): [DEBUG] 0x5583116eb9d0 RNTI 1Lcid 3 lcGroup 2 ComponentCarrierId 0\n",
      "+0.260214917s 2 LteUeRrc:DoRecvRrcConnectionReconfiguration(): [INFO ] DoRecvRrcConnectionReconfiguration haveNonCriticalExtension:0\n",
      "+0.260214917s 2 LteUeRrc:DoRecvRrcConnectionReconfiguration(): [INFO ] haveMobilityControlInfo == false\n",
      "+0.260214917s 2 LteUeRrc:ApplyRadioResourceConfigDedicated(): [INFO ] request to modify SRB1 (skipping as currently not implemented)\n",
      "+0.260214917s 2 LteUeRrc:ApplyRadioResourceConfigDedicated(): [INFO ] 0x5583117734c0 IMSI 2 adding/modifying DRBID 1 LC 3\n",
      "+0.260214917s 2 LteUeRrc:ApplyRadioResourceConfigDedicated(): [INFO ] New Data Radio Bearer\n",
      "+0.260214917s 2 LteRrcProtocolIdeal:SetEnbRrcSapProvider(): [DEBUG] RNTI 1 connected to cell 1\n",
      "\n",
      "\n",
      "####################################################\n",
      "EPC Connection Setup Logs [SGW, PGW, MME]\n",
      "####################################################\n",
      "+0.000000000s -1 PointToPointEpcHelper:AddEnb(): [LOGIC] Ipv4 ifaces of the eNB after installing p2p dev: 1\n",
      "+0.000000000s -1 PointToPointEpcHelper:AddEnb(): [LOGIC] number of Ipv4 ifaces of the eNB after assigning Ipv4 addr to S1 dev: 2\n",
      "+0.260214549s 0 EpcPgwApplication:DoRecvCreateSessionRequest(): [DEBUG] cellId 1 IMSI 1\n",
      "+0.260214549s 0 EpcPgwApplication:DoRecvCreateSessionRequest(): [DEBUG] BearerContextsToBeCreated size = 1\n",
      "+0.260214549s 0 EpcPgwApplication:DoRecvCreateSessionRequest(): [DEBUG] bearerId 1 SGW 10.0.0.6 TEID 1\n",
      "+0.260214549s 0 EpcPgwApplication:DoRecvCreateSessionRequest(): [DEBUG] BearerContextsCreated size = 1\n",
      "+0.260214549s 0 EpcPgwApplication:DoRecvCreateSessionRequest(): [DEBUG] Send CreateSessionResponse to SGW 14.0.0.6\n",
      "+0.260214681s 0 EpcPgwApplication:DoRecvCreateSessionRequest(): [DEBUG] cellId 1 IMSI 2\n",
      "+0.260214681s 0 EpcPgwApplication:DoRecvCreateSessionRequest(): [DEBUG] BearerContextsToBeCreated size = 1\n",
      "+0.260214681s 0 EpcPgwApplication:DoRecvCreateSessionRequest(): [DEBUG] bearerId 1 SGW 10.0.0.6 TEID 2\n",
      "+0.260214681s 0 EpcPgwApplication:DoRecvCreateSessionRequest(): [DEBUG] BearerContextsCreated size = 1\n",
      "+0.260214681s 0 EpcPgwApplication:DoRecvCreateSessionRequest(): [DEBUG] Send CreateSessionResponse to SGW 14.0.0.6\n"
     ]
    }
   ],
   "source": [
    "%run -i 'Modules/lab3-dataPre.py'"
   ]
  },
  {
   "cell_type": "markdown",
   "id": "d4193d5a-6f96-46ba-98d0-7691db3cf555",
   "metadata": {
    "tags": []
   },
   "source": [
    "### <u>Exercises</u>"
   ]
  },
  {
   "cell_type": "markdown",
   "id": "065c92c6-b775-4cb8-92e8-170a92084417",
   "metadata": {
    "tags": []
   },
   "source": [
    "#### Q2.3.2a: Make sure that the simulation recognizes two UEs and one eNB for the designed topology. Which identifiers did you refer to?"
   ]
  },
  {
   "cell_type": "markdown",
   "id": "8b9c9971-2e37-47f5-9016-1a1dc1ee40fd",
   "metadata": {},
   "source": [
    "<b> Answer:</b>"
   ]
  },
  {
   "cell_type": "code",
   "execution_count": null,
   "id": "c9cbe73b-8b7f-4f01-bcdb-a7f693061cd8",
   "metadata": {
    "tags": []
   },
   "outputs": [],
   "source": [
    "## Note 1: use the output above, obtained from the simulation logs (refer to Figure 5 if needed)\n",
    "## Note 2: if you don't find two UEs consider moving them closer to the eNB and repeating the simulation\n",
    "\n",
    "# write down possible eNB identifiers\n",
    "eNB_ids = \"cellId 1\"\n",
    "\n",
    "\n",
    "# write down possible UE identifiers\n",
    "UE_ids = \"IMSI 1, RNTI 1; IMSI 2, RNTI 2\"\n",
    "\n"
   ]
  },
  {
   "cell_type": "markdown",
   "id": "dd2d4777-c814-4b7f-8c4b-371a47c1073a",
   "metadata": {
    "tags": []
   },
   "source": [
    " \n",
    "#### Q2.3.2b: Identify observed bearer types and any logs related to the establishment of these LTE bearers?"
   ]
  },
  {
   "cell_type": "markdown",
   "id": "b77ccadc-120d-49fc-9aa7-3e8d879c5468",
   "metadata": {},
   "source": [
    "<b> Answer:</b>"
   ]
  },
  {
   "cell_type": "code",
   "execution_count": null,
   "id": "fe2872e1-1888-4781-b8b2-519e09c0bd31",
   "metadata": {},
   "outputs": [],
   "source": [
    "## Note: Refer again to the same logs\n",
    "\n",
    "bearers = [\"Data Radio Bearer; ID 1; TEID 1\", \"Data Radio Bearer; ID 1; TEID 2\"]\n"
   ]
  },
  {
   "cell_type": "markdown",
   "id": "1e1fa90f-5320-4772-bfc6-917f1f242bdc",
   "metadata": {
    "tags": []
   },
   "source": [
    "#### Q2.3.3: What is a bearer in LTE? What is the difference between a dedicated and default bearer?"
   ]
  },
  {
   "cell_type": "markdown",
   "id": "b9279927-8762-4da1-abd6-100c3f250ded",
   "metadata": {},
   "source": [
    "<b> Answer:</b>"
   ]
  },
  {
   "cell_type": "markdown",
   "id": "5df8faa0-11dc-43f5-bcc0-ecd9db0d9d46",
   "metadata": {},
   "source": [
    "A bearer refers to a logical connection established between a user device and a network. A dedicated bearer is a bearer established for a specific service or application, whereas a default bearer is a bearer established automatically when a device connects to the LTE network."
   ]
  },
  {
   "cell_type": "markdown",
   "id": "41ad0836-94bc-4b9d-8475-635c67804b3e",
   "metadata": {
    "tags": []
   },
   "source": [
    "#### Q2.3.4: Identify the random access procedure logs for one of the UEs from the available logs? All the involved messages must be identified.\n",
    "\n",
    "> **Hint:** Preamble detection, random access, random access response are some of the messages\n"
   ]
  },
  {
   "cell_type": "markdown",
   "id": "1831f960-56f8-47cf-ab00-0655fca6525c",
   "metadata": {},
   "source": [
    "<b> Answer:</b>"
   ]
  },
  {
   "cell_type": "markdown",
   "id": "c55b3c99-8cd1-472d-9d48-a76ef6a96db2",
   "metadata": {
    "tags": []
   },
   "source": [
    "+0.258000000s 6 LteEnbMac:DoSubframeIndication(): [INFO ] 0x55f9e9574ec0 preambleId 6: 1 received\n",
    "+0.258000000s 6 LteEnbRrc:GetNewSrsConfigurationIndex(): [DEBUG] 0x55f9e9575880 SRS p 40 set 0\n",
    "+0.258000000s 6 LteEnbRrc:AddUe(): [DEBUG] 0x55f9e9575880 New UE RNTI 1 cellId 1 srs CI 37\n",
    "+0.258000000s 6 LteEnbMac:DoSubframeIndication(): [INFO ] preambleId 6: allocated T-C-RNTI 1, sending RAR\n",
    "+0.258000000s 6 LteEnbRrc:GetNewSrsConfigurationIndex(): [DEBUG] 0x55f9e9575880 lower bound 37 of 76                          ??????\n",
    "+0.258000000s 6 LteEnbMac:DoSchedDlConfigInd(): [INFO ] 0x55f9e9574ec0 Send RAR message to RNTI 1 rapId 6\n",
    "+0.260214285s 4 LteUeRrc:SwitchToState(): [INFO ] 0x55f9e9544cd0 IMSI 1 RNTI 1 UeRrc IDLE_RANDOM_ACCESS --> IDLE_CONNECTING\n",
    "+0.260214285s 4 LteRrcProtocolIdeal:SetEnbRrcSapProvider(): [DEBUG] RNTI 1 connected to cell 1\n",
    "+0.260214285s 4 LteUeRrc:SwitchToState(): [INFO ] 0x55f9e9544cd0 IMSI 1 RNTI 1 UeRrc IDLE_CONNECTING --> CONNECTED_NORMALLY"
   ]
  },
  {
   "cell_type": "markdown",
   "id": "e43d5746-c308-4348-9ef0-e4179afd735b",
   "metadata": {
    "tags": []
   },
   "source": [
    "#### Q2.3.5: What are the different functionalities of the MME and SGW in LTE networks?"
   ]
  },
  {
   "cell_type": "markdown",
   "id": "45645683-49da-403e-8fa3-be818f5007c1",
   "metadata": {},
   "source": [
    "<b> Answer:</b>"
   ]
  },
  {
   "cell_type": "markdown",
   "id": "1d57f083-796d-4b17-84ff-0605e748cff1",
   "metadata": {},
   "source": [
    "The MME is responsible for the management of user mobility in LTE networks, whereas the SGW is responsible for the routing of data traffic between the user device and the core network in LTE networks.\n",
    "\n",
    "The MME only operates on the signalling / control plane. No user data actually traverses it, data is only sent through the SGW. The SGW also keeps track of the total amount of data sent to and received by the user for billing purposes.\n",
    "\n",
    "MME is responsible for authentication and keeps track of where the user is located. It also sets up and controls user sessions."
   ]
  },
  {
   "cell_type": "markdown",
   "id": "232f4a71-3070-4038-aeff-7b06b64d04cb",
   "metadata": {
    "tags": []
   },
   "source": [
    "#### Q2.3.6: Describe the difference of the identification mechanism (IMSI, RNTI, etc.) of UEs for the simulated ns-3 network and a real world LTE network like Telenor?"
   ]
  },
  {
   "cell_type": "markdown",
   "id": "7a9c4f5c-3936-4e1c-980c-e2eb0720fd86",
   "metadata": {},
   "source": [
    "<b> Answer:</b>"
   ]
  },
  {
   "cell_type": "markdown",
   "id": "fafecd3a-26eb-4288-ace4-983de5bd54e4",
   "metadata": {},
   "source": [
    "The IMSI's are wayyy to short, a proper IMSI in a real-world LTE network is a unique 15-digit number containing the MCC and MNC number for the subscriber, which is registered in the HSS. It doesn't look as if a HSS is included in this simulation for simplicity. The real-world RNTI is also a short number used to identify which resource blocks are given to which UE. It has 16 bits and its value depends on the type of RNTI."
   ]
  },
  {
   "cell_type": "markdown",
   "id": "be08a817-7042-40f2-b8c7-ccbbfdc4a320",
   "metadata": {
    "tags": []
   },
   "source": [
    "---\n",
    "---\n",
    "### <span style=\"color:blue\"> Milestone 1 </span>\n",
    "\n",
    "Before proceeding, **call a TA** to make sure everything went as expected.\n",
    "\n",
    "---\n",
    "---"
   ]
  },
  {
   "cell_type": "markdown",
   "id": "d0bd9d4a-0273-4f5d-b04e-4347714295d9",
   "metadata": {
    "tags": []
   },
   "source": [
    "## <span style=\"color:red\"> *Task#2: Attachment of UEs with the LTE Network* </span>\n",
    "In this task, we will observe the connection setup (those implemented in ns-3) for the RAN and EPC parts of the network. The process starts with the communication between UEs and eNBs as the cell search begins with the attachment of users to eNBs. This is followed up by random access and the associated states of the UEs and eNBs upon reception of various communication messages from within RAN and the EPC. The state machine implementation in ns-3 for the eNB and UE RRC layers allows the users in the LTE RAN to transition through these states upon occurrence of various events. By observing the sequence of events, we can verify, optimize and potentially troubleshoot issues in the network."
   ]
  },
  {
   "cell_type": "markdown",
   "id": "5ffa98c6-77b4-4d67-a2ee-b47226e6a193",
   "metadata": {
    "tags": []
   },
   "source": [
    "### 3.1 Designing a RAN topology\n",
    "Kindly utilize the blueprint provided in <a id='fig7'>[Figure. 7](#fig7)</a> to design the topology. The <b>eNB TXPower = 40dBm</b> for this task.\n",
    "\n",
    "| |\n",
    "|---|\n",
    "| ![lab3-task2-topology.png](Figures/lab3-task2-topology.png) |\n",
    "<a id='fig7'><p style=\"text-align: center;\"><b>[Figure. 7: LTE RAN topology.](#fig7)</b></a>\n",
    "\n",
    "> <b>Note:</b> Access the React application via: http://vm-public-ip:3000/."
   ]
  },
  {
   "cell_type": "markdown",
   "id": "7f722a5b-7fd5-408c-8a0e-60f3570b162b",
   "metadata": {},
   "source": [
    "### 3.2 Simulate the designed topology in ns-3\n",
    "The python code in `lab3-init.py` is provided to convert the design topology in a form acceptable to the SEM and ns-3 simulation engines.\n",
    "\n",
    "> <b>Note:</b> The python code will display the saved topologies from the react app and we can choose any one of them to simulate along with a value for <b>eNB power = 40dBm</b>."
   ]
  },
  {
   "cell_type": "code",
   "execution_count": 33,
   "id": "ffc06572-3973-41d9-a720-056001cfe465",
   "metadata": {},
   "outputs": [
    {
     "name": "stdout",
     "output_type": "stream",
     "text": [
      "List of created simulations: \n",
      " \n",
      "task3_tx40_5\n",
      "test\n",
      "task3_tx40_3\n",
      "task3_tx25_3\n",
      "lab_3_tx40_conn_fail_6\n",
      "lab_3_tx40_conn_fail_7\n",
      "task3_tx40_4\n",
      "task3_tx25_2\n",
      "task3_tx35_2\n",
      "lab_3_tx40_conn_fail\n",
      "task3_tx40_1\n",
      "lab_3_tx40_2\n",
      "lab_3_tx40_conn_fail_9\n",
      "lab_3_tx40\n",
      "lab_3_tx40_conn_fail_4\n",
      "lab_3_tx40_conn_fail_2\n",
      "lab_3_tx40_conn_fail_10\n",
      "task3_tx25_1\n",
      "lab_3_tx40_conn_fail_5\n",
      "lab_3_tx40_conn_fail_11\n",
      "lab_3_closer\n",
      "lab_3_tx40_conn_fail_nu\n",
      "lab_3_tx40_conn_fail_8\n",
      "4_ue_jalla\n",
      "lab3_tx40_conn_fail_12\n",
      "lab_3_tx40_conn_fail_3\n",
      "fig_4_lte_ran\n",
      "task3_tx35_1\n",
      "\n"
     ]
    },
    {
     "name": "stdin",
     "output_type": "stream",
     "text": [
      "List the simulation to run:  task3_tx40_4\n",
      "Show a picture of the topology? (y/n) y\n"
     ]
    },
    {
     "name": "stdout",
     "output_type": "stream",
     "text": [
      "Generating topology pictures...\n"
     ]
    },
    {
     "data": {
      "text/markdown": [
       "<img src=\"./Figures/GeneratedImages/image task3_tx40_4.png\" alt = \"test pic\" style=\"background-color: white;\"> "
      ],
      "text/plain": [
       "<IPython.core.display.Markdown object>"
      ]
     },
     "metadata": {},
     "output_type": "display_data"
    },
    {
     "name": "stdout",
     "output_type": "stream",
     "text": [
      "Connection Tracing Simualtions for RAN...\n",
      "Starting simulation 1...\n"
     ]
    },
    {
     "name": "stderr",
     "output_type": "stream",
     "text": [
      "Running simulations: 100%|██████████| 1/1 [00:01<00:00,  1.86s/simulation]\n"
     ]
    },
    {
     "name": "stdout",
     "output_type": "stream",
     "text": [
      "Simulation 1 finished!\n",
      "There are 1 results in the database\n",
      "\n",
      "Connection Tracing Simualtions for EPC...\n",
      "Starting simulation 2...\n"
     ]
    },
    {
     "name": "stderr",
     "output_type": "stream",
     "text": [
      "Running simulations: 100%|██████████| 1/1 [00:01<00:00,  1.89s/simulation]"
     ]
    },
    {
     "name": "stdout",
     "output_type": "stream",
     "text": [
      "Simulation 2 finished!\n",
      "There are 1 results in the database\n",
      "\n"
     ]
    },
    {
     "name": "stderr",
     "output_type": "stream",
     "text": [
      "\n"
     ]
    }
   ],
   "source": [
    "%run -i 'Modules/lab3-init.py'"
   ]
  },
  {
   "cell_type": "markdown",
   "id": "999d779d-74da-45e6-9d5f-99d88641a892",
   "metadata": {},
   "source": [
    "### 3.3 Processing the simulation data\n",
    "The python code in `lab3-dataPre.py` is provided to process and clean the obtained data from ns-3 simulations.\n",
    "\n",
    "> <b>Note:</b> Two different levels of logs are collected to exhibit the state machines for UE and eNB as they experience different stages of connection establishment within RAN and with EPC as shown in <a id='fig3'>[Figure. 3](#fig3)</a>.\n",
    "  \n",
    "\n",
    "#### 3.3.1 Structure of Simulation Logs\n",
    "The format of the observed logs is important to decode according to the contained information. <a id='fig5'>[Figure. 5](#fig5)</a> and <a id='fig6'>[Figure. 6](#fig6)</a> provides the description of a single observed log and its fields:"
   ]
  },
  {
   "cell_type": "code",
   "execution_count": 34,
   "id": "d3ce4e40-8fa7-492d-b0ce-e8bbdf153d59",
   "metadata": {},
   "outputs": [
    {
     "name": "stdout",
     "output_type": "stream",
     "text": [
      "####################################################\n",
      "RAN Connection Setup Logs [MAC, RRC for eNB and UE]\n",
      "####################################################\n",
      "+0.000000000s -1 LteUeRrc:SwitchToState(): [INFO ] 0x55a520a70b10 IMSI 1 RNTI 0 UeRrc IDLE_START --> IDLE_CELL_SEARCH\n",
      "\n",
      "\n",
      "####################################################\n",
      "EPC Connection Setup Logs [SGW, PGW, MME]\n",
      "####################################################\n",
      "+0.000000000s -1 PointToPointEpcHelper:AddEnb(): [LOGIC] Ipv4 ifaces of the eNB after installing p2p dev: 1\n",
      "+0.000000000s -1 PointToPointEpcHelper:AddEnb(): [LOGIC] number of Ipv4 ifaces of the eNB after assigning Ipv4 addr to S1 dev: 2\n"
     ]
    }
   ],
   "source": [
    "%run -i 'Modules/lab3-dataPre.py'"
   ]
  },
  {
   "cell_type": "markdown",
   "id": "a7078f9e-33d4-4340-9cfd-fdfd12598c11",
   "metadata": {
    "tags": []
   },
   "source": [
    "### <u>Exercises</u>"
   ]
  },
  {
   "cell_type": "markdown",
   "id": "2d1f97df-aca8-4b17-986d-07e0628ed73f",
   "metadata": {
    "tags": []
   },
   "source": [
    "#### Q3.4.1a: Identify the states of each UE until it is connected with the eNB (the completion of Attachment process)."
   ]
  },
  {
   "cell_type": "markdown",
   "id": "10148e14-6e7e-43fe-aacc-43d2c6bf8e3f",
   "metadata": {},
   "source": [
    "<b> Answer:</b>"
   ]
  },
  {
   "cell_type": "markdown",
   "id": "a2d23d97-9383-42ae-ab20-c12ff15c371e",
   "metadata": {},
   "source": [
    "IMSI 1 IDLE_START --> IDLE_CELL_SEARCH\n",
    "IMSI 2 IDLE_START --> IDLE_CELL_SEARCH --> IDLE_WAIT_MIB_SIB1 --> IDLE_WAIT_SIB1--> IDLE_CAMPED_NORMALLY --> IDLE_WAIT_SIB2 --> IDLE_RANDOM_ACCESS --> IDLE_CONNECTING --> CONNECTED_NORMALLY"
   ]
  },
  {
   "cell_type": "markdown",
   "id": "3873fdec-34b7-4bec-a739-4700bb43f0c2",
   "metadata": {
    "tags": []
   },
   "source": [
    "#### Q3.4.1b: List relevant logs from the simulation where necessary for Q3.4.1a.\n",
    "> **Hint:** Check if all the users are present in the logs"
   ]
  },
  {
   "cell_type": "markdown",
   "id": "cb570dce-9d5c-441a-b19a-aac9ce947d39",
   "metadata": {},
   "source": [
    "<b> Answer:</b>"
   ]
  },
  {
   "cell_type": "raw",
   "id": "d4ecb42a-62b9-48ca-a8df-e935b9b7ed20",
   "metadata": {},
   "source": [
    "+0.000000000s -1 LteUeRrc:SwitchToState(): [INFO ] 0x5621c77d0cd0 IMSI 1 RNTI 0 UeRrc IDLE_START --> IDLE_CELL_SEARCH\n",
    "+0.000000000s -1 LteUeRrc:SwitchToState(): [INFO ] 0x5621c77d44c0 IMSI 2 RNTI 0 UeRrc IDLE_START --> IDLE_CELL_SEARCH\n",
    "+0.200000000s -1 LteUeRrc:SwitchToState(): [INFO ] 0x5621c77d44c0 IMSI 2 RNTI 0 UeRrc IDLE_CELL_SEARCH --> IDLE_WAIT_MIB_SIB1\n",
    "+0.200214285s 5 LteUeRrc:SwitchToState(): [INFO ] 0x5621c77d44c0 IMSI 2 RNTI 0 UeRrc IDLE_WAIT_MIB_SIB1 --> IDLE_WAIT_SIB1\n",
    "+0.205214285s 5 LteUeRrc:SwitchToState(): [INFO ] 0x5621c77d44c0 IMSI 2 RNTI 0 UeRrc IDLE_WAIT_SIB1 --> IDLE_CAMPED_NORMALLY\n",
    "+0.205214285s 5 LteUeRrc:SwitchToState(): [INFO ] 0x5621c77d44c0 IMSI 2 RNTI 0 UeRrc IDLE_CAMPED_NORMALLY --> IDLE_WAIT_SIB2\n",
    "+0.256000000s -1 LteUeRrc:SwitchToState(): [INFO ] 0x5621c77d44c0 IMSI 2 RNTI 0 UeRrc IDLE_WAIT_SIB2 --> IDLE_RANDOM_ACCESS\n",
    "+0.260214285s 5 LteUeRrc:SwitchToState(): [INFO ] 0x5621c77d44c0 IMSI 2 RNTI 1 UeRrc IDLE_RANDOM_ACCESS --> IDLE_CONNECTING\n",
    "+0.260214285s 5 LteUeRrc:SwitchToState(): [INFO ] 0x5621c77d44c0 IMSI 2 RNTI 1 UeRrc IDLE_CONNECTING --> CONNECTED_NORMALLY\n",
    "\n",
    "These are the logs from running our first 12 simulation attempts. Later on in the later tasks we experienced the edge case that we were supposed to find. Here are the relevant log lines from this simulation:\n",
    "\n",
    "After CONNECTED_NORMALLY:\n",
    "+0.460214285s 4 LteUeRrc:DoNotifyOutOfSync(): [INFO ] 0x559ec467eaf0 Total Number of Sync indications from PHY 1N310 value : 6\n",
    "+0.660214285s 4 LteUeRrc:DoNotifyOutOfSync(): [INFO ] 0x559ec467eaf0 Total Number of Sync indications from PHY 2N310 value : 6\n",
    "+0.860214285s 4 LteUeRrc:DoNotifyOutOfSync(): [INFO ] 0x559ec467eaf0 Total Number of Sync indications from PHY 3N310 value : 6\n",
    "+1.060214285s 4 LteUeRrc:DoNotifyOutOfSync(): [INFO ] 0x559ec467eaf0 Total Number of Sync indications from PHY 4N310 value : 6\n",
    "+1.260214285s 4 LteUeRrc:DoNotifyOutOfSync(): [INFO ] 0x559ec467eaf0 Total Number of Sync indications from PHY 5N310 value : 6\n",
    "+1.460214285s 4 LteUeRrc:DoNotifyOutOfSync(): [INFO ] 0x559ec467eaf0 Total Number of Sync indications from PHY 6N310 value : 6\n",
    "+1.460214285s 4 LteUeRrc:DoNotifyOutOfSync(): [INFO ] t310 started\n",
    "+2.460214285s 4 LteUeRrc:SwitchToState(): [INFO ] 0x559ec467eaf0 IMSI 1 RNTI 1 UeRrc CONNECTED_NORMALLY --> CONNECTED_PHY_PROBLEM\n",
    "\n",
    "After CONNECTED_PHY_PROBLEM the UE goes back to the IDLE_START state then repeats the connection process.\n",
    "\n",
    "The eNB sets up 3 different signals that the UE might connect to:\n",
    "\n",
    "+2.658000000s 5 LteEnbMac:DoSubframeIndication(): [INFO ] 0x559ec46aece0 preambleId 9: 1 received\n",
    "+2.658000000s 5 LteEnbRrc:GetNewSrsConfigurationIndex(): [DEBUG] 0x559ec46af6a0 SRS p 40 set 0\n",
    "+2.658000000s 5 LteEnbRrc:AddUe(): [DEBUG] 0x559ec46af6a0 New UE RNTI 2 cellId 1 srs CI 37\n",
    "+2.658000000s 5 LteEnbMac:DoSubframeIndication(): [INFO ] preambleId 9: allocated T-C-RNTI 2, sending RAR\n",
    "+2.658000000s 5 LteEnbMac:DoSchedDlConfigInd(): [INFO ] 0x559ec46aece0 Send RAR message to RNTI 2 rapId 9\n",
    "+2.663000000s 5 LteEnbMac:DoSubframeIndication(): [INFO ] 0x559ec46aece0 preambleId 13: 1 received\n",
    "+2.663000000s 5 LteEnbRrc:GetNewSrsConfigurationIndex(): [DEBUG] 0x559ec46af6a0 SRS p 40 set 1\n",
    "+2.663000000s 5 LteEnbRrc:GetNewSrsConfigurationIndex(): [DEBUG] 0x559ec46af6a0 lower bound 37 of 76\n",
    "+2.663000000s 5 LteEnbRrc:AddUe(): [DEBUG] 0x559ec46af6a0 New UE RNTI 3 cellId 1 srs CI 38\n",
    "+2.663000000s 5 LteEnbMac:DoSubframeIndication(): [INFO ] preambleId 13: allocated T-C-RNTI 3, sending RAR\n",
    "+2.663000000s 5 LteEnbMac:DoSchedDlConfigInd(): [INFO ] 0x559ec46aece0 Send RAR message to RNTI 3 rapId 13\n",
    "+2.669000000s 5 LteEnbMac:DoSubframeIndication(): [INFO ] 0x559ec46aece0 preambleId 19: 1 received\n",
    "+2.669000000s 5 LteEnbRrc:GetNewSrsConfigurationIndex(): [DEBUG] 0x559ec46af6a0 SRS p 40 set 2\n",
    "+2.669000000s 5 LteEnbRrc:GetNewSrsConfigurationIndex(): [DEBUG] 0x559ec46af6a0 lower bound 38 of 76\n",
    "+2.669000000s 5 LteEnbRrc:AddUe(): [DEBUG] 0x559ec46af6a0 New UE RNTI 4 cellId 1 srs CI 39\n",
    "+2.669000000s 5 LteEnbMac:DoSubframeIndication(): [INFO ] preambleId 19: allocated T-C-RNTI 4, sending RAR\n",
    "+2.669000000s 5 LteEnbMac:DoSchedDlConfigInd(): [INFO ] 0x559ec46aece0 Send RAR message to RNTI 4 rapId 19\n",
    "+2.671214285s 4 LteUeRrc:SwitchToState(): [INFO ] 0x559ec467eaf0 IMSI 1 RNTI 4 UeRrc IDLE_RANDOM_ACCESS --> IDLE_CONNECTING\n",
    "\n",
    "The UE decides to use RNTI 4 and finishes the connection with this signal channel.\n"
   ]
  },
  {
   "cell_type": "raw",
   "id": "68259b30-181c-48f1-b3d3-a9f7833c6158",
   "metadata": {},
   "source": [
    "Complete log from edge case with PHY CONN PROBLEM:\n",
    "\n",
    "####################################################\n",
    "RAN Connection Setup Logs [MAC, RRC for eNB and UE]\n",
    "####################################################\n",
    "+0.000000000s -1 LteUeRrc:SwitchToState(): [INFO ] 0x559ec467eaf0 IMSI 1 RNTI 0 UeRrc IDLE_START --> IDLE_CELL_SEARCH\n",
    "+0.200000000s -1 LteUeRrc:SwitchToState(): [INFO ] 0x559ec467eaf0 IMSI 1 RNTI 0 UeRrc IDLE_CELL_SEARCH --> IDLE_WAIT_MIB_SIB1\n",
    "+0.200214285s 4 LteUeRrc:SwitchToState(): [INFO ] 0x559ec467eaf0 IMSI 1 RNTI 0 UeRrc IDLE_WAIT_MIB_SIB1 --> IDLE_WAIT_SIB1\n",
    "+0.205214285s 4 LteUeRrc:SwitchToState(): [INFO ] 0x559ec467eaf0 IMSI 1 RNTI 0 UeRrc IDLE_WAIT_SIB1 --> IDLE_CAMPED_NORMALLY\n",
    "+0.205214285s 4 LteUeRrc:SwitchToState(): [INFO ] 0x559ec467eaf0 IMSI 1 RNTI 0 UeRrc IDLE_CAMPED_NORMALLY --> IDLE_WAIT_SIB2\n",
    "+0.256000000s -1 LteUeRrc:SwitchToState(): [INFO ] 0x559ec467eaf0 IMSI 1 RNTI 0 UeRrc IDLE_WAIT_SIB2 --> IDLE_RANDOM_ACCESS\n",
    "+0.258000000s 5 LteEnbMac:DoSubframeIndication(): [INFO ] 0x559ec46aece0 preambleId 23: 1 received\n",
    "+0.258000000s 5 LteEnbRrc:GetNewSrsConfigurationIndex(): [DEBUG] 0x559ec46af6a0 SRS p 40 set 0\n",
    "+0.258000000s 5 LteEnbRrc:AddUe(): [DEBUG] 0x559ec46af6a0 New UE RNTI 1 cellId 1 srs CI 37\n",
    "+0.258000000s 5 LteEnbMac:DoSubframeIndication(): [INFO ] preambleId 23: allocated T-C-RNTI 1, sending RAR\n",
    "+0.258000000s 5 LteEnbMac:DoSchedDlConfigInd(): [INFO ] 0x559ec46aece0 Send RAR message to RNTI 1 rapId 23\n",
    "+0.260214285s 4 LteUeRrc:SwitchToState(): [INFO ] 0x559ec467eaf0 IMSI 1 RNTI 1 UeRrc IDLE_RANDOM_ACCESS --> IDLE_CONNECTING\n",
    "+0.260214285s 4 LteRrcProtocolIdeal:SetEnbRrcSapProvider(): [DEBUG] RNTI 1 connected to cell 1\n",
    "+0.260214285s 4 LteUeRrc:SwitchToState(): [INFO ] 0x559ec467eaf0 IMSI 1 RNTI 1 UeRrc IDLE_CONNECTING --> CONNECTED_NORMALLY\n",
    "+0.260214785s 2 LteEnbRrc:SetupDataRadioBearer(): [DEBUG] 0x559ec45fa9d0 RNTI 1Lcid 3 lcGroup 2 ComponentCarrierId 0\n",
    "+0.260214785s 2 LteUeRrc:DoRecvRrcConnectionReconfiguration(): [INFO ] DoRecvRrcConnectionReconfiguration haveNonCriticalExtension:0\n",
    "+0.260214785s 2 LteUeRrc:DoRecvRrcConnectionReconfiguration(): [INFO ] haveMobilityControlInfo == false\n",
    "+0.260214785s 2 LteUeRrc:ApplyRadioResourceConfigDedicated(): [INFO ] request to modify SRB1 (skipping as currently not implemented)\n",
    "+0.260214785s 2 LteUeRrc:ApplyRadioResourceConfigDedicated(): [INFO ] 0x559ec467eaf0 IMSI 1 adding/modifying DRBID 1 LC 3\n",
    "+0.260214785s 2 LteUeRrc:ApplyRadioResourceConfigDedicated(): [INFO ] New Data Radio Bearer\n",
    "+0.260214785s 2 LteRrcProtocolIdeal:SetEnbRrcSapProvider(): [DEBUG] RNTI 1 connected to cell 1\n",
    "+0.460214285s 4 LteUeRrc:DoNotifyOutOfSync(): [INFO ] 0x559ec467eaf0 Total Number of Sync indications from PHY 1N310 value : 6\n",
    "+0.660214285s 4 LteUeRrc:DoNotifyOutOfSync(): [INFO ] 0x559ec467eaf0 Total Number of Sync indications from PHY 2N310 value : 6\n",
    "+0.860214285s 4 LteUeRrc:DoNotifyOutOfSync(): [INFO ] 0x559ec467eaf0 Total Number of Sync indications from PHY 3N310 value : 6\n",
    "+1.060214285s 4 LteUeRrc:DoNotifyOutOfSync(): [INFO ] 0x559ec467eaf0 Total Number of Sync indications from PHY 4N310 value : 6\n",
    "+1.260214285s 4 LteUeRrc:DoNotifyOutOfSync(): [INFO ] 0x559ec467eaf0 Total Number of Sync indications from PHY 5N310 value : 6\n",
    "+1.460214285s 4 LteUeRrc:DoNotifyOutOfSync(): [INFO ] 0x559ec467eaf0 Total Number of Sync indications from PHY 6N310 value : 6\n",
    "+1.460214285s 4 LteUeRrc:DoNotifyOutOfSync(): [INFO ] t310 started\n",
    "+2.460214285s 4 LteUeRrc:SwitchToState(): [INFO ] 0x559ec467eaf0 IMSI 1 RNTI 1 UeRrc CONNECTED_NORMALLY --> CONNECTED_PHY_PROBLEM\n",
    "+2.460214285s 4 LteRrcProtocolIdeal:DoSendIdealUeContextRemoveRequest(): [DEBUG] RNTI 1 sending UE context remove request to cell id 1\n",
    "+2.460214285s 4 LteRrcProtocolIdeal:SetEnbRrcSapProvider(): [DEBUG] RNTI 1 connected to cell 1\n",
    "+2.460214285s 4 LteUeRrc:SwitchToState(): [INFO ] 0x559ec467eaf0 IMSI 1 RNTI 1 UeRrc CONNECTED_PHY_PROBLEM --> IDLE_START\n",
    "+2.460214285s 4 LteUeRrc:SwitchToState(): [INFO ] Starting initial cell selection after RLF\n",
    "+2.460214285s 4 LteUeRrc:SwitchToState(): [INFO ] 0x559ec467eaf0 IMSI 1 RNTI 1 UeRrc IDLE_START --> IDLE_CELL_SEARCH\n",
    "+2.460214285s 4 LteEnbRrc:RecvIdealUeContextRemoveRequest(): [DEBUG] Sending release of bearer id : 1LCID : 3\n",
    "+2.600000000s -1 LteUeRrc:SwitchToState(): [INFO ] 0x559ec467eaf0 IMSI 1 RNTI 0 UeRrc IDLE_CELL_SEARCH --> IDLE_WAIT_MIB_SIB1\n",
    "+2.600214285s 4 LteUeRrc:SwitchToState(): [INFO ] 0x559ec467eaf0 IMSI 1 RNTI 0 UeRrc IDLE_WAIT_MIB_SIB1 --> IDLE_WAIT_SIB1\n",
    "+2.605214285s 4 LteUeRrc:SwitchToState(): [INFO ] 0x559ec467eaf0 IMSI 1 RNTI 0 UeRrc IDLE_WAIT_SIB1 --> IDLE_CAMPED_NORMALLY\n",
    "+2.605214285s 4 LteUeRrc:SwitchToState(): [INFO ] 0x559ec467eaf0 IMSI 1 RNTI 0 UeRrc IDLE_CAMPED_NORMALLY --> IDLE_WAIT_SIB2\n",
    "+2.656000000s -1 LteUeRrc:SwitchToState(): [INFO ] 0x559ec467eaf0 IMSI 1 RNTI 0 UeRrc IDLE_WAIT_SIB2 --> IDLE_RANDOM_ACCESS\n",
    "+2.658000000s 5 LteEnbMac:DoSubframeIndication(): [INFO ] 0x559ec46aece0 preambleId 9: 1 received\n",
    "+2.658000000s 5 LteEnbRrc:GetNewSrsConfigurationIndex(): [DEBUG] 0x559ec46af6a0 SRS p 40 set 0\n",
    "+2.658000000s 5 LteEnbRrc:AddUe(): [DEBUG] 0x559ec46af6a0 New UE RNTI 2 cellId 1 srs CI 37\n",
    "+2.658000000s 5 LteEnbMac:DoSubframeIndication(): [INFO ] preambleId 9: allocated T-C-RNTI 2, sending RAR\n",
    "+2.658000000s 5 LteEnbMac:DoSchedDlConfigInd(): [INFO ] 0x559ec46aece0 Send RAR message to RNTI 2 rapId 9\n",
    "+2.663000000s 5 LteEnbMac:DoSubframeIndication(): [INFO ] 0x559ec46aece0 preambleId 13: 1 received\n",
    "+2.663000000s 5 LteEnbRrc:GetNewSrsConfigurationIndex(): [DEBUG] 0x559ec46af6a0 SRS p 40 set 1\n",
    "+2.663000000s 5 LteEnbRrc:GetNewSrsConfigurationIndex(): [DEBUG] 0x559ec46af6a0 lower bound 37 of 76\n",
    "+2.663000000s 5 LteEnbRrc:AddUe(): [DEBUG] 0x559ec46af6a0 New UE RNTI 3 cellId 1 srs CI 38\n",
    "+2.663000000s 5 LteEnbMac:DoSubframeIndication(): [INFO ] preambleId 13: allocated T-C-RNTI 3, sending RAR\n",
    "+2.663000000s 5 LteEnbMac:DoSchedDlConfigInd(): [INFO ] 0x559ec46aece0 Send RAR message to RNTI 3 rapId 13\n",
    "+2.669000000s 5 LteEnbMac:DoSubframeIndication(): [INFO ] 0x559ec46aece0 preambleId 19: 1 received\n",
    "+2.669000000s 5 LteEnbRrc:GetNewSrsConfigurationIndex(): [DEBUG] 0x559ec46af6a0 SRS p 40 set 2\n",
    "+2.669000000s 5 LteEnbRrc:GetNewSrsConfigurationIndex(): [DEBUG] 0x559ec46af6a0 lower bound 38 of 76\n",
    "+2.669000000s 5 LteEnbRrc:AddUe(): [DEBUG] 0x559ec46af6a0 New UE RNTI 4 cellId 1 srs CI 39\n",
    "+2.669000000s 5 LteEnbMac:DoSubframeIndication(): [INFO ] preambleId 19: allocated T-C-RNTI 4, sending RAR\n",
    "+2.669000000s 5 LteEnbMac:DoSchedDlConfigInd(): [INFO ] 0x559ec46aece0 Send RAR message to RNTI 4 rapId 19\n",
    "+2.671214285s 4 LteUeRrc:SwitchToState(): [INFO ] 0x559ec467eaf0 IMSI 1 RNTI 4 UeRrc IDLE_RANDOM_ACCESS --> IDLE_CONNECTING\n",
    "+2.671214285s 4 LteRrcProtocolIdeal:SetEnbRrcSapProvider(): [DEBUG] RNTI 4 connected to cell 1\n",
    "+2.671214285s 4 LteUeRrc:SwitchToState(): [INFO ] 0x559ec467eaf0 IMSI 1 RNTI 4 UeRrc IDLE_CONNECTING --> CONNECTED_NORMALLY\n",
    "+2.671214785s 2 LteEnbRrc:SetupDataRadioBearer(): [DEBUG] 0x559ec45fa830 RNTI 4Lcid 3 lcGroup 2 ComponentCarrierId 0\n",
    "+2.671214785s 2 LteUeRrc:DoRecvRrcConnectionReconfiguration(): [INFO ] DoRecvRrcConnectionReconfiguration haveNonCriticalExtension:0\n",
    "+2.671214785s 2 LteUeRrc:DoRecvRrcConnectionReconfiguration(): [INFO ] haveMobilityControlInfo == false\n",
    "+2.671214785s 2 LteUeRrc:ApplyRadioResourceConfigDedicated(): [INFO ] request to modify SRB1 (skipping as currently not implemented)\n",
    "+2.671214785s 2 LteUeRrc:ApplyRadioResourceConfigDedicated(): [INFO ] 0x559ec467eaf0 IMSI 1 adding/modifying DRBID 1 LC 3\n",
    "+2.671214785s 2 LteUeRrc:ApplyRadioResourceConfigDedicated(): [INFO ] New Data Radio Bearer\n",
    "+2.671214785s 2 LteRrcProtocolIdeal:SetEnbRrcSapProvider(): [DEBUG] RNTI 4 connected to cell 1\n",
    "+2.871214285s 4 LteUeRrc:DoNotifyOutOfSync(): [INFO ] 0x559ec467eaf0 Total Number of Sync indications from PHY 1N310 value : 6\n",
    "\n",
    "\n",
    "####################################################\n",
    "EPC Connection Setup Logs [SGW, PGW, MME]\n",
    "####################################################\n",
    "+0.000000000s -1 PointToPointEpcHelper:AddEnb(): [LOGIC] Ipv4 ifaces of the eNB after installing p2p dev: 1\n",
    "+0.000000000s -1 PointToPointEpcHelper:AddEnb(): [LOGIC] number of Ipv4 ifaces of the eNB after assigning Ipv4 addr to S1 dev: 2\n",
    "+0.260214549s 0 EpcPgwApplication:DoRecvCreateSessionRequest(): [DEBUG] cellId 1 IMSI 1\n",
    "+0.260214549s 0 EpcPgwApplication:DoRecvCreateSessionRequest(): [DEBUG] BearerContextsToBeCreated size = 1\n",
    "+0.260214549s 0 EpcPgwApplication:DoRecvCreateSessionRequest(): [DEBUG] bearerId 1 SGW 10.0.0.6 TEID 1\n",
    "+0.260214549s 0 EpcPgwApplication:DoRecvCreateSessionRequest(): [DEBUG] BearerContextsCreated size = 1\n",
    "+0.260214549s 0 EpcPgwApplication:DoRecvCreateSessionRequest(): [DEBUG] Send CreateSessionResponse to SGW 14.0.0.6\n",
    "+2.460214285s 4 EpcEnbApplication:DoUeContextRelease(): [INFO ] TEID: 1 erased\n",
    "+2.460214285s 4 EpcEnbApplication:DoUeContextRelease(): [INFO ] RNTI: 1 erased\n",
    "+2.460214365s 0 EpcPgwApplication:DoRecvDeleteBearerCommand(): [DEBUG] ebid 1\n",
    "+2.460214365s 0 EpcPgwApplication:DoRecvDeleteBearerCommand(): [DEBUG] Send DeleteBearerRequest to SGW 14.0.0.6\n",
    "+2.671214549s 0 EpcPgwApplication:DoRecvCreateSessionRequest(): [DEBUG] cellId 1 IMSI 1\n",
    "+2.671214549s 0 EpcPgwApplication:DoRecvCreateSessionRequest(): [DEBUG] BearerContextsToBeCreated size = 1\n",
    "+2.671214549s 0 EpcPgwApplication:DoRecvCreateSessionRequest(): [DEBUG] bearerId 1 SGW 10.0.0.6 TEID 2\n",
    "+2.671214549s 0 EpcPgwApplication:DoRecvCreateSessionRequest(): [DEBUG] BearerContextsCreated size = 1\n",
    "+2.671214549s 0 EpcPgwApplication:DoRecvCreateSessionRequest(): [DEBUG] Send CreateSessionResponse to SGW 14.0.0.6"
   ]
  },
  {
   "cell_type": "markdown",
   "id": "da1bbbf1-f00a-48fb-87b2-43419ac49e3b",
   "metadata": {
    "tags": []
   },
   "source": [
    "#### Q3.4.2a: Detect the problem with the connection of the UE in the edge region of the designed topology? Consult the state diagram in <a id='fig3'>[Figure. 3](#fig3)</a> and simulation logs to identify the problem.\n",
    "\n",
    "> **Hint:** Analyze the logs to identify the state of each UE. This will help in identifying any problematic logs and the issue itself. Rerun the simulation by changing the edge UE location slightly if no issue is detected."
   ]
  },
  {
   "cell_type": "markdown",
   "id": "c09d214c-2edc-43a4-a124-2f0f94d8114e",
   "metadata": {},
   "source": [
    "<b> Answer:</b>"
   ]
  },
  {
   "cell_type": "markdown",
   "id": "8bad5415-c3ca-423a-adf1-d49e76f9a3d7",
   "metadata": {},
   "source": [
    "The user on the edge of the cell connects to the eNB normally, after setting up the connection it detects a sync failure and informs the eNB of the case. The UE moves to the CONNECTED_PHY_PROBLEM state. From there the eNB deletes the current channel and sets up 3 new channels that the UE might choose from. The UE chooses one of them then continues to setup the connection as normal.\n",
    "\n",
    "As you can see above, more than 10 different trials were run to see this scenario, but we didn't manage to see \"CONNECTED_PHY_PROBLEM\" in any of these trials. However, we managed to find the edge case in a later task so we copied the log text to this task."
   ]
  },
  {
   "cell_type": "markdown",
   "id": "c6b1fce7-d78f-4b49-9d3f-765c4c790596",
   "metadata": {
    "tags": []
   },
   "source": [
    "#### Q3.4.2b: What can be done to resolve the problem identified in Q3.4.2a?"
   ]
  },
  {
   "cell_type": "markdown",
   "id": "dde6353d-f455-49b1-991c-d01c880800da",
   "metadata": {},
   "source": [
    "<b> Answer:</b>"
   ]
  },
  {
   "cell_type": "raw",
   "id": "68b475b7-afd0-4941-86de-34b424e02e6d",
   "metadata": {},
   "source": [
    "Walk closer to the antenna, improve the antenna range upping its transmit power to 45 dBm. Get a better UE with a better antenna that can receive lower power signals. Sectorize the eNB or add another eNB. Have the UE use a different frequency, especially with carrier aggregation the frequency difference can make a big difference in the signal propagation that widens the range."
   ]
  },
  {
   "cell_type": "markdown",
   "id": "59054df3-55c9-4899-b6f9-2e2ff9bf8036",
   "metadata": {
    "tags": []
   },
   "source": [
    "#### Q3.4.3a: How is radio link failure issue detected and resolved in LTE?"
   ]
  },
  {
   "cell_type": "markdown",
   "id": "81b30031-e74e-4db4-bf09-dd2527bcc0ea",
   "metadata": {},
   "source": [
    "<b> Answer:</b>"
   ]
  },
  {
   "cell_type": "markdown",
   "id": "0bff5a93-3f64-400d-8383-1d5ac309cee4",
   "metadata": {},
   "source": [
    "Unfortunately this couldn't be observed in our case, as we didn't manage to produce the logs showing how the problems are resolved. As earlier mentioned only the two edge-cases of either both devices being connected or one not finding the base station at all were seen."
   ]
  },
  {
   "cell_type": "markdown",
   "id": "97c6787a-aa2f-48fd-9309-efefe38cd3bd",
   "metadata": {
    "tags": []
   },
   "source": [
    "#### Q3.4.3b: Identify the relevant logs from simulation for Q3.4.3a?"
   ]
  },
  {
   "cell_type": "markdown",
   "id": "99b1665c-210b-4d7b-82a2-7fa7e78c6741",
   "metadata": {},
   "source": [
    "<b> Answer:</b>"
   ]
  },
  {
   "cell_type": "markdown",
   "id": "4a433d2e-8006-4870-9058-62a749270d17",
   "metadata": {},
   "source": [
    "The following tries were made to get logs showing that the UE tries to connect, fails, and then LTE fixes the problem.\n",
    "\n",
    "lab_3_tx40_conn_fail_6\n",
    "lab_3_tx40_conn_fail_7\n",
    "lab_3_tx40_conn_fail\n",
    "lab_3_tx40_conn_fail_9\n",
    "lab_3_tx40\n",
    "lab_3_tx40_conn_fail_4\n",
    "lab_3_tx40_conn_fail_2\n",
    "lab_3_tx40_conn_fail_10\n",
    "lab_3_tx40_conn_fail_5\n",
    "lab_3_tx40_conn_fail_11\n",
    "lab_3_tx40_conn_fail_nu\n",
    "lab_3_tx40_conn_fail_8\n",
    "lab_3_tx40_conn_fail_3\n",
    "\n",
    "At this point we decided to give up. We managed to generate the following edge-case scenarios, but not the required \"balanced\" case where the LTE fixes the problem:\n",
    "- Either both phones properly connect\n",
    "- Or one phone tries to connect but doesn't find any cell, whereas the other telephone properly connects."
   ]
  },
  {
   "cell_type": "markdown",
   "id": "6f2c681b-6da3-476d-8a32-3a3c7593f134",
   "metadata": {},
   "source": [
    "#### Q3.4.4: What is NAS and UserContext in LTE?"
   ]
  },
  {
   "cell_type": "markdown",
   "id": "d53bb89f-b863-41bd-a23c-a5c88f270055",
   "metadata": {},
   "source": [
    "<b> Answer:</b>"
   ]
  },
  {
   "cell_type": "markdown",
   "id": "ef42a0f4-1447-45b9-9715-2d0dbb28c119",
   "metadata": {},
   "source": [
    "NAS is a network layer responsible for handling control signaling between the UE and the core network, and UserContext describes the set of information related to a specific UE's subscription and current state within the LTE network."
   ]
  },
  {
   "cell_type": "markdown",
   "id": "e1ab90c4-7701-4fb6-b4a2-9a85b6ba0d86",
   "metadata": {},
   "source": [
    "---\n",
    "---\n",
    "### <span style=\"color:blue\"> Milestone 2 </span>\n",
    "\n",
    "Before proceeding, **call a TA** to make sure everything went as expected.\n",
    "\n",
    "---\n",
    "---"
   ]
  },
  {
   "cell_type": "markdown",
   "id": "f2a898f4-9b07-4db2-aff6-cd37f395a24b",
   "metadata": {
    "tags": []
   },
   "source": [
    "## <span style=\"color:red\"> *Task#3: Boundary Conditions in Cellular Networks*</span>\n",
    "In this task, students will simulate a cellular topology in order to find the cell boundary. The coordinates of the UE and eNB can be used to find the approximate coverage distance. This can be achieved by having a single UE and altering its location while keeping the **eNB txpower** parameter fixed. The boundary would be approximately beyond the point where UE is unable to communicate with the eNB.\n",
    "\n",
    "> **Note:** Use the topology blueprint for designing a react topology as shown below in <a id='fig8'>[Figure. 8](#fig8)</a>.\n",
    "\n",
    "| |\n",
    "|---|\n",
    "| ![lab3-task3-topology.png](Figures/lab3-task3-topology.png) |\n",
    "<a id='fig8'><p style=\"text-align: center;\"><b>[Figure. 8: LTE RAN topology](#fig8)</b></a>   \n",
    "\n",
    "\n",
    "Add additional cells as required in the jupyter notebook and submit those additional cells as well during evaluation.\n",
    "> <b>Note</b>: Run simulations for two positions for UE: 1) first while the connection is still normal with eNB, 2) second when the UE disconnects for the first time. The average of both these points will give us the approximate boundary points to be used for calculation boundary distance."
   ]
  },
  {
   "cell_type": "markdown",
   "id": "b0a29704-54b2-47c0-a9fc-ee5c3b210c7a",
   "metadata": {},
   "source": [
    "<b> Tx Power = 25dBm </b>"
   ]
  },
  {
   "cell_type": "code",
   "execution_count": 9,
   "id": "1a5fa707-585f-4d5b-84d7-18f51278a07f",
   "metadata": {},
   "outputs": [
    {
     "name": "stdout",
     "output_type": "stream",
     "text": [
      "List of created simulations: \n",
      " \n",
      "test\n",
      "task3_tx25_3\n",
      "lab_3_tx40_conn_fail_6\n",
      "lab_3_tx40_conn_fail_7\n",
      "task3_tx25_2\n",
      "lab_3_tx40_conn_fail\n",
      "lab_3_tx40_2\n",
      "lab_3_tx40_conn_fail_9\n",
      "lab_3_tx40\n",
      "lab_3_tx40_conn_fail_4\n",
      "lab_3_tx40_conn_fail_2\n",
      "lab_3_tx40_conn_fail_10\n",
      "task3_tx25_1\n",
      "lab_3_tx40_conn_fail_5\n",
      "lab_3_tx40_conn_fail_11\n",
      "lab_3_closer\n",
      "lab_3_tx40_conn_fail_nu\n",
      "lab_3_tx40_conn_fail_8\n",
      "4_ue_jalla\n",
      "lab_3_tx40_conn_fail_3\n",
      "fig_4_lte_ran\n",
      "\n"
     ]
    },
    {
     "name": "stdin",
     "output_type": "stream",
     "text": [
      "List the simulation to run:  task3_tx25_2\n",
      "Show a picture of the topology? (y/n) y\n"
     ]
    },
    {
     "name": "stdout",
     "output_type": "stream",
     "text": [
      "Generating topology pictures...\n"
     ]
    },
    {
     "data": {
      "text/markdown": [
       "<img src=\"./Figures/GeneratedImages/image task3_tx25_2.png\" alt = \"test pic\" style=\"background-color: white;\"> "
      ],
      "text/plain": [
       "<IPython.core.display.Markdown object>"
      ]
     },
     "metadata": {},
     "output_type": "display_data"
    },
    {
     "name": "stdout",
     "output_type": "stream",
     "text": [
      "Connection Tracing Simualtions for RAN...\n",
      "Starting simulation 1...\n"
     ]
    },
    {
     "name": "stderr",
     "output_type": "stream",
     "text": [
      "Running simulations: 100%|██████████| 1/1 [00:06<00:00,  6.23s/simulation]\n"
     ]
    },
    {
     "name": "stdout",
     "output_type": "stream",
     "text": [
      "Simulation 1 finished!\n",
      "There are 1 results in the database\n",
      "\n",
      "Connection Tracing Simualtions for EPC...\n",
      "Starting simulation 2...\n"
     ]
    },
    {
     "name": "stderr",
     "output_type": "stream",
     "text": [
      "Running simulations: 100%|██████████| 1/1 [00:06<00:00,  6.24s/simulation]"
     ]
    },
    {
     "name": "stdout",
     "output_type": "stream",
     "text": [
      "Simulation 2 finished!\n",
      "There are 1 results in the database\n",
      "\n"
     ]
    },
    {
     "name": "stderr",
     "output_type": "stream",
     "text": [
      "\n"
     ]
    }
   ],
   "source": [
    "%run -i 'Modules/lab3-init.py'"
   ]
  },
  {
   "cell_type": "code",
   "execution_count": 8,
   "id": "c631608b-e4ee-4f33-8416-5124a4bf78cc",
   "metadata": {},
   "outputs": [
    {
     "name": "stdout",
     "output_type": "stream",
     "text": [
      "####################################################\n",
      "RAN Connection Setup Logs [MAC, RRC for eNB and UE]\n",
      "####################################################\n",
      "+0.000000000s -1 LteUeRrc:SwitchToState(): [INFO ] 0x55a573eb0b10 IMSI 1 RNTI 0 UeRrc IDLE_START --> IDLE_CELL_SEARCH\n",
      "+0.200000000s -1 LteUeRrc:SwitchToState(): [INFO ] 0x55a573eb0b10 IMSI 1 RNTI 0 UeRrc IDLE_CELL_SEARCH --> IDLE_WAIT_MIB_SIB1\n",
      "+0.200214285s 4 LteUeRrc:SwitchToState(): [INFO ] 0x55a573eb0b10 IMSI 1 RNTI 0 UeRrc IDLE_WAIT_MIB_SIB1 --> IDLE_WAIT_SIB1\n",
      "+0.205214285s 4 LteUeRrc:SwitchToState(): [INFO ] 0x55a573eb0b10 IMSI 1 RNTI 0 UeRrc IDLE_WAIT_SIB1 --> IDLE_CAMPED_NORMALLY\n",
      "+0.205214285s 4 LteUeRrc:SwitchToState(): [INFO ] 0x55a573eb0b10 IMSI 1 RNTI 0 UeRrc IDLE_CAMPED_NORMALLY --> IDLE_WAIT_SIB2\n",
      "+0.256000000s -1 LteUeRrc:SwitchToState(): [INFO ] 0x55a573eb0b10 IMSI 1 RNTI 0 UeRrc IDLE_WAIT_SIB2 --> IDLE_RANDOM_ACCESS\n",
      "+0.258000000s 5 LteEnbMac:DoSubframeIndication(): [INFO ] 0x55a573ee0d00 preambleId 9: 1 received\n",
      "+0.258000000s 5 LteEnbRrc:GetNewSrsConfigurationIndex(): [DEBUG] 0x55a573ee16c0 SRS p 40 set 0\n",
      "+0.258000000s 5 LteEnbRrc:AddUe(): [DEBUG] 0x55a573ee16c0 New UE RNTI 1 cellId 1 srs CI 37\n",
      "+0.258000000s 5 LteEnbMac:DoSubframeIndication(): [INFO ] preambleId 9: allocated T-C-RNTI 1, sending RAR\n",
      "+0.258000000s 5 LteEnbMac:DoSchedDlConfigInd(): [INFO ] 0x55a573ee0d00 Send RAR message to RNTI 1 rapId 9\n",
      "+0.260214285s 4 LteUeRrc:SwitchToState(): [INFO ] 0x55a573eb0b10 IMSI 1 RNTI 1 UeRrc IDLE_RANDOM_ACCESS --> IDLE_CONNECTING\n",
      "+0.260214285s 4 LteRrcProtocolIdeal:SetEnbRrcSapProvider(): [DEBUG] RNTI 1 connected to cell 1\n",
      "+0.260214285s 4 LteUeRrc:SwitchToState(): [INFO ] 0x55a573eb0b10 IMSI 1 RNTI 1 UeRrc IDLE_CONNECTING --> CONNECTED_NORMALLY\n",
      "+0.260214785s 2 LteEnbRrc:SetupDataRadioBearer(): [DEBUG] 0x55a573e2c9d0 RNTI 1Lcid 3 lcGroup 2 ComponentCarrierId 0\n",
      "+0.260214785s 2 LteUeRrc:DoRecvRrcConnectionReconfiguration(): [INFO ] DoRecvRrcConnectionReconfiguration haveNonCriticalExtension:0\n",
      "+0.260214785s 2 LteUeRrc:DoRecvRrcConnectionReconfiguration(): [INFO ] haveMobilityControlInfo == false\n",
      "+0.260214785s 2 LteUeRrc:ApplyRadioResourceConfigDedicated(): [INFO ] request to modify SRB1 (skipping as currently not implemented)\n",
      "+0.260214785s 2 LteUeRrc:ApplyRadioResourceConfigDedicated(): [INFO ] 0x55a573eb0b10 IMSI 1 adding/modifying DRBID 1 LC 3\n",
      "+0.260214785s 2 LteUeRrc:ApplyRadioResourceConfigDedicated(): [INFO ] New Data Radio Bearer\n",
      "+0.260214785s 2 LteRrcProtocolIdeal:SetEnbRrcSapProvider(): [DEBUG] RNTI 1 connected to cell 1\n",
      "\n",
      "\n",
      "####################################################\n",
      "EPC Connection Setup Logs [SGW, PGW, MME]\n",
      "####################################################\n",
      "+0.000000000s -1 PointToPointEpcHelper:AddEnb(): [LOGIC] Ipv4 ifaces of the eNB after installing p2p dev: 1\n",
      "+0.000000000s -1 PointToPointEpcHelper:AddEnb(): [LOGIC] number of Ipv4 ifaces of the eNB after assigning Ipv4 addr to S1 dev: 2\n",
      "+0.260214549s 0 EpcPgwApplication:DoRecvCreateSessionRequest(): [DEBUG] cellId 1 IMSI 1\n",
      "+0.260214549s 0 EpcPgwApplication:DoRecvCreateSessionRequest(): [DEBUG] BearerContextsToBeCreated size = 1\n",
      "+0.260214549s 0 EpcPgwApplication:DoRecvCreateSessionRequest(): [DEBUG] bearerId 1 SGW 10.0.0.6 TEID 1\n",
      "+0.260214549s 0 EpcPgwApplication:DoRecvCreateSessionRequest(): [DEBUG] BearerContextsCreated size = 1\n",
      "+0.260214549s 0 EpcPgwApplication:DoRecvCreateSessionRequest(): [DEBUG] Send CreateSessionResponse to SGW 14.0.0.6\n"
     ]
    }
   ],
   "source": [
    "%run -i 'Modules/lab3-dataPre.py'"
   ]
  },
  {
   "cell_type": "markdown",
   "id": "85096366-9bc1-4de7-8114-6fa0062be506",
   "metadata": {},
   "source": [
    "<b> Tx Power = 35dBm </b>"
   ]
  },
  {
   "cell_type": "code",
   "execution_count": 12,
   "id": "4b16aaeb-2f86-4136-b8f0-87584044c68d",
   "metadata": {},
   "outputs": [
    {
     "name": "stdout",
     "output_type": "stream",
     "text": [
      "List of created simulations: \n",
      " \n",
      "test\n",
      "task3_tx25_3\n",
      "lab_3_tx40_conn_fail_6\n",
      "lab_3_tx40_conn_fail_7\n",
      "task3_tx25_2\n",
      "task3_tx35_2\n",
      "lab_3_tx40_conn_fail\n",
      "lab_3_tx40_2\n",
      "lab_3_tx40_conn_fail_9\n",
      "lab_3_tx40\n",
      "lab_3_tx40_conn_fail_4\n",
      "lab_3_tx40_conn_fail_2\n",
      "lab_3_tx40_conn_fail_10\n",
      "task3_tx25_1\n",
      "lab_3_tx40_conn_fail_5\n",
      "lab_3_tx40_conn_fail_11\n",
      "lab_3_closer\n",
      "lab_3_tx40_conn_fail_nu\n",
      "lab_3_tx40_conn_fail_8\n",
      "4_ue_jalla\n",
      "lab_3_tx40_conn_fail_3\n",
      "fig_4_lte_ran\n",
      "task3_tx35_1\n",
      "\n"
     ]
    },
    {
     "name": "stdin",
     "output_type": "stream",
     "text": [
      "List the simulation to run:  task3_tx35_2\n",
      "Show a picture of the topology? (y/n) y\n"
     ]
    },
    {
     "name": "stdout",
     "output_type": "stream",
     "text": [
      "Generating topology pictures...\n"
     ]
    },
    {
     "data": {
      "text/markdown": [
       "<img src=\"./Figures/GeneratedImages/image task3_tx35_2.png\" alt = \"test pic\" style=\"background-color: white;\"> "
      ],
      "text/plain": [
       "<IPython.core.display.Markdown object>"
      ]
     },
     "metadata": {},
     "output_type": "display_data"
    },
    {
     "name": "stdout",
     "output_type": "stream",
     "text": [
      "Connection Tracing Simualtions for RAN...\n",
      "Starting simulation 1...\n"
     ]
    },
    {
     "name": "stderr",
     "output_type": "stream",
     "text": [
      "Running simulations: 100%|██████████| 1/1 [00:06<00:00,  6.21s/simulation]\n"
     ]
    },
    {
     "name": "stdout",
     "output_type": "stream",
     "text": [
      "Simulation 1 finished!\n",
      "There are 1 results in the database\n",
      "\n",
      "Connection Tracing Simualtions for EPC...\n",
      "Starting simulation 2...\n"
     ]
    },
    {
     "name": "stderr",
     "output_type": "stream",
     "text": [
      "Running simulations: 100%|██████████| 1/1 [00:06<00:00,  6.05s/simulation]"
     ]
    },
    {
     "name": "stdout",
     "output_type": "stream",
     "text": [
      "Simulation 2 finished!\n",
      "There are 1 results in the database\n",
      "\n"
     ]
    },
    {
     "name": "stderr",
     "output_type": "stream",
     "text": [
      "\n"
     ]
    }
   ],
   "source": [
    "%run -i 'Modules/lab3-init.py'"
   ]
  },
  {
   "cell_type": "code",
   "execution_count": 13,
   "id": "0bfab078-2f7d-4772-b05e-4d4abc8ff81f",
   "metadata": {},
   "outputs": [
    {
     "name": "stdout",
     "output_type": "stream",
     "text": [
      "####################################################\n",
      "RAN Connection Setup Logs [MAC, RRC for eNB and UE]\n",
      "####################################################\n",
      "+0.000000000s -1 LteUeRrc:SwitchToState(): [INFO ] 0x5562ac391b10 IMSI 1 RNTI 0 UeRrc IDLE_START --> IDLE_CELL_SEARCH\n",
      "+0.200000000s -1 LteUeRrc:SwitchToState(): [INFO ] 0x5562ac391b10 IMSI 1 RNTI 0 UeRrc IDLE_CELL_SEARCH --> IDLE_WAIT_MIB_SIB1\n",
      "+0.200214285s 4 LteUeRrc:SwitchToState(): [INFO ] 0x5562ac391b10 IMSI 1 RNTI 0 UeRrc IDLE_WAIT_MIB_SIB1 --> IDLE_WAIT_SIB1\n",
      "+0.205214285s 4 LteUeRrc:SwitchToState(): [INFO ] 0x5562ac391b10 IMSI 1 RNTI 0 UeRrc IDLE_WAIT_SIB1 --> IDLE_CAMPED_NORMALLY\n",
      "+0.205214285s 4 LteUeRrc:SwitchToState(): [INFO ] 0x5562ac391b10 IMSI 1 RNTI 0 UeRrc IDLE_CAMPED_NORMALLY --> IDLE_WAIT_SIB2\n",
      "+0.256000000s -1 LteUeRrc:SwitchToState(): [INFO ] 0x5562ac391b10 IMSI 1 RNTI 0 UeRrc IDLE_WAIT_SIB2 --> IDLE_RANDOM_ACCESS\n",
      "+0.258000000s 5 LteEnbMac:DoSubframeIndication(): [INFO ] 0x5562ac3c1d00 preambleId 27: 1 received\n",
      "+0.258000000s 5 LteEnbRrc:GetNewSrsConfigurationIndex(): [DEBUG] 0x5562ac3c26c0 SRS p 40 set 0\n",
      "+0.258000000s 5 LteEnbRrc:AddUe(): [DEBUG] 0x5562ac3c26c0 New UE RNTI 1 cellId 1 srs CI 37\n",
      "+0.258000000s 5 LteEnbMac:DoSubframeIndication(): [INFO ] preambleId 27: allocated T-C-RNTI 1, sending RAR\n",
      "+0.258000000s 5 LteEnbMac:DoSchedDlConfigInd(): [INFO ] 0x5562ac3c1d00 Send RAR message to RNTI 1 rapId 27\n",
      "+0.260214285s 4 LteUeRrc:SwitchToState(): [INFO ] 0x5562ac391b10 IMSI 1 RNTI 1 UeRrc IDLE_RANDOM_ACCESS --> IDLE_CONNECTING\n",
      "+0.260214285s 4 LteRrcProtocolIdeal:SetEnbRrcSapProvider(): [DEBUG] RNTI 1 connected to cell 1\n",
      "+0.260214285s 4 LteUeRrc:SwitchToState(): [INFO ] 0x5562ac391b10 IMSI 1 RNTI 1 UeRrc IDLE_CONNECTING --> CONNECTED_NORMALLY\n",
      "+0.260214785s 2 LteEnbRrc:SetupDataRadioBearer(): [DEBUG] 0x5562ac30d9d0 RNTI 1Lcid 3 lcGroup 2 ComponentCarrierId 0\n",
      "+0.260214785s 2 LteUeRrc:DoRecvRrcConnectionReconfiguration(): [INFO ] DoRecvRrcConnectionReconfiguration haveNonCriticalExtension:0\n",
      "+0.260214785s 2 LteUeRrc:DoRecvRrcConnectionReconfiguration(): [INFO ] haveMobilityControlInfo == false\n",
      "+0.260214785s 2 LteUeRrc:ApplyRadioResourceConfigDedicated(): [INFO ] request to modify SRB1 (skipping as currently not implemented)\n",
      "+0.260214785s 2 LteUeRrc:ApplyRadioResourceConfigDedicated(): [INFO ] 0x5562ac391b10 IMSI 1 adding/modifying DRBID 1 LC 3\n",
      "+0.260214785s 2 LteUeRrc:ApplyRadioResourceConfigDedicated(): [INFO ] New Data Radio Bearer\n",
      "+0.260214785s 2 LteRrcProtocolIdeal:SetEnbRrcSapProvider(): [DEBUG] RNTI 1 connected to cell 1\n",
      "\n",
      "\n",
      "####################################################\n",
      "EPC Connection Setup Logs [SGW, PGW, MME]\n",
      "####################################################\n",
      "+0.000000000s -1 PointToPointEpcHelper:AddEnb(): [LOGIC] Ipv4 ifaces of the eNB after installing p2p dev: 1\n",
      "+0.000000000s -1 PointToPointEpcHelper:AddEnb(): [LOGIC] number of Ipv4 ifaces of the eNB after assigning Ipv4 addr to S1 dev: 2\n",
      "+0.260214549s 0 EpcPgwApplication:DoRecvCreateSessionRequest(): [DEBUG] cellId 1 IMSI 1\n",
      "+0.260214549s 0 EpcPgwApplication:DoRecvCreateSessionRequest(): [DEBUG] BearerContextsToBeCreated size = 1\n",
      "+0.260214549s 0 EpcPgwApplication:DoRecvCreateSessionRequest(): [DEBUG] bearerId 1 SGW 10.0.0.6 TEID 1\n",
      "+0.260214549s 0 EpcPgwApplication:DoRecvCreateSessionRequest(): [DEBUG] BearerContextsCreated size = 1\n",
      "+0.260214549s 0 EpcPgwApplication:DoRecvCreateSessionRequest(): [DEBUG] Send CreateSessionResponse to SGW 14.0.0.6\n"
     ]
    }
   ],
   "source": [
    "%run -i 'Modules/lab3-dataPre.py'"
   ]
  },
  {
   "cell_type": "markdown",
   "id": "1bb38b11-7868-462f-80fd-3176015090f2",
   "metadata": {},
   "source": [
    "<b> Tx Power = 40dBm </b>"
   ]
  },
  {
   "cell_type": "code",
   "execution_count": 26,
   "id": "57bdcd86-ee86-4671-83ff-57998333b56c",
   "metadata": {},
   "outputs": [
    {
     "name": "stdout",
     "output_type": "stream",
     "text": [
      "List of created simulations: \n",
      " \n",
      "task3_tx40_5\n",
      "test\n",
      "task3_tx40_3\n",
      "task3_tx25_3\n",
      "lab_3_tx40_conn_fail_6\n",
      "lab_3_tx40_conn_fail_7\n",
      "task3_tx40_4\n",
      "task3_tx25_2\n",
      "task3_tx35_2\n",
      "lab_3_tx40_conn_fail\n",
      "task3_tx40_1\n",
      "lab_3_tx40_2\n",
      "lab_3_tx40_conn_fail_9\n",
      "lab_3_tx40\n",
      "lab_3_tx40_conn_fail_4\n",
      "lab_3_tx40_conn_fail_2\n",
      "lab_3_tx40_conn_fail_10\n",
      "task3_tx25_1\n",
      "lab_3_tx40_conn_fail_5\n",
      "lab_3_tx40_conn_fail_11\n",
      "lab_3_closer\n",
      "lab_3_tx40_conn_fail_nu\n",
      "lab_3_tx40_conn_fail_8\n",
      "4_ue_jalla\n",
      "lab3_tx40_conn_fail_12\n",
      "lab_3_tx40_conn_fail_3\n",
      "fig_4_lte_ran\n",
      "task3_tx35_1\n",
      "\n"
     ]
    },
    {
     "name": "stdin",
     "output_type": "stream",
     "text": [
      "List the simulation to run:  task3_tx40_5\n",
      "Show a picture of the topology? (y/n) y\n"
     ]
    },
    {
     "name": "stdout",
     "output_type": "stream",
     "text": [
      "Generating topology pictures...\n"
     ]
    },
    {
     "data": {
      "text/markdown": [
       "<img src=\"./Figures/GeneratedImages/image task3_tx40_5.png\" alt = \"test pic\" style=\"background-color: white;\"> "
      ],
      "text/plain": [
       "<IPython.core.display.Markdown object>"
      ]
     },
     "metadata": {},
     "output_type": "display_data"
    },
    {
     "name": "stdout",
     "output_type": "stream",
     "text": [
      "Connection Tracing Simualtions for RAN...\n",
      "Starting simulation 1...\n"
     ]
    },
    {
     "name": "stderr",
     "output_type": "stream",
     "text": [
      "Running simulations: 100%|██████████| 1/1 [00:01<00:00,  1.82s/simulation]\n"
     ]
    },
    {
     "name": "stdout",
     "output_type": "stream",
     "text": [
      "Simulation 1 finished!\n",
      "There are 1 results in the database\n",
      "\n",
      "Connection Tracing Simualtions for EPC...\n",
      "Starting simulation 2...\n"
     ]
    },
    {
     "name": "stderr",
     "output_type": "stream",
     "text": [
      "Running simulations: 100%|██████████| 1/1 [00:01<00:00,  1.94s/simulation]"
     ]
    },
    {
     "name": "stdout",
     "output_type": "stream",
     "text": [
      "Simulation 2 finished!\n",
      "There are 1 results in the database\n",
      "\n"
     ]
    },
    {
     "name": "stderr",
     "output_type": "stream",
     "text": [
      "\n"
     ]
    }
   ],
   "source": [
    "%run -i 'Modules/lab3-init.py'"
   ]
  },
  {
   "cell_type": "code",
   "execution_count": 27,
   "id": "cbb4ee88-712b-4b86-a4ff-85f01b6607fc",
   "metadata": {},
   "outputs": [
    {
     "name": "stdout",
     "output_type": "stream",
     "text": [
      "####################################################\n",
      "RAN Connection Setup Logs [MAC, RRC for eNB and UE]\n",
      "####################################################\n",
      "+0.000000000s -1 LteUeRrc:SwitchToState(): [INFO ] 0x55e037647b10 IMSI 1 RNTI 0 UeRrc IDLE_START --> IDLE_CELL_SEARCH\n",
      "\n",
      "\n",
      "####################################################\n",
      "EPC Connection Setup Logs [SGW, PGW, MME]\n",
      "####################################################\n",
      "+0.000000000s -1 PointToPointEpcHelper:AddEnb(): [LOGIC] Ipv4 ifaces of the eNB after installing p2p dev: 1\n",
      "+0.000000000s -1 PointToPointEpcHelper:AddEnb(): [LOGIC] number of Ipv4 ifaces of the eNB after assigning Ipv4 addr to S1 dev: 2\n"
     ]
    }
   ],
   "source": [
    "%run -i 'Modules/lab3-dataPre.py'"
   ]
  },
  {
   "cell_type": "markdown",
   "id": "f7cad146-858c-4d01-90c6-141e926bcf10",
   "metadata": {
    "tags": []
   },
   "source": [
    "### <u>Exercises</u>"
   ]
  },
  {
   "cell_type": "markdown",
   "id": "81f881ce-6d63-4a5e-ab4a-e649ad1636de",
   "metadata": {
    "tags": []
   },
   "source": [
    "#### Q4.1.1: What is the boundary of the cell for the following values of eNB txpower? If the mentioned condition for finding the boundary fails, specify for which value it happens?\n",
    "- 25dBm\n",
    "- 35dBm\n",
    "- 40dBm\n",
    "\n",
    "> <b>Hint</b>: Find the placement of the UE and eNB from the React app and calculate the distance between them to find the approximated cell coverage boundary. For a UE placed at (100, 100) and eNB at (0,0), distance can be calculated as follows:\n",
    "\n",
    "$$\\sqrt{(100-0)^2 + (100-0)^2} = 141.42$$\n",
    "\n",
    "> <b>Note</b>: The positions of UE and eNB are selected from the designed topology when the connection is lost for the first time with the UE.\n",
    "\n",
    "> <b>Note:</b> After designing the topology for the given values, change the position of the user in small steps. For example if UE was at (100, 100) with connection, change it to (101, 101) to see the impact."
   ]
  },
  {
   "cell_type": "markdown",
   "id": "9719b80f-0c8e-4e09-9934-1157d6eb3fd4",
   "metadata": {},
   "source": [
    "<b> Answer:</b>"
   ]
  },
  {
   "cell_type": "markdown",
   "id": "4025ea94-3878-47a5-bb44-7594d26fa60e",
   "metadata": {},
   "source": [
    "**Tx 25**: Outside range for (192, 109) of eNB at (247, 206), within range for (206, 128) --> Boundary at approx. (199, 119) at a distance of approx. 100 dots from the eNB\n",
    "\n",
    "**Tx 35**: Outside range for (162, 66) of eNB at (247, 206), within range for (171, 85) --> Boundary at approx. (167, 76) at a distance of approx. 153 dots from the eNB\n",
    "\n",
    "**Tx 40**: Outside range for (95, 35) of eNB at (247, 206), within range for (131, 49) --> Boundary at approx. (113, 42) at a distance of approx. 212 dots from the eNB"
   ]
  },
  {
   "cell_type": "markdown",
   "id": "e7515216-c296-40ba-86be-4662f0270606",
   "metadata": {
    "tags": []
   },
   "source": [
    "#### Q4.1.2: Why are there different values for txpower for eNBs and UEs in the LTE standard?"
   ]
  },
  {
   "cell_type": "markdown",
   "id": "d7221bfa-9a1c-4afc-8c82-31322e58b584",
   "metadata": {},
   "source": [
    "<b> Answer:</b>"
   ]
  },
  {
   "cell_type": "markdown",
   "id": "370fe1e4-95a0-4e4c-9fb9-dfe50361d7be",
   "metadata": {},
   "source": [
    "eNodeBs are typically designed to provide coverage to a large area and support a large number of UEs simultaneously. That is why they require higher txpower values to reach UEs at the cell edge or in weak signal conditions. UEs on the other hand typically operate with lower txpower values to conserve battery life and reduce interference."
   ]
  },
  {
   "cell_type": "markdown",
   "id": "f9ed58b1-2adb-4acb-af39-5078dad745f4",
   "metadata": {
    "tags": []
   },
   "source": [
    "#### Q4.1.3: What are the main benefits of power control mechanism in LTE?"
   ]
  },
  {
   "cell_type": "markdown",
   "id": "24ad927b-c847-4b9f-bef7-4773050b8254",
   "metadata": {},
   "source": [
    "<b> Answer:</b>"
   ]
  },
  {
   "cell_type": "markdown",
   "id": "d28d976a-1ff9-42b0-aaf7-a0e44fa804c7",
   "metadata": {},
   "source": [
    "All participating devices can save energy if proper power control is used, as the noise each \"talker\" has to surpass will be significantly reduced. Power control also reduces the transmission power to the minimum, which also conserves battery / energy.\n",
    "\n",
    "The throughput of the system is maximized if proper power control is in place for the reasons pointed out above."
   ]
  },
  {
   "cell_type": "markdown",
   "id": "11ddbb52-36a1-4e7f-a47b-5e83f718060b",
   "metadata": {},
   "source": [
    "---\n",
    "---\n",
    "### <span style=\"color:blue\"> Milestone 3 </span>\n",
    "\n",
    "At the end, **call a TA** to make sure everything went as expected.\n",
    "\n",
    "---\n",
    "---"
   ]
  },
  {
   "cell_type": "markdown",
   "id": "ea60f493-782c-4f36-b4b0-8d745ed87754",
   "metadata": {},
   "source": [
    "# References\n",
    "\n",
    "[1] \"From GSM to LTE-Advanced Pro and 5G, An introduction to Mobile Networks and Mobile Broadband\", Martin Sauter, 4th Edition, 2021\n",
    "\n",
    "[2] \" LTE Protocol Stacks\", LTE Tutorials. Online: https://www.artizanetworks.com/resources/tutorials/pro_sta.html (Accessed: 11-01-2023)\n",
    "\n",
    "[3] \"LTE Quick Guide\", LTE Tutorials Point. Online : https://www.tutorialspoint.com/lte/lte_quick_guide.htm (Accessed : 11-01-2023)\n",
    "\n",
    "[4] \"LTE Design Documentation\", ns-3: LTE Module. Online: https://www.nsnam.org/docs/models/html/lte-design.html (Accessed : 11-01-2023)"
   ]
  },
  {
   "cell_type": "markdown",
   "id": "b1a22491-c42a-40c0-b6f1-23c6cba73586",
   "metadata": {},
   "source": [
    "------------------------------------------------------------------------------------------------------------------------------------------------------------------------------------------------------------------------------\n",
    "------------------------------------------------------------------------------------------------------------------------------------------------------------------------------------------------------------------------------"
   ]
  }
 ],
 "metadata": {
  "kernelspec": {
   "display_name": "Python 3 (ipykernel)",
   "language": "python",
   "name": "python3"
  },
  "language_info": {
   "codemirror_mode": {
    "name": "ipython",
    "version": 3
   },
   "file_extension": ".py",
   "mimetype": "text/x-python",
   "name": "python",
   "nbconvert_exporter": "python",
   "pygments_lexer": "ipython3",
   "version": "3.10.6"
  }
 },
 "nbformat": 4,
 "nbformat_minor": 5
}
