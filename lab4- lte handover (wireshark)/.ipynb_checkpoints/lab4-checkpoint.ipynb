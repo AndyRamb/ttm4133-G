{
 "cells": [
  {
   "cell_type": "markdown",
   "metadata": {},
   "source": [
    "**<span style=\"color:blue\"> Version: 0 </span>**"
   ]
  },
  {
   "cell_type": "markdown",
   "metadata": {
    "tags": []
   },
   "source": [
    "# Lab#4 - LTE Handover Analysis with Wireshark\n",
    "***\n",
    "# 1. Introduction:\n",
    "***\n",
    "\n",
    "In this exercise you will analyze how S1 and X2 Handover procedures are performed in LTE. You will be using two `pcap` files containing packet captures of the procedures (see the \"pcaps\" folder). Your task will be to analyze the packet captures and relate them to the theory presented in the lectures. You will also be provided with a discussion of the procedures that serves as an introduction to each task.\n",
    "\n",
    "Use the pictures as shown below, in order to better visualise protocols, entities and interfaces that are involved.\n",
    "\n",
    "<a id='UsefulPic'></a>\n",
    "<center>\n",
    "    <figure>\n",
    "        <img src= \"Figures/UsefulPic.PNG\" alt=\"first\" class=\"bg-primary mb-1\" width=\"1100px\">\n",
    "        <center>From <a href=\"#References\">[1]</a> and <a href=\"#References\">[4].</a></center>\n",
    "    </figure>\n",
    "</center>"
   ]
  },
  {
   "cell_type": "markdown",
   "metadata": {
    "jp-MarkdownHeadingCollapsed": true,
    "tags": []
   },
   "source": [
    "***\n",
    "# 2. Introduction to the capture files\n",
    "***\n",
    "\n",
    "The `X2Handover.pcap` is a large packet capture containing different information. One of the challenges when dealing with such files is to apply the correct filters, in order to reduce the number of packets to be analysed. By studying [picture 4a](#X2_Handover_1a) and [4b](#X2_Handover_1b) below, we can identify the necessary interfaces we need to study.\n",
    "\n",
    "> **NB:** RRC signaling is not present\n",
    "\n",
    "The `S1Handover.pcap` is a concise packet capture done on the S1 interface during a handover between two eNodeBs. The tasks will involve analysing the sequence of the procedure step-by-step.\n",
    "\n",
    "> **NB1:** only S1 interface capture is present.\n",
    "\n",
    "> **NB2:** there are two handover procedures in the same capture."
   ]
  },
  {
   "cell_type": "markdown",
   "metadata": {
    "tags": []
   },
   "source": [
    "*** \n",
    "# 3. X2 Handover: the procedure\n",
    "***\n",
    "\n",
    "\n",
    "<!-- To create a link to an image: [Sentence for the link](#id_of_pic) -->\n",
    "A Handover is a procedure where the User Equipment (UE) changes its source eNodeB (S-eNodeB or source eNB) to a neighbouring target eNodeB (T-eNodeB or target eNB) based on signal measurements. An X2 Handover is executed for a certain UE when at least two factors occur:\n",
    "- the UE receives stronger measurements from a neighbouring target eNode-B than the source eNode-B;\n",
    "- there is an existing X2 interface between the two eNodeBs. \n",
    "\n",
    "As depicted in [picture 4a](#X2_Handover_1a), the X2 interface ensures direct communication between two eNodeBs and for this reason this procedure is considered the most efficient handover type.    \n",
    "\n",
    "<a id='X2_Handover_1a'></a>\n",
    "<center>\n",
    "    <figure>\n",
    "        <img src= \"Figures/1a.PNG\" alt=\"first\" class=\"bg-primary mb-1\" width=\"800px\">\n",
    "        <center><figcaption><b>4a. X2 handover schematic view .</b> From <a href=\"#References\">[2].</a></figcaption></center>\n",
    "    </figure>\n",
    "</center>\n",
    "\n",
    "As shown in [picture 4b](#X2_Handover_1b), X2 handover can be divided into three steps <a href=\"#References\">[9]</a>:\n",
    "\n",
    "<a id='X2_Handover_1b'></a>\n",
    "<center>\n",
    "    <figure>\n",
    "        <img src= \"Figures/1b.PNG\" alt=\"first\" class=\"bg-primary mb-1\" width=\"800px\">\n",
    "        <center><figcaption><b>4b. X2 handover messages flows.</b> From <a href=\"#References\">[1].</a></figcaption></center>\n",
    "    </figure>\n",
    "</center>\n",
    "\n",
    "1. __Handover Preparation (Section 3.1)__: depending on uplink and downlinks measurements, the S-eNodeB decides to handover to T-eNodeB. The S-eNodeB asks to the T-eNodeB whether it has enough resources to cover a new UE. If so, the T-eNodeB replies to the S-eNodeB with an acknowledgement (note that the Evolved Packet Core, EPC, is not involved); \n",
    "\n",
    "2. __Handover Execution (Section 3.2)__: the S-eNodeB allows the UE to perform the contention-free Random Access Procedure towards the T-eNodeB. At the end of this step, all the downlink packets pass through the S-eNodeB to the T-eNodeB, while the uplink packets (when the Random Access Procedure is completed) are directly forwarded to the T-eNodeB (see [picture 8](#UL_DL_bearers_before_HO));\n",
    "\n",
    "3. __Handover Completion (Section 3.3)__: in this part, the MME says to the Serving-GW to no longer forwards the downlink packets towards the S-eNodeB, but towards the new one (S1 bearer change phase), in order to obtain the usual EPS bearer as shown in [picture 11](#UL_DL_bearers_after_HO). Furthermore, the S-eNodeB releases the resources previously assigned to the UE."
   ]
  },
  {
   "cell_type": "markdown",
   "metadata": {
    "tags": []
   },
   "source": [
    "***\n",
    "## 3.1. Handover Preparation\n",
    "\n",
    "<a id='X2HandoverPreparation'></a>\n",
    "<center>\n",
    "    <figure>\n",
    "        <img src= \"Figures/X2HandoverPreparation.PNG\" alt=\"first\" class=\"bg-primary mb-1\" width=\"400px\">\n",
    "        <figcaption><b>5. X2 Handover Preparation procedure.</b> From <a href=\"#References\">[1].</a></figcaption>\n",
    "    </figure>\n",
    "</center>\n",
    "\n",
    "- <u>Measurement Report</u>: The air interface (RRC protocol) is involved. The S-eNodeB sends the _Measurement Report Request_ message and its purpose is to instruct the UE to send a measurement report to the network as soon as it detects the thresholds. The UE sends all the required measurements regarding the Serving Cell (i.e., the camping cell where the Serving eNodeB is present) and for all the Neighbor Cells (i.e., the cells where the signal perceived by the UE is strong enough), like RSRP (Reference Signal Received Power) and RSRQ (Reference Signal Received Quality). By exploiting downlink measurements and uplink measurements the S-eNodeB makes the decision to carry on the handover to a T-eNodeB using a handover algorithm; \n",
    "\n",
    "> **NB**: please note that the supplier/vendor of the eNodeB could also have a its own handover algorithm.\n",
    "\n",
    "- <u>Handover Request</u>: The X2 interface (X2AP protocol) is involved. The S-eNodeB sends the request to the T-eNodeB passing the necessary information to prepare the handover at the target side (e.g., the Target Cell Id, the Globally Unique MME Identifier, GUMMEI, and the eRABs to be setup).\n",
    "\n",
    "- <u>Handover Request Ack</u>: The X2 interface (X2AP protocol) is involved. The T-eNodeB checks for resource availability and, if available, reserves the resources and sends back the acknowledgement message, including a transparent container to be sent to the UE as an RRC message. The container includes a new C-RNTI (Cell Radio Network Temporary Identifier), T-eNodeB security algorithm identifiers for the selected security algorithms, and may include a dedicated RACH preamble and possibly some other parameters. At this point, the X2 Transport Bearer for the UE downlink data is established, and used to forward the packets in the User Plane from S-eNodeB to T-eNodeB."
   ]
  },
  {
   "cell_type": "markdown",
   "metadata": {},
   "source": [
    "-------\n",
    "### **Interactive session:**\n",
    "-------"
   ]
  },
  {
   "cell_type": "markdown",
   "metadata": {},
   "source": [
    "Open the `X2Handover.pcap` file. In order to show only X2 interface packets, we have to filter the corresponding protocol, such as `x2ap`.\n",
    "\n",
    "**Try it now**.\n",
    "\n",
    "Using `Wireshark` and the \"Flow Graph\" functionality you should see something like the following picture:\n",
    "\n",
    "<center>\n",
    "    <figure>\n",
    "        <img src= \"Figures/HO_request_and_ack.PNG\" alt=\"first\" class=\"bg-primary mb-1\" width=\"400px\">\n",
    "    </figure>\n",
    "</center>\n",
    "\n",
    "> **NB:** if you are having issues with `Wireshark` and having too many packets, revisit lab2."
   ]
  },
  {
   "cell_type": "markdown",
   "metadata": {},
   "source": [
    "#### <u>Question 3.1a</u>:\n",
    "\n",
    "Identify the packet number of both *Handover Request* and *Handover Request Ack*. Write the answers in the following code block. Furthermore, write down the IP address of the T-eNodeB and the S-eNodeB."
   ]
  },
  {
   "cell_type": "code",
   "execution_count": 1,
   "metadata": {},
   "outputs": [],
   "source": [
    "HO_Request_and_ACK = {    \n",
    "    \"HO Request pkt num\": ,\n",
    "    \"HO Request Ack pkt num\": ,\n",
    "    \"S-eNodeB\": \"\",\n",
    "    \"T-eNodeB\": \"\",\n",
    "}"
   ]
  },
  {
   "cell_type": "markdown",
   "metadata": {
    "tags": []
   },
   "source": [
    "***\n",
    "## 3.2. Handover Execution\n",
    "\n",
    "<a id='X2HandoverExecution'></a>\n",
    "<center>\n",
    "    <figure>\n",
    "        <img src= \"Figures/X2HandoverExecution.PNG\" alt=\"first\" class=\"bg-primary mb-1\" width=\"900px\">\n",
    "        <figcaption><b>6. X2 Handover Execution procedure.</b> From <a href=\"#References\">[1].</a></figcaption>\n",
    "    </figure>\n",
    "</center>\n",
    "\n",
    "- <u>RRC Connection Reconfiguration</u>: the air interface (RRC protocol) is involved. The S-eNodeB sends the request to the UE to perform the handover (you can find `handoverType` as a field of this packet, which defines the type of handover). The S-eNodeB performs the necessary integrity protection and ciphering of the message and sends it to the UE.\n",
    "\n",
    "- <u>SN (Sequence Number) Status Transfer</u>: the X2 interface (X2AP protocol) is involved. The S-eNodeB sends the *eNodeB Status Transfer* message to the T-eNodeB to convey the PDCP (both UL and DL) of the eRABs. After this, the S-eNodeB stops sending the DL data to the UE, and starts sending it to the T-eNodeB through the X2 interface. The T-eNodeB has to buffer the downlink data since the UE hasn't completed the Random Access Procedure yet.\n",
    "\n",
    "- <u>Random Access Procedure</u>: the air interface (RRC protocol) is involved. The random access procedure is carried out with the T-eNodeB. There are two types of random access procedure: non-contention (or contention-free) and contention (discussed during the ___Attach Procedure - Section 3.1___). In the first one, present in both handover types, one of the 64 preambles is assigned to the UE. Hereafter, the two sequences are shown.\n",
    "\n",
    "<a id='Cont_and_NONCont_RACH'></a>\n",
    "<center>\n",
    "    <figure>\n",
    "        <img src= \"Figures/Cont_and_NONCont_RACH.PNG\" alt=\"first\" class=\"bg-primary mb-1\" width=\"600px\">\n",
    "        <figcaption><b>7. Different signaling between contention and contention-free random access procedure.</b> From <a href=\"#References\">[5].</a> </figcaption>\n",
    "    </figure>\n",
    "</center>\n",
    "\n",
    "**UL/DL data path after Handover Execution**: The S-eNodeB starts forwarding the downlink data packets to the T-eNodeB through the X2 interface for all the data bearers (which are being established in the T-eNodeB during the *Handover Request* message processing), and in the meanwhile, the UE sends to the T-eNodeB uplink data (since the Random Access Procedure is performed). [Picture 8](#UL_DL_bearers_before_HO) shows the involved bearers.\n",
    "\n",
    "<a id='UL_DL_bearers_before_HO'></a>\n",
    "<center>\n",
    "    <figure>\n",
    "        <img src= \"Figures/UL_DL_bearers_before_HO.PNG\" alt=\"first\" class=\"bg-primary mb-1\" width=\"900px\">\n",
    "        <figcaption><b>8. DL UE data forwarding to T-eNodeB and new UL UE data path: involved bearers.</b> From <a href=\"#References\">[2].</a></figcaption>\n",
    "    </figure>\n",
    "</center>"
   ]
  },
  {
   "cell_type": "markdown",
   "metadata": {
    "tags": []
   },
   "source": [
    "-------\n",
    "### **Interactive session:**\n",
    "-------"
   ]
  },
  {
   "cell_type": "markdown",
   "metadata": {},
   "source": [
    "#### <u>Question 3.2a</u>:\n",
    "\n",
    "Take a look at [picture 4a](#X2_Handover_1a) and [8](#UL_DL_bearers_before_HO). At this point, the UE is served by the T-eNodeB. Why can uplink packets be delivered by the T-eNodeB to the Serving-GW, but the downlink packets must be delivered by the Serving-GW to the S-eNodeB?\n",
    "\n",
    "> **Hint**: think about the messages exchanged until this point. What does Serving-GW know about the current handover procedure?"
   ]
  },
  {
   "cell_type": "markdown",
   "metadata": {},
   "source": [
    "<b>Answer:</b>"
   ]
  },
  {
   "cell_type": "markdown",
   "metadata": {},
   "source": [
    "#### <u>Question 3.2b</u>:\n",
    "\n",
    "As you know, in UMTS there are two types of handover: soft and hard. Explain why in LTE only hard handover can be managed, and why in UMTS both types are available.\n",
    "\n",
    "> **Hint**: think about which medium access protocols are involved. Furthermore, consider why orthogonality between the radio channels is so important."
   ]
  },
  {
   "cell_type": "markdown",
   "metadata": {},
   "source": [
    "<b>Answer:</b>"
   ]
  },
  {
   "cell_type": "markdown",
   "metadata": {},
   "source": [
    "#### <u>Question 3.2c</u>:\n",
    "\n",
    "Considering [picture 8](#UL_DL_bearers_before_HO), which is the main advantage of using contention-free based random access instead of the normal one?"
   ]
  },
  {
   "cell_type": "markdown",
   "metadata": {},
   "source": [
    "<b>Answer:</b>"
   ]
  },
  {
   "cell_type": "markdown",
   "metadata": {},
   "source": [
    "---\n",
    "## 3.3. Handover Completion\n",
    "\n",
    "<a id='X2HandoverCompletion'></a>\n",
    "<center>\n",
    "    <figure>\n",
    "        <img src= \"Figures/X2HandoverCompletion.PNG\" alt=\"first\" class=\"bg-primary mb-1\" width=\"900px\">\n",
    "        <figcaption><b>9. X2 Handover Completion procedure.</b> From <a href=\"#References\">[1].</a></figcaption>\n",
    "    </figure>\n",
    "</center>\n",
    "\n",
    "- <u>Path Switch Request</u>: The S1 interface (S1AP protocol) is involved. The purpose of the *Path Switch Request* message is to request the switch of a downlink GTP tunnel towards a new GTP tunnel endpoint (i.e., change the old S1 tunnel to the new one). The T-eNodeB informs the MME that the UE has changed cell, including the TAI (Tracking Area Identity) and ECGI (E-UTRAN Cell Global Identifier) of the target. The MME determines that the Serving-GW can continue to serve the UE.\n",
    "\n",
    "- <u>Modify Bearer Request</u>: already explained in the previous ***Attach Procedure - Section 3.3***.\n",
    "\n",
    "- <u>Modify Bearer Request Ack</u>: already explained in the previous ***Attach Procedure - Section 3.3***. After this, the Serving-GW sends one or more End Marker (EM) packets on the old path to the S-eNodeB and then can release any user plane resources towards the S-eNodeB. You can see the path of the EM packet in [picture 10](#EM).\n",
    "\n",
    "<a id='EM'></a>\n",
    "<center>\n",
    "    <figure>\n",
    "        <img src= \"Figures/EM.PNG\" alt=\"first\" class=\"bg-primary mb-1\" width=\"900px\">\n",
    "        <figcaption><b>10. EM packet path, in order to release the old path.</b> From <a href=\"#References\">[2].</a></figcaption>\n",
    "    </figure>\n",
    "</center>\n",
    "\n",
    "- <u>Path Switch Request Ack</u>: The S1 interface (S1AP protocol) is involved. The MME responds to the T-eNodeB notifying the completion of the handover.\n",
    "\n",
    "- <u>Release Resource</u>: The X2 interface (X2AP protocol) is involved. Called *UE Context Release* as well, it is sent by the T-eNodeB to the S-eNodeB: it communicates that user and control plane resources for the associated UE context are allowed to be released.\n",
    "\n",
    "**UL/DL data path after Handover Completion**: see if the EPS bearer is correctly created, considering the target eNodeB.\n",
    "\n",
    "\n",
    "<a id='UL_DL_bearers_after_HO'></a>\n",
    "<center>\n",
    "    <figure>\n",
    "        <img src= \"Figures/UL_DL_bearers_after_HO.PNG\" alt=\"first\" class=\"bg-primary mb-1\" width=\"900px\">\n",
    "        <figcaption><b>11. EPS bearer/s established after Handover Completion.</b> From <a href=\"#References\">[2].</a></figcaption>\n",
    "    </figure>\n",
    "</center>"
   ]
  },
  {
   "cell_type": "markdown",
   "metadata": {
    "tags": []
   },
   "source": [
    "-------\n",
    "### **Interactive session:**\n",
    "-------"
   ]
  },
  {
   "cell_type": "markdown",
   "metadata": {},
   "source": [
    "Open the `X2Handover.pcap` file. Use again the filters to visualize just `X2AP` packets."
   ]
  },
  {
   "cell_type": "markdown",
   "metadata": {},
   "source": [
    "#### <u>Question 3.3a</u>:\n",
    "\n",
    "Write down the *Release Resource* packet number. Write down the answer in the following code block."
   ]
  },
  {
   "cell_type": "code",
   "execution_count": 1,
   "metadata": {},
   "outputs": [],
   "source": [
    "ReleaseResource = {\n",
    "    \"packet numer\": \n",
    "}"
   ]
  },
  {
   "cell_type": "markdown",
   "metadata": {},
   "source": [
    "-------"
   ]
  },
  {
   "cell_type": "markdown",
   "metadata": {},
   "source": [
    "*** \n",
    "# 4. S1 Handover: the procedure\n",
    "***"
   ]
  },
  {
   "cell_type": "markdown",
   "metadata": {},
   "source": [
    "<a id='S1Handover'></a>\n",
    "<center>\n",
    "    <figure>\n",
    "        <img src= \"Figures/S1Handover.PNG\" alt=\"first\" class=\"bg-primary mb-1\" width=\"700px\">\n",
    "        <figcaption><b>12. S1 Handover procedure.</b> From <a href=\"#References\">[1].</a></figcaption>\n",
    "    </figure>\n",
    "</center>\n",
    "\n",
    "In an S1 Handover there is no direct connection (X2 interface) between the involved eNodeBs. Hence, the MME needs to be involved in the communication between the two entities. This communication is done over the S1 interface and is thus given its name. In general, an S1 Handover is executed only when there is no present X2 interface. Note that the UE does not experience any difference in whether an X2 or S1 Handover is performed.\n",
    "\n",
    "As for X2 Handover, we can indentify three phases:\n",
    "1. __Handover Preparation (Section 4.1);__\n",
    "2. __Handover Execution (Section 4.2);__\n",
    "3. __Handover Completion (Section 4.3).__ \n"
   ]
  },
  {
   "cell_type": "markdown",
   "metadata": {},
   "source": [
    "-------\n",
    "## **Interactive session:**\n",
    "-------"
   ]
  },
  {
   "cell_type": "markdown",
   "metadata": {},
   "source": [
    "### <u>Question 4a</u>:\n",
    "Explain the main differences between the S1 and X2 handovers, and in particular:\n",
    "- Which is the faster handover? Why?\n",
    "- What is the difference between intra-RAT and inter-RAT handover? Which types do S1 and X2 handovers support?"
   ]
  },
  {
   "cell_type": "markdown",
   "metadata": {},
   "source": [
    "<b>Answer:</b>"
   ]
  },
  {
   "cell_type": "markdown",
   "metadata": {},
   "source": [
    "### <u>Question 4b</u>:\n",
    "Open `S1Handover.pcap` and use the following filter to display only `S1AP` packets:\n",
    "\n",
    "__`s1ap`__\n",
    "\n",
    "\n",
    "Describe how the UE is moving through cell sectors. Where does it end up in comparison to the starting point?"
   ]
  },
  {
   "cell_type": "markdown",
   "metadata": {},
   "source": [
    "<b>Answer:</b>"
   ]
  },
  {
   "cell_type": "markdown",
   "metadata": {},
   "source": [
    "### <u>Question 4c</u>:\n",
    "Can any other LTE procedures be observed in the `S1Handover.pcap` file?"
   ]
  },
  {
   "cell_type": "markdown",
   "metadata": {},
   "source": [
    "<b>Answer:</b>"
   ]
  },
  {
   "cell_type": "markdown",
   "metadata": {},
   "source": [
    "***\n",
    "## 4.1. Handover Preparation\n",
    "\n",
    "<a id='S1HO_preparation'></a>\n",
    "<center>\n",
    "    <figure>\n",
    "        <img src= \"Figures/S1HO_preparation.PNG\" alt=\"first\" class=\"bg-primary mb-1\" width=\"700px\">\n",
    "        <figcaption><b>13. S1 Handover Preparation procedure.</b> From <a href=\"#References\">[1].</a></figcaption>\n",
    "    </figure>\n",
    "</center>\n",
    "\n",
    "- <u>Measurement Report</u>: see description on __X2 Handover__ notebook.\n",
    "\n",
    "- <u>1) Handover Request</u>: The S1 interface (S1AP protocol) is involved. Since there is no X2 interface among S-eNodeB and T-eNodeB (so that, direct forwarding is not an option), the source eNodeB decides to send the Handover Request to the MME. Depending on the TAI (Tracking Area ID) of the T-eNodeB, it's possible that the MME doesn't cover that base station: in this case the MME forwards the notification towards the corresponding MME covering the eNodeB. For the sake of simplicity, in our case the MME discovers that the T-eNodeB is covered. You can find target eNodeB Identity, the target TAI and the reason that triggered the handover procedure. Finally, you can find a transparent container in which there are some radio datas about the source cell.\n",
    "\n",
    "- <u>2) Handover Request</u>: The S1 interface (S1AP protocol) is involved. The MME forwards the Handover Request (generated by the S-eNodeB) towards the T-eNodeB. Hence, similar information are present. Furthermore, you can find the maximum aggregated bit-rate and a transparent container including the UE Capabilities, RRC Configuration, etc.\n",
    "\n",
    "- <u>Handover Request Ack</u>: The S1 interface (S1AP protocol) is involved. The T-eNodeB allows the handover procedure to keep on going. You can find an EPS Bearer Setup List, that contains a list of addresses and TEIDs (one TEID per bearer) for downlink traffic between Serving-GW and T-eNodeB (S1-U reference point): one DL S1 TEID that the T-eNodeB allocated to the Serving-GW, and one DL S1 TEID that is referred to the indirect tunnel to reach the T-eNodeB. Furthermore, a transparent container is present, where the Handover Command message is carried. \n",
    "\n",
    "- <u>Create Indirect Forward Tunnel Request and Ack</u>: The S11 interface (GTPv2 protocol) is involved. The MME aks the Serving-GW to create a temporary tunnel between S-eNodeB and T-eNodeB. When the handover procedure will be completed, the tunnel must be eliminated. As a consequence, the Serving-GW confirms the creation of the tunnel, and the S-eNodeB can forward downlink data towards the new base station.\n",
    "\n",
    "- <u>Handover Command</u>: The S1 interface (S1AP protocol) is involved. The MME informs S-eNodeB that the resources for the handover have been prepared at the target side (T-eNodeB). You can find the transparent container, where you can find radio related information through the EPC (Evolved Packet Core). You can find the dedicated resources to the UE in order to carry out the contention-free based random access procedure.\n"
   ]
  },
  {
   "cell_type": "markdown",
   "metadata": {},
   "source": [
    "-------\n",
    "### **Interactive session:**\n",
    "-------"
   ]
  },
  {
   "cell_type": "markdown",
   "metadata": {},
   "source": [
    "Open `S1Handover.pcap`. After this, you can use a filter to display only `S1AP` packets.\n",
    "\n",
    "In this task, you must discover the handover execution sequence. Use the capture file and navigate to a view similar to this:\n",
    "<center>\n",
    "    <figure>\n",
    "        <img src= \"Figures/HO_preparation_pcap.PNG\" alt=\"first\" class=\"bg-primary mb-1\" width=\"600px\">\n",
    "    </figure>\n",
    "</center>"
   ]
  },
  {
   "cell_type": "markdown",
   "metadata": {},
   "source": [
    "#### <u>Question 4.1a</u>:\n",
    "\n",
    "Write down the IP of S-eNodeB, T-eNodeB and MME of the first handover."
   ]
  },
  {
   "cell_type": "code",
   "execution_count": 3,
   "metadata": {},
   "outputs": [],
   "source": [
    "S1Interface_entities = {\n",
    "    \"S-eNodeB IP\": \"\",\n",
    "    \"MME IP\" \"\": ,\n",
    "    \"T-eNodeB IP\": \"\" \n",
    "}"
   ]
  },
  {
   "cell_type": "markdown",
   "metadata": {
    "tags": []
   },
   "source": [
    "#### <u>Question 4.1b</u>:\n",
    "\n",
    "Write down the maximum bit-rate both for downlink and uplink traffic."
   ]
  },
  {
   "cell_type": "code",
   "execution_count": 4,
   "metadata": {},
   "outputs": [],
   "source": [
    "uEaggregateMaximumBitRate = {\n",
    "    \"uEaggregateMaximumBitRateDL\": , #bit/s\n",
    "    \"uEaggregateMaximumBitRateUL\":   #bit/s\n",
    "}"
   ]
  },
  {
   "cell_type": "markdown",
   "metadata": {
    "tags": []
   },
   "source": [
    "#### <u>Question 4.1c</u>:\n",
    "\n",
    "As depicted in [picture 7](#Cont_and_NONCont_RACH), the non-contention based random access procedure is exploited to reduce the delay introduced by the handover process. To do so, the T-eNodeB assigns to the UE a preamble, that consists of a sequence of bits and it is used for synchronization and identification of the mobile device. Write down the index of the assigned preamble to the UE. Furthermore, report the packet number where you find it.\n",
    "\n",
    "> **Hint**: as already discussed, the transparent container is used to deliver radio related information through the EPC. Where can you find it?"
   ]
  },
  {
   "cell_type": "code",
   "execution_count": 2,
   "metadata": {},
   "outputs": [],
   "source": [
    "preamble_id = {\n",
    "    \"ra-PreambleIndex\": , \n",
    "    \"packet number\":  \n",
    "}"
   ]
  },
  {
   "cell_type": "markdown",
   "metadata": {
    "tags": []
   },
   "source": [
    "#### <u>Question 4.1d</u>:\n",
    "\n",
    "Why can we not see the creation of the Indirect Forward Tunnel between the MME and the Serving-GW? What interface is the captured file monitored on?"
   ]
  },
  {
   "cell_type": "markdown",
   "metadata": {},
   "source": [
    "<b>Answer:</b>"
   ]
  },
  {
   "cell_type": "markdown",
   "metadata": {
    "tags": []
   },
   "source": [
    "#### <u>Question 4.1e</u>:\n",
    "\n",
    "Write down the Cell-ID of the T-eNodeB and the PLMN identity for the first handover. In which packet can you first observe the Cell-ID (write down the packet number)?\n",
    "\n",
    "> **Hint:** Look for `targetCell-ID`"
   ]
  },
  {
   "cell_type": "code",
   "execution_count": 6,
   "metadata": {},
   "outputs": [],
   "source": [
    "Cell_ID = {\n",
    "    \"cell-id\": \"\",\n",
    "    \"plmn-id\": \"\",\n",
    "    \"packet numer\": \n",
    "}"
   ]
  },
  {
   "cell_type": "markdown",
   "metadata": {},
   "source": [
    "#### <u>Question 4.1f</u>:\n",
    "\n",
    "Do S-eNodeB and T-eNodeB belong to the same PLMN and how they identified this? Discuss your answer."
   ]
  },
  {
   "cell_type": "markdown",
   "metadata": {},
   "source": [
    "<b>Answer:</b>"
   ]
  },
  {
   "cell_type": "markdown",
   "metadata": {
    "tags": []
   },
   "source": [
    "#### <u>Question 4.1g</u>:\n",
    "\n",
    "What is the Tracking Area Identity (TAI) List and what is the importance in relation to handovers? Is it possible to identify the TAI List in the packet capture? If so, identify the elements comprising the TAI, write down the values and where you found them."
   ]
  },
  {
   "cell_type": "markdown",
   "metadata": {},
   "source": [
    "<b>Answer:</b>"
   ]
  },
  {
   "cell_type": "markdown",
   "metadata": {},
   "source": [
    "***\n",
    "## 4.2. Handover execution\n",
    "\n",
    "<a id='S1HO_execution'></a>\n",
    "<center>\n",
    "    <figure>\n",
    "        <img src= \"Figures/S1HO_execution.PNG\" alt=\"first\" class=\"bg-primary mb-1\" width=\"800px\">\n",
    "        <figcaption><b>14. S1 Handover Execution procedure.</b> From <a href=\"#References\">[1].</a></figcaption>\n",
    "    </figure>\n",
    "</center>\n",
    "\n",
    "- <u>RRC Connection Reconfiguration</u>: see description on __X2 Handover__.\n",
    "\n",
    "- <u>eNodeB Status Transfer</u>: The S1 interface (S1AP protocol) is involved. The message is generated by the S-eNodeB and sent to the T-eNodeB, passing through the MME. It includes for each of the E-RABs a DL Count and a UL Count, where the former corresponds to the count of the first packet to send to the UE, and the latter corresponds to the packet to receive from the UE. A count is a 32-bit value consisting of Hyper Frame Number (HFN) and PDCP Sequence Number (SN).\n",
    "\n",
    "- <u>Random Access Procedure</u>: see description on __X2 Handover__.\n",
    "\n",
    "- **UL/DL data path**: hereafter, you can see the user plane since this point.\n",
    "\n",
    "<a id='UL_DL_traffic_flow_temp_tunnel_S1_HO'></a>\n",
    "<center>\n",
    "    <figure>\n",
    "        <img src= \"Figures/UL_DL_traffic_flow_temp_tunnel_S1_HO.PNG\" alt=\"first\" class=\"bg-primary mb-1\" width=\"900px\">\n",
    "        <figcaption><b>15. EPS bearer/s established after Handover Completion.</b> From <a href=\"#References\">[2].</a></figcaption>\n",
    "    </figure>\n",
    "</center>"
   ]
  },
  {
   "cell_type": "markdown",
   "metadata": {
    "tags": []
   },
   "source": [
    "-------\n",
    "### **Interactive session:**\n",
    "-------"
   ]
  },
  {
   "cell_type": "markdown",
   "metadata": {},
   "source": [
    "In this task, you must discover the handover execution sequence. Use the `S1Handover.pcap` file and navigate to a view similar to this:\n",
    "\n",
    "<center>\n",
    "    <figure>\n",
    "        <img src= \"Figures/HO_execution_pcap.PNG\" alt=\"first\" class=\"bg-primary mb-1\" width=\"600px\">\n",
    "    </figure>\n",
    "</center>"
   ]
  },
  {
   "cell_type": "markdown",
   "metadata": {},
   "source": [
    "#### <u>Question 4.2a</u>:\n",
    "\n",
    "Write down the uplink and downlink count values (where `pDCP-SN` and `hFN` stand for PDCP SN and HFN respectively). "
   ]
  },
  {
   "cell_type": "code",
   "execution_count": 7,
   "metadata": {},
   "outputs": [],
   "source": [
    "ul_COUNTvalue = {\n",
    "    \"pDCP-SN\": ,\n",
    "    \"hFN\": \n",
    "}\n",
    "\n",
    "dl_COUNTvalue = {\n",
    "    \"pDCP-SN\": ,\n",
    "    \"hFN\": \n",
    "}"
   ]
  },
  {
   "cell_type": "markdown",
   "metadata": {},
   "source": [
    "#### <u>Question 4.2b</u>:\n",
    "\n",
    "Is it possible for the eNodeB to send an uplink with PDCP SN equal to 9? "
   ]
  },
  {
   "cell_type": "markdown",
   "metadata": {},
   "source": [
    "<b>Answer:</b>"
   ]
  },
  {
   "cell_type": "markdown",
   "metadata": {},
   "source": [
    "#### <u>Question 4.2c</u>:\n",
    "\n",
    "Why is it necessary to transfer the packet counter from the S-eNodeB to the T-eNodeB? Furthermore, explain how it is performed in an X2 handover. "
   ]
  },
  {
   "cell_type": "markdown",
   "metadata": {},
   "source": [
    "<b>Answer:</b>"
   ]
  },
  {
   "cell_type": "markdown",
   "metadata": {
    "tags": []
   },
   "source": [
    "---\n",
    "## 4.3. Handover Completion\n",
    "\n",
    "<a id='S1HO_completion'></a>\n",
    "<center>\n",
    "    <figure>\n",
    "        <img src= \"Figures/S1HO_completion.PNG\" alt=\"first\" class=\"bg-primary mb-1\" width=\"800px\">\n",
    "        <figcaption><b>16. S1 Handover Completion procedure.</b> From <a href=\"#References\">[1].</a></figcaption>\n",
    "    </figure>\n",
    "</center>\n",
    "\n",
    "- <u>Handover Notify</u>: The S1 interface (S1AP protocol) involved. After the UE has carried out the random access procedure, the T-eNodeB informs the EPC (i.e. the MME) that the S1 handover is finished. The message includes the ECGI (E-UTRAN Cell Global Identifier) and TAI.\n",
    "\n",
    "- <u>Modify Bearer Request and Response</u>: see description on __Attach Procedure__.\n",
    "\n",
    "- <u>UE Context Release and Ack</u>: The S1 interface (S1AP protocol) involved. MME informs S-eNodeB to release the resources (S1 bearer and indirect tunnel. See [picture 10](#UL_DL_traffic_flow_temp_tunnel_S1_HO), the S1 Bearer for Indirect Forwarding (UL)) used in the S1 interface and UE Context. Hence, S-eNodeB releases the resources and informs the MME by sending the Ack.\n",
    "\n",
    "- <u>Deletion Indirect Tunnel and Response</u>: The S11 interface (GTPv2 protocol) involved. The MME asks the Serving-GW to release the indirect tunnel (see [picture 10](#UL_DL_traffic_flow_temp_tunnel_S1_HO), the S1 Bearer for Indirect Forwarding (DL)), and finally it replies with Ack after releasing the resources."
   ]
  },
  {
   "cell_type": "markdown",
   "metadata": {
    "tags": []
   },
   "source": [
    "-------\n",
    "### **Interactive session:**\n",
    "-------"
   ]
  },
  {
   "cell_type": "markdown",
   "metadata": {},
   "source": [
    "In this task, you must discover the handover execution sequence. Use the `S1Handover.pcap` file and find something similar as shown hereafter:\n",
    "<center>\n",
    "    <figure>\n",
    "        <img src= \"Figures/HO_completion_pcap.PNG\" alt=\"first\" class=\"bg-primary mb-1\" width=\"600px\">\n",
    "    </figure>\n",
    "</center>"
   ]
  },
  {
   "cell_type": "markdown",
   "metadata": {
    "tags": []
   },
   "source": [
    "#### <u>Question 4.3a</u>:\n",
    "\n",
    "Write down the packet number of each of the displayed packets for the first handover."
   ]
  },
  {
   "cell_type": "code",
   "execution_count": 8,
   "metadata": {},
   "outputs": [],
   "source": [
    "S1_HO_Completion = {\n",
    "    \"Handover Notify\" : ,\n",
    "    \"UE Context Release Command\" : ,\n",
    "    \"UE Context Release Command Ack\" : \n",
    "}"
   ]
  },
  {
   "cell_type": "markdown",
   "metadata": {},
   "source": [
    "-------"
   ]
  },
  {
   "cell_type": "markdown",
   "metadata": {
    "tags": []
   },
   "source": [
    "# References\n",
    "\n",
    "[1] \"From GSM to LTE-Advanced Pro and 5G, An introduction to Mobile Networks and Mobile Broadband\", Martin Sauter, 4th Edition, 2021\n",
    "\n",
    "[2] \"LTE X2 Handover Call Flow Procedure\", Prashant Panigrahi, Online: https://www.3glteinfo.com/intra-lte-handover-using-x2-interface (Accessed on 06/01/2023)\n",
    "\n",
    "[3] NETMANIAS, Online: https://netmanias.com/en/ (Accessed on 08/01/2023)\n",
    "\n",
    "[4] \"4G\", Antonio Capone, Online: http://www.antlab.polimi.it/teaching-capone/wireless-networks, Politecnico di Milano, 2020\n",
    "\n",
    "[5] \"Non-contention vs Contention Access procedure in LTE\", Teletopix, Online: https://teletopix.org/4g-lte/non-contention-vs-contention-access-procedure-in-lte/ (Accessed on 08/01/2023)\n",
    "\n",
    "[6] \"LTE X2 handover sequence diagram\", EventHelix.com Inc., Online: https://www.eventhelix.com/lte/handover/x2/ (Accessed on 08/01/2023)\n",
    "\n",
    "[7] \"X2 Handover Messaging Presentation\", EventHelix.com Inc., Online: https://www.eventhelix.com/lte/handover/LTE-X2-Handover-Messaging.pdf (Accessed on 08/01/2023)\n",
    "\n",
    "[8] \"LTE S1 Handover Flow\", EventHelix.com Inc., Online: https://www.eventhelix.com/lte/handover/s1/ (Accessed on 08/01/2023)\n",
    "\n",
    "[9] \"LTE X2 Handover\", NMC Consulting Group, Online: https://www.3glteinfo.com/wp-content/uploads/2013/12/NMC.LTE-X2-Handover.v1.0.pdf (Accessed on 08/01/2023)"
   ]
  }
 ],
 "metadata": {
  "kernelspec": {
   "display_name": "Python 3 (ipykernel)",
   "language": "python",
   "name": "python3"
  },
  "language_info": {
   "codemirror_mode": {
    "name": "ipython",
    "version": 3
   },
   "file_extension": ".py",
   "mimetype": "text/x-python",
   "name": "python",
   "nbconvert_exporter": "python",
   "pygments_lexer": "ipython3",
   "version": "3.10.6"
  },
  "toc-autonumbering": false
 },
 "nbformat": 4,
 "nbformat_minor": 4
}
